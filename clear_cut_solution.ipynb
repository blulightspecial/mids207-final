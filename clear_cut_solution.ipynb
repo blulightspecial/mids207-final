{
 "cells": [
  {
   "cell_type": "markdown",
   "metadata": {},
   "source": [
    "# Forest Cover Type Prediction\n",
    "\n",
    "#### Team: Clear-Cut Solution: Kevin Martin, Yang Jing, Justine Schabel\n",
    "\n",
    "This notebook documents the model development, evaluation and final testing process. \n",
    "\n",
    "In each section, we included a flowchart to summarize the feature engineering applied and modeling processes. \n",
    "\n",
    "We experimented with different algorithms, including:\n",
    "\n",
    "* KNN \n",
    "* Random Forest \n",
    "* Logistic Regression\n",
    "* Adaboost\n",
    "* Gradient Boosting(XGBoost)\n",
    "* Neural Networks(MLP/tensorflow). \n",
    "\n",
    "To make the computing environment portable and enable collaboration among team members, we created a docker container `kmartcontainers/207final` which based on the image `jupyter/tensorflow-notebook` that is put out by the  Jupyter development team. Details about the container are documented in the `comp_setup/ComputeSetup.md` file. "
   ]
  },
  {
   "cell_type": "markdown",
   "metadata": {},
   "source": [
    "## Introduction"
   ]
  },
  {
   "cell_type": "markdown",
   "metadata": {},
   "source": [
    "### Data Background\n",
    "\n",
    "This project was from a Kaggle competition closed in 2014. \n",
    "[Data Source](https://www.kaggle.com/c/forest-cover-type-prediction/data)\n",
    "\n",
    "The objective is to classify trees from four wilderness areas located in the Roosevelt National Forest of northern Colorado. Each observation is a 30m x 30m patch. The \"labels\" are seven \"cover types\". They are: \n",
    "\n",
    "1. Spruce/Fir\n",
    "2. Lodgepole Pine\n",
    "3. Ponderosa Pine\n",
    "4. Cottonwood/Willow\n",
    "5. Aspen\n",
    "6. Douglas-fir\n",
    "7. Krummholz\n",
    "\n",
    "The training set (15120 observations) contains both features and labels. The test set contains only the features. Compared to the training set, the test set is very large with 565892 observations. \n",
    "\n",
    "There are 54 features, including 40 soil types (binary indicators for soil features), 4 wilderness areas (binary), and 10 numerical features, such as elevation, slope, aspects and distances to certain points.\n",
    "\n",
    "### Confusing Cover Types and Tuned Sub-Models\n",
    "\n",
    "Our EDA and initial modeling revealed that some \"cover types\" appear to be easy to confuse, such as \"spruce/fir\" and \"lodgepole pine\". We confirmed this suspicion by performing exploratory data analysis first. Our EDA is documented in the \"explanatory_data_analysis\" notebook. To improve model performance, we need to find a way to better differentiate between type 1 and 2. \n",
    "\n",
    "Due to the higher confusion rate between type 1 and type 2 trees and between type 3 and 6 trees, we performed a separate training on these 2 subsets. We also performed other feature engineering steps, which include scaling numerical features, power-transformation of \"elevation\" and dropping some less frequent soil types or \"distance\" related features. In addition, dFor better organization of the code, we saved all the feature engineering functions under a separate module, called \"feature_engineering.py\".\n",
    "\n",
    "Without separate training, the accuracy for \"dev data'' from both MLP and XGBoost was already in 84%-86% range. With separately trained sub-models, the accuracy for \"dev data'' from both MLP and XGBoost models was above 90%. However, when applied to the \"testing data'', the accuracy dropped to 74%. We suspect that it's mainly due to the small training data size,and the model is overfitting. To include more observations in the training data, we used 90/10 split instead of 80/20. And, to counter the impact of overfitting, we used \"max_depth=1\" in training the Random Forest model. While this decreased the Random Forest model accuracy for the dev data to 40%, it works well in our manual ensemble to serve as a dissenting vote. Our final model is based on a manual ensemble where we take the majority vote of the predictions from the top 5 performing algorithms (KNN, Random Forest, Adaboost, XGBoost and MLP) for this use case. Where there is a tie, we took the prediction from the XGboost model. This manual ensemble model is documented in the \"model.py\" file.  In the end, we achieved over 94% accuracy on the dev data and over 76% accuracy on the testing data. \n",
    "\n",
    "### Training vs Test Data\n",
    "\n",
    "We quickly noticed that the training data size is less than 3% of the testing data. We might not have enough diversity in the training data to predict the labels for testing data. Indeed, it appears that the test data set is fairly skewed to cover types 1 and 2, which we have noted are very difficult to distinguish between.\n",
    "\n",
    "We also noticed that 100% accuracy was achieved in this Kaggle competition previously, but that appeared to due to a \"cheat\" already known to the Kaggle team ([link](https://www.kaggle.com/c/forest-cover-type-prediction/discussion/11512)). As such, our objective is not to obsess over the accuracy of the \"testing data\", but to explore which classification algorithm and/or process works best for the dataset. "
   ]
  },
  {
   "cell_type": "markdown",
   "metadata": {},
   "source": [
    "## Initial Setup\n",
    "#### Import Required Libraries"
   ]
  },
  {
   "cell_type": "code",
   "execution_count": 1,
   "metadata": {},
   "outputs": [],
   "source": [
    "# Surpress warning messages\n",
    "import warnings\n",
    "warnings.filterwarnings(\"ignore\")\n",
    "\n",
    "# This tells matplotlib not to try opening a new window for each plot.\n",
    "%matplotlib inline\n",
    "\n",
    "# Libraries for reading, cleaning and plotting the dataa\n",
    "import pandas as pd \n",
    "import matplotlib.pyplot as plt\n",
    "plt.style.use('seaborn')\n",
    "import seaborn as sns\n",
    "import numpy as np\n",
    "\n",
    "# Feature Engineering was written by the team \n",
    "import feature_engineering as fe\n",
    "\n",
    "# Models was written by the team \n",
    "import models \n",
    "\n",
    "from sklearn.metrics import mean_squared_error\n",
    "from sklearn.metrics import accuracy_score\n",
    "from sklearn.neural_network import MLPClassifier\n",
    "from sklearn.metrics import plot_confusion_matrix\n",
    "import xgboost as xg\n",
    "\n",
    "# So we can reload packages without restarting the kernel\n",
    "import importlib"
   ]
  },
  {
   "cell_type": "code",
   "execution_count": 2,
   "metadata": {},
   "outputs": [
    {
     "data": {
      "text/plain": [
       "<module 'feature_engineering' from '/home/jovyan/work/feature_engineering.py'>"
      ]
     },
     "execution_count": 2,
     "metadata": {},
     "output_type": "execute_result"
    }
   ],
   "source": [
    "# If you update the feature_engineering package, run this line so it updates without needing to restart the kernel\n",
    "importlib.reload(fe)"
   ]
  },
  {
   "cell_type": "code",
   "execution_count": 3,
   "metadata": {},
   "outputs": [
    {
     "name": "stdout",
     "output_type": "stream",
     "text": [
      "Requirement already satisfied: xgboost in /opt/conda/lib/python3.8/site-packages (1.2.1)\n",
      "Requirement already satisfied: scipy in /opt/conda/lib/python3.8/site-packages (from xgboost) (1.5.3)\n",
      "Requirement already satisfied: numpy in /opt/conda/lib/python3.8/site-packages (from xgboost) (1.18.5)\n"
     ]
    }
   ],
   "source": [
    "# Run this cell to intal xgboost if you are using the container.\n",
    "!pip install xgboost"
   ]
  },
  {
   "cell_type": "markdown",
   "metadata": {},
   "source": [
    "#### Load Data"
   ]
  },
  {
   "cell_type": "code",
   "execution_count": 4,
   "metadata": {},
   "outputs": [],
   "source": [
    "# Read in training data \n",
    "train_df = pd.read_csv(\"data/train.csv\")"
   ]
  },
  {
   "cell_type": "markdown",
   "metadata": {},
   "source": [
    "## Feature Engineering \n",
    "\n",
    "Overall Data Pipeline\n",
    "<img src=\"data/data_pipeline.png\">\n",
    "\n",
    "\n",
    "The following transformations were made in the function below. \n",
    "\n",
    "#### Transform Hillshade\n",
    "- Now we'll normalize the \"Hillsdale\" variables by dividing them by 255. The hillshade variables contain index of shades with a value between 0 and 255. \n",
    "\n",
    "#### Drop rare or non-existant soil types \n",
    "- Now we'll drop soil types that don't exist in the training set. \n",
    "\n",
    "#### Combine soil types \n",
    "- We will combine soil types 35, 38, 39 and 40 because they have a very similar distribution. \n",
    "\n",
    "#### Transform Aspect\n",
    "- The Aspect is expressed in degrees. 0 degrees and 360 degrees is the same thing but represented differently. This may contribute to the poor distinction among the lables. We'll extract the sine and cosine values to normalize this feature. \n",
    "\n",
    "#### Log transformations\n",
    "- Per EDA, we noticed the distribution of the \"distance\" related variables are skewed. Now we'll log transform the features related to the distances to make the distribution smoother, and thus decrease the variances of the predictions.\n",
    "\n",
    "#### Add polynomial features\n",
    "- Per EDA, Elevation is a numerical variable and there is a clearer distinciton in Elevation among the dependenet variable, cover type. To imporve the signal, we sqaured Elevation. \n",
    "\n",
    "#### Drop irrelevant or problematic features\n",
    "- We'll drop \"Id\" because it does not provide any meaning in the classifications.\n",
    "- We'll drop \"Hillshade_9am\" because it has a high correlation with \"Aspect\" and \"Hillshade_3pm\".\n",
    "- We'll also drop \"Vertical_Distance_To_Hydrology\" because it does not show much distinction among the \"Cover Types\" and has a very skewed distribution, with negative values in some cases. The variable offers little insight and there might be data issues in this variable. \n"
   ]
  },
  {
   "cell_type": "code",
   "execution_count": 5,
   "metadata": {},
   "outputs": [
    {
     "data": {
      "text/html": [
       "<div>\n",
       "<style scoped>\n",
       "    .dataframe tbody tr th:only-of-type {\n",
       "        vertical-align: middle;\n",
       "    }\n",
       "\n",
       "    .dataframe tbody tr th {\n",
       "        vertical-align: top;\n",
       "    }\n",
       "\n",
       "    .dataframe thead th {\n",
       "        text-align: right;\n",
       "    }\n",
       "</style>\n",
       "<table border=\"1\" class=\"dataframe\">\n",
       "  <thead>\n",
       "    <tr style=\"text-align: right;\">\n",
       "      <th></th>\n",
       "      <th>Elevation</th>\n",
       "      <th>Slope</th>\n",
       "      <th>Horizontal_Distance_To_Hydrology</th>\n",
       "      <th>Horizontal_Distance_To_Roadways</th>\n",
       "      <th>Hillshade_Noon</th>\n",
       "      <th>Hillshade_3pm</th>\n",
       "      <th>Horizontal_Distance_To_Fire_Points</th>\n",
       "      <th>Wilderness_Area1</th>\n",
       "      <th>Wilderness_Area2</th>\n",
       "      <th>Wilderness_Area3</th>\n",
       "      <th>...</th>\n",
       "      <th>Cover_Type</th>\n",
       "      <th>soil_type35383940</th>\n",
       "      <th>st10111617</th>\n",
       "      <th>st912</th>\n",
       "      <th>st3133</th>\n",
       "      <th>st2324</th>\n",
       "      <th>st6w4</th>\n",
       "      <th>ap_ew</th>\n",
       "      <th>ap_ns</th>\n",
       "      <th>Elevation_squared</th>\n",
       "    </tr>\n",
       "  </thead>\n",
       "  <tbody>\n",
       "    <tr>\n",
       "      <th>0</th>\n",
       "      <td>2596</td>\n",
       "      <td>3</td>\n",
       "      <td>5.556828</td>\n",
       "      <td>6.236370</td>\n",
       "      <td>0.909804</td>\n",
       "      <td>0.580392</td>\n",
       "      <td>8.745125</td>\n",
       "      <td>1</td>\n",
       "      <td>0</td>\n",
       "      <td>0</td>\n",
       "      <td>...</td>\n",
       "      <td>5</td>\n",
       "      <td>0</td>\n",
       "      <td>0</td>\n",
       "      <td>0</td>\n",
       "      <td>0</td>\n",
       "      <td>0</td>\n",
       "      <td>0</td>\n",
       "      <td>0.777146</td>\n",
       "      <td>0.629320</td>\n",
       "      <td>6739216</td>\n",
       "    </tr>\n",
       "    <tr>\n",
       "      <th>1</th>\n",
       "      <td>2590</td>\n",
       "      <td>2</td>\n",
       "      <td>5.361292</td>\n",
       "      <td>5.968708</td>\n",
       "      <td>0.921569</td>\n",
       "      <td>0.592157</td>\n",
       "      <td>8.736489</td>\n",
       "      <td>1</td>\n",
       "      <td>0</td>\n",
       "      <td>0</td>\n",
       "      <td>...</td>\n",
       "      <td>5</td>\n",
       "      <td>0</td>\n",
       "      <td>0</td>\n",
       "      <td>0</td>\n",
       "      <td>0</td>\n",
       "      <td>0</td>\n",
       "      <td>0</td>\n",
       "      <td>0.829038</td>\n",
       "      <td>0.559193</td>\n",
       "      <td>6708100</td>\n",
       "    </tr>\n",
       "    <tr>\n",
       "      <th>2</th>\n",
       "      <td>2804</td>\n",
       "      <td>9</td>\n",
       "      <td>5.594711</td>\n",
       "      <td>8.064951</td>\n",
       "      <td>0.933333</td>\n",
       "      <td>0.529412</td>\n",
       "      <td>8.719644</td>\n",
       "      <td>1</td>\n",
       "      <td>0</td>\n",
       "      <td>0</td>\n",
       "      <td>...</td>\n",
       "      <td>2</td>\n",
       "      <td>0</td>\n",
       "      <td>0</td>\n",
       "      <td>1</td>\n",
       "      <td>0</td>\n",
       "      <td>0</td>\n",
       "      <td>0</td>\n",
       "      <td>0.656059</td>\n",
       "      <td>-0.754710</td>\n",
       "      <td>7862416</td>\n",
       "    </tr>\n",
       "    <tr>\n",
       "      <th>3</th>\n",
       "      <td>2785</td>\n",
       "      <td>18</td>\n",
       "      <td>5.493061</td>\n",
       "      <td>8.036250</td>\n",
       "      <td>0.933333</td>\n",
       "      <td>0.478431</td>\n",
       "      <td>8.734238</td>\n",
       "      <td>1</td>\n",
       "      <td>0</td>\n",
       "      <td>0</td>\n",
       "      <td>...</td>\n",
       "      <td>2</td>\n",
       "      <td>0</td>\n",
       "      <td>0</td>\n",
       "      <td>0</td>\n",
       "      <td>0</td>\n",
       "      <td>0</td>\n",
       "      <td>0</td>\n",
       "      <td>0.422618</td>\n",
       "      <td>-0.906308</td>\n",
       "      <td>7756225</td>\n",
       "    </tr>\n",
       "    <tr>\n",
       "      <th>4</th>\n",
       "      <td>2595</td>\n",
       "      <td>2</td>\n",
       "      <td>5.036953</td>\n",
       "      <td>5.971262</td>\n",
       "      <td>0.917647</td>\n",
       "      <td>0.588235</td>\n",
       "      <td>8.727940</td>\n",
       "      <td>1</td>\n",
       "      <td>0</td>\n",
       "      <td>0</td>\n",
       "      <td>...</td>\n",
       "      <td>5</td>\n",
       "      <td>0</td>\n",
       "      <td>0</td>\n",
       "      <td>0</td>\n",
       "      <td>0</td>\n",
       "      <td>0</td>\n",
       "      <td>0</td>\n",
       "      <td>0.707107</td>\n",
       "      <td>0.707107</td>\n",
       "      <td>6734025</td>\n",
       "    </tr>\n",
       "  </tbody>\n",
       "</table>\n",
       "<p>5 rows × 55 columns</p>\n",
       "</div>"
      ],
      "text/plain": [
       "   Elevation  Slope  Horizontal_Distance_To_Hydrology  \\\n",
       "0       2596      3                          5.556828   \n",
       "1       2590      2                          5.361292   \n",
       "2       2804      9                          5.594711   \n",
       "3       2785     18                          5.493061   \n",
       "4       2595      2                          5.036953   \n",
       "\n",
       "   Horizontal_Distance_To_Roadways  Hillshade_Noon  Hillshade_3pm  \\\n",
       "0                         6.236370        0.909804       0.580392   \n",
       "1                         5.968708        0.921569       0.592157   \n",
       "2                         8.064951        0.933333       0.529412   \n",
       "3                         8.036250        0.933333       0.478431   \n",
       "4                         5.971262        0.917647       0.588235   \n",
       "\n",
       "   Horizontal_Distance_To_Fire_Points  Wilderness_Area1  Wilderness_Area2  \\\n",
       "0                            8.745125                 1                 0   \n",
       "1                            8.736489                 1                 0   \n",
       "2                            8.719644                 1                 0   \n",
       "3                            8.734238                 1                 0   \n",
       "4                            8.727940                 1                 0   \n",
       "\n",
       "   Wilderness_Area3  ...  Cover_Type  soil_type35383940  st10111617  st912  \\\n",
       "0                 0  ...           5                  0           0      0   \n",
       "1                 0  ...           5                  0           0      0   \n",
       "2                 0  ...           2                  0           0      1   \n",
       "3                 0  ...           2                  0           0      0   \n",
       "4                 0  ...           5                  0           0      0   \n",
       "\n",
       "   st3133  st2324  st6w4     ap_ew     ap_ns  Elevation_squared  \n",
       "0       0       0      0  0.777146  0.629320            6739216  \n",
       "1       0       0      0  0.829038  0.559193            6708100  \n",
       "2       0       0      0  0.656059 -0.754710            7862416  \n",
       "3       0       0      0  0.422618 -0.906308            7756225  \n",
       "4       0       0      0  0.707107  0.707107            6734025  \n",
       "\n",
       "[5 rows x 55 columns]"
      ]
     },
     "execution_count": 5,
     "metadata": {},
     "output_type": "execute_result"
    }
   ],
   "source": [
    "# Apply (data independent) feature engineering to entire dataset \n",
    "train_df  = fe.manipulate_data(train_df)\n",
    "# Examine transformed data\n",
    "train_df.head()"
   ]
  },
  {
   "cell_type": "markdown",
   "metadata": {},
   "source": [
    "Now that the data is transformed, we can also visualize the new aspect features. "
   ]
  },
  {
   "cell_type": "code",
   "execution_count": 6,
   "metadata": {},
   "outputs": [
    {
     "data": {
      "image/png": "[encoded data removed]",
      "text/plain": [
       "<Figure size 864x288 with 2 Axes>"
      ]
     },
     "metadata": {},
     "output_type": "display_data"
    }
   ],
   "source": [
    "# Visualize cover type VS the cosine of Aspect degerees\n",
    "fig,(ax1,ax2) = plt.subplots(1,2,figsize=(12,4))\n",
    "sns.violinplot(x=train_df['Cover_Type'],y=train_df['ap_ns'],ax=ax1)\n",
    "sns.histplot(train_df['ap_ns'],ax=ax2)\n",
    "plt.show()"
   ]
  },
  {
   "cell_type": "markdown",
   "metadata": {},
   "source": [
    "After the feature transformation, we see improved distinction in median values, espeically for cover type 6, where the median is notably higher than that of other cover types and the distribution is concentrated around the median."
   ]
  },
  {
   "cell_type": "markdown",
   "metadata": {},
   "source": [
    "#### Segment data\n",
    "\n",
    "Based on closer examination of our model performance, we found that the models consistently confused cover types 1 and 2 and covertypes 3 and 6. So we decided to break up our model into one primary model (outputs 12 (for 1 or 2), 36 (for outputs 3 or 6), 4, 5 or 7) and two secondary models (one for distinguishing 1 or 2 and the other for distinguishing 3 or 6). We'll implement more feature engineering on the subset of data focused on 12 and 36 to combine soil types with the same distribution. "
   ]
  },
  {
   "cell_type": "code",
   "execution_count": 7,
   "metadata": {},
   "outputs": [],
   "source": [
    "# Split trainning data into subsets to improve model accurracy with cover type 1&2, and 3&6.\n",
    "train_df_original, train_df_12_36_4_5_7, train_df_12, train_df_36 = fe.subset_data(train_df)\n",
    "\n",
    "# Apply specific transformations for cover types one and two and three and six\n",
    "train_df_12 = fe.combine_environment_features_ct12(train_df_12)\n",
    "train_df_36 = fe.combine_environment_features_ct36(train_df_36)"
   ]
  },
  {
   "cell_type": "markdown",
   "metadata": {},
   "source": [
    "#### Split data into training and development sets\n",
    "\n",
    "Then, we split the training data into a training data set (90%) and development data set (10%). We will also have a large, separate test data set. "
   ]
  },
  {
   "cell_type": "code",
   "execution_count": 8,
   "metadata": {},
   "outputs": [],
   "source": [
    "# Only (randomly) sample indicies once for the entire dataset \n",
    "# This will be very important for comparing the output to the original dev labels \n",
    "train_indicies_all_data = list(train_df_original.sample(frac=0.9).index)\n",
    "\n",
    "# Split each dataset into 80% train and 20% dev by randomly sampling indicies \n",
    "train_data_original, train_labels_original, dev_data_original, dev_labels_original = fe.split_data(train_df_original,train_indicies_all_data)\n",
    "train_data_12_36_4_5_7, train_labels_12_36_4_5_7, dev_data_12_36_4_5_7, dev_labels_12_36_4_5_7 = fe.split_data(train_df_12_36_4_5_7,train_indicies_all_data)\n",
    "train_data_cover_type_12, train_labels_cover_type_12, dev_data_cover_type_12, dev_labels_cover_type_12  = fe.split_data(train_df_12,list(train_df_12.sample(frac=0.8).index))\n",
    "train_data_cover_type_36, train_labels_cover_type_36, dev_data_cover_type_36, dev_labels_cover_type_36  = fe.split_data(train_df_36,list(train_df_36.sample(frac=0.8).index))"
   ]
  },
  {
   "cell_type": "markdown",
   "metadata": {},
   "source": [
    "#### Scale the data to have a mean of 0 and a variance of 1."
   ]
  },
  {
   "cell_type": "code",
   "execution_count": 9,
   "metadata": {},
   "outputs": [],
   "source": [
    "standardize_features = ['Elevation','Slope', 'Horizontal_Distance_To_Hydrology',\n",
    "       'Horizontal_Distance_To_Roadways',\n",
    "       'Horizontal_Distance_To_Fire_Points','Elevation_squared']\n",
    "\n",
    "# Retrieve scaler *once* for the original training data so we don't overfit the smaller datasets \n",
    "train_data_original, train_data_original_scaler = fe.scale_training_data(standardize_features, train_data_original, scaler_type=\"standard\")\n",
    "dev_data_original = fe.scale_non_training_data(standardize_features, dev_data_original, train_data_original_scaler)\n",
    "\n",
    "train_data_12_36_4_5_7 = fe.scale_non_training_data(standardize_features, train_data_12_36_4_5_7, train_data_original_scaler)\n",
    "dev_data_12_36_4_5_7 = fe.scale_non_training_data(standardize_features, dev_data_12_36_4_5_7, train_data_original_scaler)\n",
    "\n",
    "train_data_cover_type_12 = fe.scale_non_training_data(standardize_features, train_data_cover_type_12, train_data_original_scaler)\n",
    "dev_data_cover_type_12 = fe.scale_non_training_data(standardize_features, dev_data_cover_type_12, train_data_original_scaler)\n",
    "\n",
    "train_data_cover_type_36 = fe.scale_non_training_data(standardize_features, train_data_cover_type_36, train_data_original_scaler)\n",
    "dev_data_cover_type_36 = fe.scale_non_training_data(standardize_features, dev_data_cover_type_36, train_data_original_scaler)"
   ]
  },
  {
   "cell_type": "markdown",
   "metadata": {},
   "source": [
    "#### Explore and confirm the shape of the data"
   ]
  },
  {
   "cell_type": "code",
   "execution_count": 10,
   "metadata": {},
   "outputs": [
    {
     "name": "stdout",
     "output_type": "stream",
     "text": [
      "Original Data with Labels 1,2,3,4,5,6,7\n",
      "Training data shape: (13608, 54) Training labels shape: (13608,)\n",
      "Dev data shape: (1512, 54) Dev labels shape: (1512,)\n",
      "\n",
      "Data with Labels 12,36,4,5,7\n",
      "Training data shape: (13608, 54) Training labels shape: (13608,)\n",
      "Dev data shape: (1512, 54) Dev labels shape: (1512,)\n",
      "\n",
      "Data with Labels 1,2\n",
      "Training data shape: (3456, 56) Training labels shape: (3456,)\n",
      "Dev data shape: (864, 56) Dev labels shape: (864,)\n",
      "\n",
      "Data with Labels 3,6\n",
      "Training data shape: (3456, 55) Training labels shape: (3456,)\n",
      "Dev data shape: (864, 55) Dev labels shape: (864,)\n",
      "\n"
     ]
    }
   ],
   "source": [
    "print(\"Original Data with Labels 1,2,3,4,5,6,7\")\n",
    "print(\"Training data shape: {0} Training labels shape: {1}\".format(train_data_original.shape, train_labels_original.shape))\n",
    "print(\"Dev data shape: {0} Dev labels shape: {1}\\n\".format(dev_data_original.shape, dev_labels_original.shape))\n",
    "\n",
    "print(\"Data with Labels 12,36,4,5,7\")\n",
    "print(\"Training data shape: {0} Training labels shape: {1}\".format(train_data_12_36_4_5_7.shape, train_labels_12_36_4_5_7.shape))\n",
    "print(\"Dev data shape: {0} Dev labels shape: {1}\\n\".format(dev_data_12_36_4_5_7.shape, dev_labels_12_36_4_5_7.shape))\n",
    "\n",
    "print(\"Data with Labels 1,2\")\n",
    "print(\"Training data shape: {0} Training labels shape: {1}\".format(train_data_cover_type_12.shape, train_labels_cover_type_12.shape))\n",
    "print(\"Dev data shape: {0} Dev labels shape: {1}\\n\".format(dev_data_cover_type_12.shape, dev_labels_cover_type_12.shape))\n",
    "\n",
    "print(\"Data with Labels 3,6\")\n",
    "print(\"Training data shape: {0} Training labels shape: {1}\".format(train_data_cover_type_36.shape, train_labels_cover_type_36.shape))\n",
    "print(\"Dev data shape: {0} Dev labels shape: {1}\\n\".format(dev_data_cover_type_36.shape, dev_labels_cover_type_36.shape))"
   ]
  },
  {
   "cell_type": "markdown",
   "metadata": {},
   "source": [
    "## Models\n",
    "\n",
    "Fit Random Forest, K Nearest Neighbors and Multilayer Perceptron models to the training data\n",
    "<img src=\"data/training_models.png\">"
   ]
  },
  {
   "cell_type": "markdown",
   "metadata": {},
   "source": [
    "#### Random Forest"
   ]
  },
  {
   "cell_type": "code",
   "execution_count": 11,
   "metadata": {},
   "outputs": [
    {
     "data": {
      "text/plain": [
       "RandomForestClassifier(max_depth=1, random_state=1)"
      ]
     },
     "execution_count": 11,
     "metadata": {},
     "output_type": "execute_result"
    }
   ],
   "source": [
    "from sklearn.ensemble import RandomForestClassifier\n",
    "\n",
    "# Set model parameters\n",
    "num_trees = 100\n",
    "max_depth = 1\n",
    "\n",
    "# Fit a Random Forest Model on the original dataset\n",
    "forest_model_original = RandomForestClassifier(num_trees, max_depth=max_depth,max_features=\"auto\",random_state=1)\n",
    "forest_model_original.fit(train_data_original, train_labels_original)\n",
    "\n",
    "# Fit a Random Forest Model to data with labels 12, 36, 4, 5, 7\n",
    "forest_model_all_data = RandomForestClassifier(num_trees, max_depth=max_depth,max_features=\"auto\",random_state=1)\n",
    "forest_model_all_data.fit(train_data_12_36_4_5_7, train_labels_12_36_4_5_7)\n",
    "\n",
    "# Fit a Random Forest Model to differentiate cover types one and two\n",
    "forest_model_cover_type_12 = RandomForestClassifier(num_trees, max_depth=max_depth,max_features=\"auto\",random_state=1)\n",
    "forest_model_cover_type_12.fit(train_data_cover_type_12, train_labels_cover_type_12)\n",
    "\n",
    "# Fit a Random Forest Model to differentiate cover types three and six\n",
    "forest_model_cover_type_36 = RandomForestClassifier(num_trees, max_depth=max_depth,max_features=\"auto\",random_state=1)\n",
    "forest_model_cover_type_36.fit(train_data_cover_type_36, train_labels_cover_type_36)"
   ]
  },
  {
   "cell_type": "markdown",
   "metadata": {},
   "source": [
    "#### K-Nearest Neighbors"
   ]
  },
  {
   "cell_type": "code",
   "execution_count": 12,
   "metadata": {},
   "outputs": [
    {
     "data": {
      "text/plain": [
       "KNeighborsClassifier(n_neighbors=1)"
      ]
     },
     "execution_count": 12,
     "metadata": {},
     "output_type": "execute_result"
    }
   ],
   "source": [
    "from sklearn.neighbors import KNeighborsClassifier\n",
    "\n",
    "# Set model parameters\n",
    "num_neighbors = 1\n",
    "\n",
    "# Fit a KNN  Model on the original dataset\n",
    "knn_original = KNeighborsClassifier(num_neighbors)\n",
    "knn_original.fit(train_data_original,train_labels_original)\n",
    "\n",
    "# Fit a KNN Model to data with labels 12, 36, 4, 5, 7\n",
    "knn_model_all_data = KNeighborsClassifier(num_neighbors)\n",
    "knn_model_all_data.fit(train_data_12_36_4_5_7, train_labels_12_36_4_5_7)\n",
    "\n",
    "# Fit a KNN Model to differentiate cover types one and two\n",
    "knn_model_cover_type_12 = KNeighborsClassifier(num_neighbors)\n",
    "knn_model_cover_type_12.fit(train_data_cover_type_12, train_labels_cover_type_12)\n",
    "\n",
    "# Fit a KNN Model to differentiate cover types three and six\n",
    "knn_model_cover_type_36 = KNeighborsClassifier(num_neighbors)\n",
    "knn_model_cover_type_36.fit(train_data_cover_type_36, train_labels_cover_type_36)"
   ]
  },
  {
   "cell_type": "markdown",
   "metadata": {},
   "source": [
    "#### Multi-Layer Perceptron"
   ]
  },
  {
   "cell_type": "code",
   "execution_count": 13,
   "metadata": {},
   "outputs": [
    {
     "data": {
      "text/plain": [
       "MLPClassifier(alpha=0.001, hidden_layer_sizes=(200,), random_state=1)"
      ]
     },
     "execution_count": 13,
     "metadata": {},
     "output_type": "execute_result"
    }
   ],
   "source": [
    "from sklearn.neural_network import MLPClassifier\n",
    "\n",
    "# Set model parameters\n",
    "alpha = 1e-3\n",
    "hidden_layer_sizes = (200,)\n",
    "random_state = 1\n",
    "max_iter = 200\n",
    "\n",
    "# Fit a MLP  Model on the original dataset\n",
    "mlp_model_original = MLPClassifier(alpha=alpha,hidden_layer_sizes=hidden_layer_sizes,random_state=random_state,max_iter=max_iter)\n",
    "mlp_model_original.fit(train_data_original, train_labels_original)\n",
    "\n",
    "# Fit a MLP Model to data with labels 12, 36, 4, 5, 7\n",
    "mlp_model_all_data = MLPClassifier(alpha=alpha,hidden_layer_sizes=hidden_layer_sizes,random_state=random_state,max_iter=max_iter)\n",
    "mlp_model_all_data.fit(train_data_12_36_4_5_7, train_labels_12_36_4_5_7)\n",
    "\n",
    "# Fit a MLP Model to differentiate cover types one and two\n",
    "mlp_model_cover_type_12 = MLPClassifier(alpha=alpha,hidden_layer_sizes=hidden_layer_sizes,random_state=random_state,max_iter=max_iter)\n",
    "mlp_model_cover_type_12.fit(train_data_cover_type_12, train_labels_cover_type_12)\n",
    "\n",
    "# Fit a MLP Model to differentiate cover types three and six\n",
    "mlp_model_cover_type_36 = MLPClassifier(alpha=alpha,hidden_layer_sizes=hidden_layer_sizes,random_state=random_state,max_iter=max_iter)\n",
    "mlp_model_cover_type_36.fit(train_data_cover_type_36, train_labels_cover_type_36)"
   ]
  },
  {
   "cell_type": "markdown",
   "metadata": {},
   "source": [
    "#### Adaboost "
   ]
  },
  {
   "cell_type": "code",
   "execution_count": 14,
   "metadata": {},
   "outputs": [
    {
     "data": {
      "text/plain": [
       "AdaBoostClassifier(base_estimator=DecisionTreeClassifier(max_depth=8),\n",
       "                   n_estimators=200, random_state=1)"
      ]
     },
     "execution_count": 14,
     "metadata": {},
     "output_type": "execute_result"
    }
   ],
   "source": [
    "from sklearn.tree import DecisionTreeClassifier\n",
    "from sklearn.ensemble import AdaBoostClassifier\n",
    "\n",
    "# Fit an Adaboost Model to all of the training data\n",
    "adaboost_original = AdaBoostClassifier(DecisionTreeClassifier(max_depth=8),n_estimators=200,random_state=1,)\n",
    "adaboost_original.fit(train_data_original,train_labels_original)\n",
    "\n",
    "# Fit a Adaboost Model to data with labels 12, 36, 4, 5, 7\n",
    "adaboost_all_data = AdaBoostClassifier(DecisionTreeClassifier(max_depth=8),n_estimators=200,random_state=1,)\n",
    "adaboost_all_data.fit(train_data_12_36_4_5_7, train_labels_12_36_4_5_7)\n",
    "\n",
    "# Fit a Adaboost Model to differentiate cover types one and two\n",
    "adaboost_cover_type_12 = AdaBoostClassifier(DecisionTreeClassifier(max_depth=8),n_estimators=200,random_state=1,)\n",
    "adaboost_cover_type_12.fit(train_data_cover_type_12.to_numpy(), train_labels_cover_type_12)\n",
    "\n",
    "# Fit a Adaboost Model to differentiate cover types three and six\n",
    "adaboost_cover_type_36 = AdaBoostClassifier(DecisionTreeClassifier(max_depth=8),n_estimators=200,random_state=1,)\n",
    "adaboost_cover_type_36.fit(train_data_cover_type_36.to_numpy(), train_labels_cover_type_36)"
   ]
  },
  {
   "cell_type": "markdown",
   "metadata": {},
   "source": [
    "#### Xgboost "
   ]
  },
  {
   "cell_type": "code",
   "execution_count": 15,
   "metadata": {},
   "outputs": [
    {
     "data": {
      "text/plain": [
       "XGBClassifier(base_score=0.5, booster='gbtree', colsample_bylevel=1,\n",
       "              colsample_bynode=1, colsample_bytree=1, gamma=0, gpu_id=-1,\n",
       "              importance_type='gain', interaction_constraints='',\n",
       "              learning_rate=0.300000012, max_delta_step=0, max_depth=8,\n",
       "              min_child_weight=1, missing=nan, monotone_constraints='()',\n",
       "              n_estimators=200, n_jobs=0, num_parallel_tree=1, random_state=0,\n",
       "              reg_alpha=0, reg_lambda=1, scale_pos_weight=1, subsample=1,\n",
       "              tree_method='exact', validate_parameters=1, verbosity=None)"
      ]
     },
     "execution_count": 15,
     "metadata": {},
     "output_type": "execute_result"
    }
   ],
   "source": [
    "from xgboost import XGBClassifier\n",
    "\n",
    "# Fit a XG Model to all of the training data\n",
    "xgb_model_original = XGBClassifier(n_estimators=200,max_depth=8,random_state=1)\n",
    "xgb_model_original.fit(train_data_original,train_labels_original)\n",
    "\n",
    "# Fit a XGBoost Model to data with labels 12, 36, 4, 5, 7\n",
    "xgb_model_all_data = XGBClassifier(n_estimators=200,max_depth=8,random_state=1)\n",
    "xgb_model_all_data.fit(train_data_12_36_4_5_7, train_labels_12_36_4_5_7)\n",
    "\n",
    "# Fit a XGBoost Model to differentiate cover types one and two\n",
    "xgb_model_cover_type_12 = XGBClassifier(n_estimators=200,max_depth=8,random_state=1)\n",
    "xgb_model_cover_type_12.fit(train_data_cover_type_12.to_numpy(), train_labels_cover_type_12)\n",
    "\n",
    "# Fit a XGBoost Model to differentiate cover types three and six\n",
    "xgb_model_cover_type_36 = XGBClassifier(n_estimators=200,max_depth=8)\n",
    "xgb_model_cover_type_36.fit(train_data_cover_type_36.to_numpy(), train_labels_cover_type_36)"
   ]
  },
  {
   "cell_type": "markdown",
   "metadata": {},
   "source": [
    "## Evaluation\n",
    "\n",
    "Predictions from each model are producted accordingly (for both dev and test)\n",
    "<img src=\"data/predictions.png\">\n",
    "\n",
    "#### Evaluate Random Forest Model "
   ]
  },
  {
   "cell_type": "code",
   "execution_count": 16,
   "metadata": {},
   "outputs": [
    {
     "name": "stdout",
     "output_type": "stream",
     "text": [
      "Random Forest Perforamance (against original dev labels) - Original data:  0.5145502645502645\n",
      "Random Forest Perforamance (against 12/36 dev labels) - Model 1:  0.5158730158730159\n",
      "Random Forest Perforamance Against Real Dev Labels - Overall Score:  0.36243386243386244\n"
     ]
    }
   ],
   "source": [
    "# Evaluate random forest model based on original data (no subsetting)\n",
    "forest_original_score = forest_model_original.score(dev_data_original,dev_labels_original)\n",
    "print(\"Random Forest Perforamance (against original dev labels) - Original data: \",forest_original_score)\n",
    "\n",
    "# Evaluate random forest model on subset data 12, 36, 4, 5, 7\n",
    "forest_predictions_all_data = forest_model_all_data.predict(dev_data_12_36_4_5_7)\n",
    "print(\"Random Forest Perforamance (against 12/36 dev labels) - Model 1: \", accuracy_score(np.array(dev_labels_12_36_4_5_7), forest_predictions_all_data))\n",
    "\n",
    "# Retrieve examples where the model predicted 12 or 36\n",
    "forest_predicted_12_indicies = np.where(forest_predictions_all_data==12)\n",
    "forest_predicted_36_indicies = np.where(forest_predictions_all_data==36)\n",
    "\n",
    "# Use specific sub-models to differentiate between 1 and 2 -and- 3 and 6\n",
    "forest_data_12 = fe.combine_environment_features_ct12(dev_data_12_36_4_5_7.iloc[forest_predicted_12_indicies])\n",
    "forest_predictions_1_2 = forest_model_cover_type_12.predict(forest_data_12)\n",
    "\n",
    "forest_data_36 = fe.combine_environment_features_ct36(dev_data_12_36_4_5_7.iloc[forest_predicted_36_indicies])\n",
    "forest_predictions_3_6 = forest_model_cover_type_36.predict(forest_data_36)\n",
    "\n",
    "# Update those 12 or 36 labels to be 1,2,3,6\n",
    "forest_predictions_all_data[forest_predicted_12_indicies] = forest_predictions_1_2\n",
    "forest_predictions_all_data[forest_predicted_36_indicies] = forest_predictions_3_6\n",
    "\n",
    "print(\"Random Forest Perforamance Against Real Dev Labels - Overall Score: \",  accuracy_score(np.array(dev_labels_original).reshape(-1, 1), forest_predictions_all_data.reshape(-1, 1)))"
   ]
  },
  {
   "cell_type": "markdown",
   "metadata": {},
   "source": [
    "If set max_depth =8, without subsetting, the accuracy on the dev data is 74%-75%. With separate model training and consolidating the results, accuracy on dev data has improved to 79%-80%. However, this leads to overfitting. We keep \"max_depth=1\" to achieve better fitting on the \"testing data''."
   ]
  },
  {
   "cell_type": "markdown",
   "metadata": {},
   "source": [
    "#### Evaluate KNN Model"
   ]
  },
  {
   "cell_type": "code",
   "execution_count": 17,
   "metadata": {},
   "outputs": [
    {
     "name": "stdout",
     "output_type": "stream",
     "text": [
      "KNN Perforamance (against original dev labels) - Original data:  0.8379629629629629\n",
      "KNN Perforamance (against 12/36 dev labels) - Model 1:  0.9140211640211641\n",
      "KNN Perforamance Against Real Dev Labels - Overall Score:  0.8981481481481481\n"
     ]
    },
    {
     "data": {
      "image/png": "[encoded data removed]",
      "text/plain": [
       "<Figure size 576x396 with 2 Axes>"
      ]
     },
     "metadata": {},
     "output_type": "display_data"
    }
   ],
   "source": [
    "# Evaluate knn model based on original data (no subsetting)\n",
    "knn_original_score = knn_original.score(dev_data_original,dev_labels_original)\n",
    "print(\"KNN Perforamance (against original dev labels) - Original data: \",knn_original_score)\n",
    "\n",
    "# Plot Confusion Matrix\n",
    "plot_confusion_matrix(knn_original, dev_data_original, dev_labels_original, values_format = \"d\")\n",
    "plt.title(\"KNN with Original Data Confusion Matrix\")\n",
    "plt.plot()\n",
    "\n",
    "knn_predictions_all_data = knn_model_all_data.predict(dev_data_12_36_4_5_7)\n",
    "print(\"KNN Perforamance (against 12/36 dev labels) - Model 1: \", accuracy_score(np.array(dev_labels_12_36_4_5_7), knn_predictions_all_data))\n",
    "\n",
    "# Retrieve examples where the model predicted 12 or 36\n",
    "knn_predicted_12_indicies = np.where(knn_predictions_all_data==12)\n",
    "knn_predicted_36_indicies = np.where(knn_predictions_all_data==36)\n",
    "\n",
    "# Use specific sub-models to differentiate between 1 and 2 -and- 3 and 6\n",
    "knn_data_12 = fe.combine_environment_features_ct12(dev_data_12_36_4_5_7.iloc[knn_predicted_12_indicies])\n",
    "knn_predictions_1_2 = knn_model_cover_type_12.predict(knn_data_12)\n",
    "knn_data_36 = fe.combine_environment_features_ct36(dev_data_12_36_4_5_7.iloc[knn_predicted_36_indicies])\n",
    "knn_predictions_3_6 = knn_model_cover_type_36.predict(knn_data_36)\n",
    "\n",
    "# Update those 12 or 36 labels to be 1,2,3,6\n",
    "knn_predictions_all_data[knn_predicted_12_indicies] = knn_predictions_1_2\n",
    "knn_predictions_all_data[knn_predicted_36_indicies] = knn_predictions_3_6\n",
    "\n",
    "print(\"KNN Perforamance Against Real Dev Labels - Overall Score: \",  accuracy_score(np.array(dev_labels_original).reshape(-1, 1), knn_predictions_all_data.reshape(-1, 1)))"
   ]
  },
  {
   "cell_type": "markdown",
   "metadata": {},
   "source": [
    "#### Evaluate MLP Model"
   ]
  },
  {
   "cell_type": "code",
   "execution_count": 18,
   "metadata": {},
   "outputs": [
    {
     "name": "stdout",
     "output_type": "stream",
     "text": [
      "MLP on original data accuracy: 0.8531746031746031\n",
      "MLP Perforamance (against 12/36 dev labels)- Model 1:  0.9444444444444444\n",
      "MLP Perforamance Against Real Dev Labels - Overall Score:  0.8908730158730159\n"
     ]
    },
    {
     "data": {
      "image/png": "[encoded data removed]",
      "text/plain": [
       "<Figure size 576x396 with 2 Axes>"
      ]
     },
     "metadata": {},
     "output_type": "display_data"
    }
   ],
   "source": [
    "# Evaluate mlp model based on original data (no subsetting)\n",
    "print(\"MLP on original data accuracy:\", mlp_model_original.score(dev_data_original,dev_labels_original))\n",
    "\n",
    "# Plot Confusion Matrix\n",
    "plot_confusion_matrix(mlp_model_original, dev_data_original, dev_labels_original, values_format = \"d\")\n",
    "plt.title(\"MLP with Original Data Confusion Matrix\")\n",
    "plt.plot()\n",
    "\n",
    "mlp_predictions_all_data = mlp_model_all_data.predict(dev_data_12_36_4_5_7)\n",
    "print(\"MLP Perforamance (against 12/36 dev labels)- Model 1: \", accuracy_score(np.array(dev_labels_12_36_4_5_7), mlp_predictions_all_data))\n",
    "\n",
    "# Retrieve examples where the model predicted 12 or 36\n",
    "mlp_predicted_12_indicies = np.where(mlp_predictions_all_data==12)\n",
    "mlp_predicted_36_indicies = np.where(mlp_predictions_all_data==36)\n",
    "\n",
    "# Use specific sub-models to differentiate between 1 and 2 -and- 3 and 6\n",
    "mlp_data_12 = fe.combine_environment_features_ct12(dev_data_12_36_4_5_7.iloc[mlp_predicted_12_indicies])\n",
    "mlp_predictions_1_2 = mlp_model_cover_type_12.predict(mlp_data_12)\n",
    "mlp_data_36 = fe.combine_environment_features_ct36(dev_data_12_36_4_5_7.iloc[mlp_predicted_36_indicies])\n",
    "mlp_predictions_3_6 = mlp_model_cover_type_36.predict(mlp_data_36)\n",
    "\n",
    "# Update those 12 or 36 labels to be 1,2,3,6\n",
    "mlp_predictions_all_data[mlp_predicted_12_indicies] = mlp_predictions_1_2\n",
    "mlp_predictions_all_data[mlp_predicted_36_indicies] = mlp_predictions_3_6\n",
    "\n",
    "print(\"MLP Perforamance Against Real Dev Labels - Overall Score: \",  accuracy_score(np.array(dev_labels_original).reshape(-1, 1), mlp_predictions_all_data.reshape(-1, 1)))"
   ]
  },
  {
   "cell_type": "markdown",
   "metadata": {},
   "source": [
    "Without training sub-models for type 1 and 2, type 3 and 6, the accuracy of the MLP model on dev data is 83.7%. With separate sub-model training, accuracy on the dev data improved to 91.9%. "
   ]
  },
  {
   "cell_type": "markdown",
   "metadata": {},
   "source": [
    "#### Evaluate Adaboost Model"
   ]
  },
  {
   "cell_type": "code",
   "execution_count": 19,
   "metadata": {},
   "outputs": [
    {
     "name": "stdout",
     "output_type": "stream",
     "text": [
      "Adaboost with original data accuracy: 0.8161375661375662\n",
      "Adaboost Perforamance (against 12/36 dev labels) - Model 1:  0.9437830687830688\n",
      "Adaboost Perforamance Against Real Dev Labels - Overall Score:  0.9305555555555556\n"
     ]
    },
    {
     "data": {
      "image/png": "[encoded data removed]",
      "text/plain": [
       "<Figure size 576x396 with 2 Axes>"
      ]
     },
     "metadata": {},
     "output_type": "display_data"
    }
   ],
   "source": [
    "# First, evaluate Adaboost model on the original data (no subsetting)\n",
    "adaboost_score = adaboost_original.score(dev_data_original,dev_labels_original)\n",
    "print(\"Adaboost with original data accuracy:\", adaboost_score)\n",
    "\n",
    "# Plot Confusion Matrix\n",
    "plot_confusion_matrix(adaboost_original, dev_data_original, dev_labels_original, values_format = \"d\")\n",
    "plt.title(\"Adaboost Confusion Matrix\")\n",
    "plt.plot()\n",
    "\n",
    "# Evaluate XGBoost model with the submodels.\n",
    "adaboost_predictions_all_data = adaboost_all_data.predict(dev_data_12_36_4_5_7)\n",
    "print(\"Adaboost Perforamance (against 12/36 dev labels) - Model 1: \", accuracy_score(np.array(dev_labels_12_36_4_5_7), adaboost_predictions_all_data))\n",
    "\n",
    "# Retrieve examples where the model predicted 12 or 36\n",
    "adaboost_predicted_12_indicies = np.where(adaboost_predictions_all_data==12)\n",
    "adaboost_predicted_36_indicies = np.where(adaboost_predictions_all_data==36)\n",
    "\n",
    "# Use specific sub-models to differentiate between 1 and 2 -and- 3 and 6\n",
    "adaboost_data_12 = fe.combine_environment_features_ct12(dev_data_12_36_4_5_7.iloc[adaboost_predicted_12_indicies])\n",
    "adaboost_predictions_1_2 = adaboost_cover_type_12.predict(adaboost_data_12)\n",
    "adaboost_data_36 = fe.combine_environment_features_ct36(dev_data_12_36_4_5_7.iloc[adaboost_predicted_36_indicies])\n",
    "adaboost_predictions_3_6 = adaboost_cover_type_36.predict(adaboost_data_36)\n",
    "\n",
    "# Update those 12 or 36 labels to be 1,2,3,6\n",
    "adaboost_predictions_all_data[adaboost_predicted_12_indicies] = adaboost_predictions_1_2\n",
    "adaboost_predictions_all_data[adaboost_predicted_36_indicies] = adaboost_predictions_3_6\n",
    "\n",
    "print(\"Adaboost Perforamance Against Real Dev Labels - Overall Score: \",  accuracy_score(np.array(dev_labels_original).reshape(-1, 1), adaboost_predictions_all_data.reshape(-1, 1)))"
   ]
  },
  {
   "cell_type": "markdown",
   "metadata": {},
   "source": [
    "We only trained and evaluated an adaboost model on the original data, to determine how it compares to the XGboost model. As the accuracy is 5% lower than that of the XGBoost model, we'll use XGBoost for our final model."
   ]
  },
  {
   "cell_type": "markdown",
   "metadata": {},
   "source": [
    "#### Evaluate Xgboost Model"
   ]
  },
  {
   "cell_type": "code",
   "execution_count": 20,
   "metadata": {},
   "outputs": [
    {
     "name": "stdout",
     "output_type": "stream",
     "text": [
      "XGBoost with original data accuracy: 0.8816137566137566\n",
      "Xgboost Perforamance (against 12/36 dev labels) - Model 1:  0.9378306878306878\n",
      "Xgboost Perforamance Against Real Dev Labels - Overall Score:  0.9232804232804233\n"
     ]
    },
    {
     "data": {
      "image/png": "[encoded data removed]",
      "text/plain": [
       "<Figure size 576x396 with 2 Axes>"
      ]
     },
     "metadata": {},
     "output_type": "display_data"
    }
   ],
   "source": [
    "# First, evaluate XGBoost model on the original data (no subsetting)\n",
    "print(\"XGBoost with original data accuracy:\", xgb_model_original.score(dev_data_original,dev_labels_original))\n",
    "\n",
    "# Plot Confusion Matrix\n",
    "plot_confusion_matrix(xgb_model_original, dev_data_original, dev_labels_original, values_format = \"d\")\n",
    "plt.title(\"XGBoost Confusion Matrix\")\n",
    "plt.plot()\n",
    "\n",
    "# Evaluate XGBoost model with the submodels.\n",
    "xgb_predictions_all_data = xgb_model_all_data.predict(dev_data_12_36_4_5_7)\n",
    "print(\"Xgboost Perforamance (against 12/36 dev labels) - Model 1: \", accuracy_score(np.array(dev_labels_12_36_4_5_7), xgb_predictions_all_data))\n",
    "\n",
    "# Retrieve examples where the model predicted 12 or 36\n",
    "xgboost_predicted_12_indicies = np.where(xgb_predictions_all_data==12)\n",
    "xgboost_predicted_36_indicies = np.where(xgb_predictions_all_data==36)\n",
    "\n",
    "# Use specific sub-models to differentiate between 1 and 2 -and- 3 and 6\n",
    "xgboost_data_12 = fe.combine_environment_features_ct12(dev_data_12_36_4_5_7.iloc[xgboost_predicted_12_indicies])\n",
    "xgboost_predictions_1_2 = xgb_model_cover_type_12.predict(xgboost_data_12.to_numpy())\n",
    "xgboost_data_36 = fe.combine_environment_features_ct36(dev_data_12_36_4_5_7.iloc[xgboost_predicted_36_indicies])\n",
    "xgboost_predictions_3_6 = xgb_model_cover_type_36.predict(xgboost_data_36.to_numpy())\n",
    "\n",
    "# Update those 12 or 36 labels to be 1,2,3,6\n",
    "xgb_predictions_all_data[xgboost_predicted_12_indicies] = xgboost_predictions_1_2\n",
    "xgb_predictions_all_data[xgboost_predicted_36_indicies] = xgboost_predictions_3_6\n",
    "\n",
    "print(\"Xgboost Perforamance Against Real Dev Labels - Overall Score: \",  accuracy_score(np.array(dev_labels_original).reshape(-1, 1), xgb_predictions_all_data.reshape(-1, 1)))"
   ]
  },
  {
   "cell_type": "markdown",
   "metadata": {},
   "source": [
    "Without subsetting, xgboost algorithm works very well for the dev data, showing an accuracy above 86%, which is 3% better than the 2nd best performer, or the MLP model. With subsetting and training submodels for type 1 and 2, and 3 and 6, the accuracy on the dev data has improved to over 94%. However, when applied to the \"testing data'' in Kaggle, the accuracy dropped back to 75%. Still 1% higher than that from the MLP model, but the difference is small. Also, there is a small decrease in model accuracy in \"testing data\" when we train one model compared to training separate models and consolidate."
   ]
  },
  {
   "cell_type": "markdown",
   "metadata": {},
   "source": [
    "#### Ensemble\n",
    "Here we will combine the three best performing models and implement a \"voting\" system to try to improve accuracy.\n",
    "<img src=\"data/ensemble.png\">"
   ]
  },
  {
   "cell_type": "code",
   "execution_count": 21,
   "metadata": {},
   "outputs": [
    {
     "name": "stdout",
     "output_type": "stream",
     "text": [
      "Models disagreed on 1078/1512 examples.\n",
      "Ensemble Accuracy:  0.9351851851851852\n"
     ]
    }
   ],
   "source": [
    "# An ensemble of knn, random forest, mlp, xgboost and adaboost results\n",
    "new_predictions = models.ensemble(\n",
    "    knn_predictions_all_data ,\n",
    "    forest_predictions_all_data, \n",
    "    mlp_predictions_all_data,\n",
    "    xgb_predictions_all_data,\n",
    "    adaboost_predictions_all_data)\n",
    "accuracy = accuracy_score(dev_labels_original, new_predictions)\n",
    "print(\"Ensemble Accuracy: \", accuracy)"
   ]
  },
  {
   "cell_type": "markdown",
   "metadata": {},
   "source": [
    "### Test Results"
   ]
  },
  {
   "cell_type": "code",
   "execution_count": 22,
   "metadata": {},
   "outputs": [
    {
     "name": "stdout",
     "output_type": "stream",
     "text": [
      "Testing data shape:  (565892, 54)\n"
     ]
    }
   ],
   "source": [
    "# Read in testing data \n",
    "test_data = pd.read_csv(\"data/test.csv\")\n",
    "\n",
    "# Preserve testing df ID for submission purpose\n",
    "test_df_id = test_data[\"Id\"]\n",
    "\n",
    "# Apply Same Transformations \n",
    "test_data = fe.manipulate_data(test_data)\n",
    "test_data = fe.scale_non_training_data(standardize_features, test_data, train_data_original_scaler)\n",
    "\n",
    "# Verify shape\n",
    "print(\"Testing data shape: \", test_data.shape)"
   ]
  },
  {
   "cell_type": "markdown",
   "metadata": {},
   "source": [
    "#### Test Random Forest"
   ]
  },
  {
   "cell_type": "code",
   "execution_count": 23,
   "metadata": {},
   "outputs": [],
   "source": [
    "# Inference on the entire original dataset \n",
    "test_forest_predictions_original = forest_model_all_data.predict(test_data)\n",
    "forest_result = pd.DataFrame.from_dict(dict(zip(test_df_id.to_list(),test_forest_predictions_original)), orient='index', columns=[\"Cover_Type\"])\n",
    "forest_result.to_csv(f\"submissions/forest_submission.csv\",index_label=\"Id\")\n",
    "\n",
    "# Retrieve examples where the model predicted 12 or 36\n",
    "test_forest_predicted_12_indicies = np.where(test_forest_predictions_original==12)\n",
    "test_forest_predicted_36_indicies = np.where(test_forest_predictions_original==36)\n",
    "\n",
    "# Use specific sub-models to differentiate between 1 and 2 -and- 3 and 6\n",
    "test_forest_data_12 = fe.combine_environment_features_ct12(test_data.iloc[test_forest_predicted_12_indicies])\n",
    "test_forest_predictions_1_2 = forest_model_cover_type_12.predict(test_forest_data_12)\n",
    "\n",
    "# Use specific sub-models to differentiate between 1 and 2 -and- 3 and 6\n",
    "test_forest_data_36 = fe.combine_environment_features_ct36(test_data.iloc[test_forest_predicted_36_indicies])\n",
    "test_forest_predictions_3_6 = forest_model_cover_type_36.predict(test_forest_data_36)\n",
    "\n",
    "# Update those 12 or 36 labels to be 1,2,3,6\n",
    "test_forest_predictions_original[test_forest_predicted_12_indicies] = test_forest_predictions_1_2\n",
    "test_forest_predictions_original[test_forest_predicted_36_indicies] = test_forest_predictions_3_6"
   ]
  },
  {
   "cell_type": "markdown",
   "metadata": {},
   "source": [
    "#### Test KNN"
   ]
  },
  {
   "cell_type": "code",
   "execution_count": 24,
   "metadata": {},
   "outputs": [],
   "source": [
    "# Inference on the entire original dataset \n",
    "test_knn_predictions_original = knn_model_all_data.predict(test_data)\n",
    "knn_result = pd.DataFrame.from_dict(dict(zip(test_df_id.to_list(),test_knn_predictions_original)), orient='index', columns=[\"Cover_Type\"])\n",
    "knn_result.to_csv(f\"submissions/knn_submission.csv\",index_label=\"Id\")\n",
    "\n",
    "# Retrieve examples where the model predicted 12 or 36\n",
    "test_knn_predicted_12_indicies = np.where(test_knn_predictions_original==12)\n",
    "test_knn_predicted_36_indicies = np.where(test_knn_predictions_original==36)\n",
    "\n",
    "# Use specific sub-models to differentiate between 1 and 2 -and- 3 and 6\n",
    "test_knn_data_12 = fe.combine_environment_features_ct12(test_data.iloc[test_knn_predicted_12_indicies])\n",
    "test_knn_predictions_1_2 = knn_model_cover_type_12.predict(test_knn_data_12)\n",
    "\n",
    "test_knn_data_36 = fe.combine_environment_features_ct36(test_data.iloc[test_knn_predicted_36_indicies])\n",
    "test_knn_predictions_3_6 = knn_model_cover_type_36.predict(test_knn_data_36)\n",
    "\n",
    "# Update those 12 or 36 labels to be 1,2,3,6\n",
    "test_knn_predictions_original[test_knn_predicted_12_indicies] = test_knn_predictions_1_2\n",
    "test_knn_predictions_original[test_knn_predicted_36_indicies] = test_knn_predictions_3_6"
   ]
  },
  {
   "cell_type": "markdown",
   "metadata": {},
   "source": [
    "#### Test MLP"
   ]
  },
  {
   "cell_type": "code",
   "execution_count": 25,
   "metadata": {},
   "outputs": [],
   "source": [
    "# Inference on the entire original dataset \n",
    "test_mlp_predictions_original = mlp_model_all_data.predict(test_data)\n",
    "mlp_result = pd.DataFrame.from_dict(dict(zip(test_df_id.to_list(),test_mlp_predictions_original)), orient='index', columns=[\"Cover_Type\"])\n",
    "mlp_result.to_csv(f\"submissions/mlp_submission.csv\",index_label=\"Id\")\n",
    "\n",
    "# Retrieve examples where the model predicted 12 or 36\n",
    "test_mlp_predicted_12_indicies = np.where(test_mlp_predictions_original==12)\n",
    "test_mlp_predicted_36_indicies = np.where(test_mlp_predictions_original==36)\n",
    "\n",
    "# Use specific sub-models to differentiate between 1 and 2 -and- 3 and 6\n",
    "test_mlp_data_12 = fe.combine_environment_features_ct12(test_data.iloc[test_mlp_predicted_12_indicies])\n",
    "test_mlp_predictions_1_2 = mlp_model_cover_type_12.predict(test_mlp_data_12)\n",
    "\n",
    "test_mlp_data_36 = fe.combine_environment_features_ct36(test_data.iloc[test_mlp_predicted_36_indicies])\n",
    "test_mlp_predictions_3_6 = mlp_model_cover_type_36.predict(test_mlp_data_36)\n",
    "\n",
    "# Update those 12 or 36 labels to be 1,2,3,6\n",
    "test_mlp_predictions_original[test_mlp_predicted_12_indicies] = test_mlp_predictions_1_2\n",
    "test_mlp_predictions_original[test_mlp_predicted_36_indicies] = test_mlp_predictions_3_6"
   ]
  },
  {
   "cell_type": "markdown",
   "metadata": {},
   "source": [
    "#### Test Adaboost"
   ]
  },
  {
   "cell_type": "code",
   "execution_count": 26,
   "metadata": {},
   "outputs": [
    {
     "name": "stdout",
     "output_type": "stream",
     "text": [
      "(449078, 56)\n"
     ]
    }
   ],
   "source": [
    "# Inference on the entire original dataset \n",
    "test_adaboost_predictions_original = adaboost_all_data.predict(test_data)\n",
    "adaboost_result = pd.DataFrame.from_dict(dict(zip(test_df_id.to_list(),test_adaboost_predictions_original)), orient='index', columns=[\"Cover_Type\"])\n",
    "adaboost_result.to_csv(f\"submissions/mlp_submission.csv\",index_label=\"Id\")\n",
    "\n",
    "# Retrieve examples where the model predicted 12 or 36\n",
    "test_adaboost_predicted_12_indicies = np.where(test_adaboost_predictions_original==12)\n",
    "test_adaboost_predicted_36_indicies = np.where(test_adaboost_predictions_original==36)\n",
    "\n",
    "# Use specific sub-models to differentiate between 1 and 2 -and- 3 and 6\n",
    "test_adaboost_data_12 = fe.combine_environment_features_ct12(test_data.iloc[test_adaboost_predicted_12_indicies])\n",
    "print(test_adaboost_data_12.shape)\n",
    "test_adaboost_predictions_1_2 = adaboost_cover_type_12.predict(test_adaboost_data_12.to_numpy())\n",
    "\n",
    "test_adaboost_data_36 = fe.combine_environment_features_ct36(test_data.iloc[test_adaboost_predicted_36_indicies])\n",
    "test_adaboost_predictions_3_6 = adaboost_cover_type_36.predict(test_adaboost_data_36)\n",
    "\n",
    "# Update those 12 or 36 labels to be 1,2,3,6\n",
    "test_adaboost_predictions_original[test_adaboost_predicted_12_indicies] = test_adaboost_predictions_1_2\n",
    "test_adaboost_predictions_original[test_adaboost_predicted_36_indicies] = test_adaboost_predictions_3_6"
   ]
  },
  {
   "cell_type": "markdown",
   "metadata": {},
   "source": [
    "#### Test XGBoost Ensemble"
   ]
  },
  {
   "cell_type": "code",
   "execution_count": 27,
   "metadata": {},
   "outputs": [],
   "source": [
    "# Test xgboost model with original data (no subsetting) and generate submission file\n",
    "test_xgb_predictions_original = xgb_model_original.predict(test_data)\n",
    "xg_results = pd.DataFrame.from_dict(dict(zip(test_df_id.to_list(),test_xgb_predictions_original)), orient='index', columns=[\"Cover_Type\"])\n",
    "xg_results.to_csv(f\"submissions/xgb_submission.csv\",index_label=\"Id\")\n",
    "\n",
    "test_xgb_predictions = xgb_model_all_data.predict(test_data)\n",
    "\n",
    "# Retrieve examples where the model predicted 12 or 36\n",
    "test_xgb_predicted_12_indicies = np.where(test_xgb_predictions_original==12)\n",
    "test_xgb_predicted_36_indicies = np.where(test_xgb_predictions_original==36)\n",
    "\n",
    "# Use specific sub-models to differentiate between 1 and 2 -and- 3 and 6\n",
    "test_xgb_data_12 = fe.combine_environment_features_ct12(test_data.iloc[test_xgb_predicted_12_indicies])\n",
    "test_xgb_predictions_1_2 = xgb_model_cover_type_12.predict(test_xgb_data_12.to_numpy())\n",
    "test_xgb_data_36 = fe.combine_environment_features_ct36(test_data.iloc[test_xgb_predicted_36_indicies])\n",
    "test_xgb_predictions_3_6 = xgb_model_cover_type_36.predict(test_xgb_data_36.to_numpy())\n",
    "\n",
    "# Update those 12 or 36 labels to be 1,2,3,6\n",
    "test_xgb_predictions_original[test_xgb_predicted_12_indicies] = test_xgb_predictions_1_2\n",
    "test_xgb_predictions_original[test_xgb_predicted_36_indicies] = test_xgb_predictions_3_6\n",
    "\n",
    "pd.DataFrame.from_dict(dict(zip(test_df_id.to_list(),test_xgb_predictions_original)), orient='index', columns=[\"Cover_Type\"]).to_csv(f\"submissions/xgb_submission_submodels.csv\",index_label=\"Id\")"
   ]
  },
  {
   "cell_type": "markdown",
   "metadata": {},
   "source": [
    "#### Test Ensemble"
   ]
  },
  {
   "cell_type": "code",
   "execution_count": 28,
   "metadata": {},
   "outputs": [
    {
     "name": "stdout",
     "output_type": "stream",
     "text": [
      "Models disagreed on 319187/565892 examples.\n"
     ]
    }
   ],
   "source": [
    "new_predictions = models.ensemble(test_knn_predictions_original,\n",
    "                                  test_forest_predictions_original, \n",
    "                                  test_mlp_predictions_original,\n",
    "                                  test_xgb_predictions_original,\n",
    "                                  test_adaboost_predictions_original)"
   ]
  },
  {
   "cell_type": "markdown",
   "metadata": {},
   "source": [
    "#### Generate Submission File"
   ]
  },
  {
   "cell_type": "code",
   "execution_count": 29,
   "metadata": {},
   "outputs": [],
   "source": [
    "result = pd.DataFrame.from_dict(dict(zip(test_df_id.to_list(),new_predictions)), orient='index', columns=[\"Cover_Type\"])\n",
    "result.to_csv(f\"submissions/cosolidated_submission.csv\",index_label=\"Id\")"
   ]
  },
  {
   "cell_type": "markdown",
   "metadata": {},
   "source": [
    "### End matter\n",
    "\n",
    "#### Acknowledgements/Sources\n",
    "\n",
    "* That helpful stack overflow post\n",
    "  * https://stackoverflow.com/questions/28663856/how-to-count-the-occurrence-of-certain-item-in-an-ndarray\n",
    "* Relevant Documentation\n",
    "  * KNeighborsClassifier\n",
    "    * https://scikit-learn.org/stable/modules/generated/sklearn.neighbors.KNeighborsClassifier.html\n",
    "  * Pretty Confusion Matrix\n",
    "    * https://scikit-learn.org/stable/modules/generated/sklearn.metrics.plot_confusion_matrix.html\n",
    "  * Preprocessing\n",
    "    * https://scikit-learn.org/stable/modules/generated/sklearn.preprocessing.normalize.html\n",
    "* Soil information\n",
    "  * https://www.uidaho.edu/cals/soil-orders/aridisols\n",
    "* Adaboost Tuning\n",
    "    * https://medium.com/@chaudhurysrijani/tuning-of-adaboost-with-computational-complexity-8727d01a9d20\n",
    "  \n",
    "#### Backup Formats\n",
    "\n",
    "*because sometimes you just want to look at the markdown or whatever real quick*"
   ]
  },
  {
   "cell_type": "code",
   "execution_count": 31,
   "metadata": {},
   "outputs": [
    {
     "name": "stdout",
     "output_type": "stream",
     "text": [
      "[NbConvertApp] Converting notebook clear_cut_solution.ipynb to python\n",
      "[NbConvertApp] Writing 38421 bytes to backups/clear_cut_solution.py\n",
      "[NbConvertApp] Converting notebook clear_cut_solution.ipynb to markdown\n",
      "[NbConvertApp] Support files will be in backups/clear_cut_solution_files/\n",
      "[NbConvertApp] Making directory backups/clear_cut_solution_files/backups\n",
      "[NbConvertApp] Making directory backups/clear_cut_solution_files/backups\n",
      "[NbConvertApp] Making directory backups/clear_cut_solution_files/backups\n",
      "[NbConvertApp] Making directory backups/clear_cut_solution_files/backups\n",
      "[NbConvertApp] Making directory backups/clear_cut_solution_files/backups\n",
      "[NbConvertApp] Writing 46090 bytes to backups/clear_cut_solution.md\n",
      "[NbConvertApp] Converting notebook clear_cut_solution.ipynb to html\n",
      "[NbConvertApp] Writing 875085 bytes to backups/clear_cut_solution.html\n"
     ]
    }
   ],
   "source": [
    "#Create a backup of the jupyter notebook in a format for where changes are easier to see.\n",
    "!jupyter nbconvert clear_cut_solution.ipynb --to=\"python\" --output=\"backups/clear_cut_solution\"\n",
    "!jupyter nbconvert clear_cut_solution.ipynb --to markdown --output=\"backups/clear_cut_solution\"\n",
    "\n",
    "# Also archiving this bad boy\n",
    "!jupyter nbconvert clear_cut_solution.ipynb --to html --output=\"backups/clear_cut_solution\""
   ]
  },
  {
   "cell_type": "code",
   "execution_count": null,
   "metadata": {},
   "outputs": [],
   "source": []
  }
 ],
 "metadata": {
  "environment": {
   "name": "tf2-2-3-gpu.2-3.m59",
   "type": "gcloud",
   "uri": "gcr.io/deeplearning-platform-release/tf2-2-3-gpu.2-3:m59"
  },
  "kernelspec": {
   "display_name": "Python 3",
   "language": "python",
   "name": "python3"
  },
  "language_info": {
   "codemirror_mode": {
    "name": "ipython",
    "version": 3
   },
   "file_extension": ".py",
   "mimetype": "text/x-python",
   "name": "python",
   "nbconvert_exporter": "python",
   "pygments_lexer": "ipython3",
   "version": "3.8.6"
  }
 },
 "nbformat": 4,
 "nbformat_minor": 4
}

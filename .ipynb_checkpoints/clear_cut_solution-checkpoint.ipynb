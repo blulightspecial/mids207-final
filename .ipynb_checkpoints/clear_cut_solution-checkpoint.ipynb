{
 "cells": [
  {
   "cell_type": "markdown",
   "metadata": {},
   "source": [
    "# Forest Cover Type Prediction\n",
    "#### Team: Clear-Cut Solution: Kevin Martin, Yang Jing, Justine Schabel"
   ]
  },
  {
   "cell_type": "markdown",
   "metadata": {},
   "source": [
    "**Todo** write a (better) intro    ;-]\n",
    "\n",
    "This noteboook documents the development of a predictive model to determine the type of forest cover within national forests in the state of Colorado given various geographic location characteristics. \n",
    "\n",
    "We quickly determined that the most difficult cover types to distinguish betweeen are type 1 and 2. We focused particular attention on developing a model that could pick the 2 of them apart."
   ]
  },
  {
   "cell_type": "markdown",
   "metadata": {},
   "source": [
    "## Initial Setup\n",
    "#### Import Required Libraries"
   ]
  },
  {
   "cell_type": "code",
   "execution_count": 1,
   "metadata": {},
   "outputs": [],
   "source": [
    "#surpress warning messages\n",
    "import warnings\n",
    "warnings.filterwarnings(\"ignore\")\n",
    "\n",
    "# This tells matplotlib not to try opening a new window for each plot.\n",
    "%matplotlib inline\n",
    "\n",
    "# Libraries for reading, cleaning and plotting the dataa\n",
    "import pandas as pd \n",
    "import matplotlib.pyplot as plt\n",
    "plt.style.use('seaborn')\n",
    "import seaborn as sns\n",
    "\n",
    "# Feature Engineering was written by the team \n",
    "import feature_engineering as fe\n",
    "# Models was written by the team \n",
    "import models \n",
    "\n",
    "from sklearn.metrics import mean_squared_error\n",
    "from sklearn.metrics import accuracy_score\n",
    "from sklearn.neural_network import MLPClassifier\n",
    "from sklearn.metrics import plot_confusion_matrix\n",
    "\n",
    "# So we can reload packages without restarting the kernel\n",
    "import importlib\n",
    "\n"
   ]
  },
  {
   "cell_type": "code",
   "execution_count": 2,
   "metadata": {},
   "outputs": [
    {
     "data": {
      "text/plain": [
       "<module 'feature_engineering' from '/home/jovyan/work/feature_engineering.py'>"
      ]
     },
     "execution_count": 2,
     "metadata": {},
     "output_type": "execute_result"
    }
   ],
   "source": [
    "# If you update the feature_engineering package, run this line so it updates without needing to restart the kernel\n",
    "importlib.reload(fe)"
   ]
  },
  {
   "cell_type": "markdown",
   "metadata": {},
   "source": [
    "#### Load Data"
   ]
  },
  {
   "cell_type": "code",
   "execution_count": 3,
   "metadata": {},
   "outputs": [],
   "source": [
    "# Read in training data \n",
    "train_df = pd.read_csv(\"data/train.csv\")\n",
    "\n",
    "# Read in training data \n",
    "test_data = pd.read_csv(\"data/test.csv\")\n",
    "# Preserve testing df ID for submission purpose\n",
    "test_df_ID = test_data[\"Id\"]\n",
    "\n",
    "#make a copy for testing subsets\n",
    "test_data1 = test_data.copy() "
   ]
  },
  {
   "cell_type": "markdown",
   "metadata": {},
   "source": [
    "## Feature Engineering \n",
    "The following transformations were made in the function below. \n",
    "\n",
    "#### Transform Hillshade\n",
    "Now we'll normalize the \"Hillsdale\" variables by dividing them by 255. The hillshade variables contain index of shades with a value between 0 and 255. \n",
    "\n",
    "#### Create new soil types\n",
    "Now we'll create additional features to magnify the differences betweeen cover type1 and 2, and covery type3 and 6.\n",
    "\n",
    "#### Combine soil types \n",
    "\n",
    "#### Drop rare or non-existant soil types \n",
    "Now we'll drop soil types that don't exist in the training set. Then we will combine soil types 35, 38, 39 and 40 because they have a very similar distribution. \n",
    "\n",
    "#### Create new features based on soil type descriptions \n",
    "TODO: Explain how we split up soil descriptions into different features to account for overlap.\n",
    "\n",
    "#### Transform Aspect\n",
    "TODO: Explain aspect problem and solution\n",
    "\n",
    "#### Log transformations\n",
    "Per EDA, we noticed the distribution of the \"distance\" related variables are skewed. Now we'll log transform the features related to the distances to make the distribution smoother, and thus decrease the variances of the predictions.\n",
    "\n",
    "#### Add polynomial features\n",
    "Per EDA, Elevation is a numerical variable and there is a clearer distinciton in Elevation among the dependenet variable, cover type. To imporve the signal, we sqaured Elevation. \n",
    "\n",
    "#### Drop irrelevant or problematic features\n",
    "- We'll drop \"Id\" because it does not provide any meaning in the classifications.\n",
    "- We'll drop \"Hillshade_9am\" because it has a high correlation with \"Aspect\" and \"Hillshade_3pm\".\n",
    "- We'll also drop \"Vertical_Distance_To_Hydrology\" because it does not show much distinction among the \"Cover Types\" and has a very skewed distribution, with negative values in some cases. The variable offers little insight and there might be data issues in this variable. \n"
   ]
  },
  {
   "cell_type": "code",
   "execution_count": 4,
   "metadata": {},
   "outputs": [],
   "source": [
    "#subset trainning data into subsets to improve model accurracy with cover type 1&2, and 3&6.\n",
    "train_df, train_df_12, train_df_36 = fe.subset_data(train_df)"
   ]
  },
  {
   "cell_type": "code",
   "execution_count": 5,
   "metadata": {},
   "outputs": [],
   "source": [
    "def manipulate_data(data):\n",
    "    \"\"\" \n",
    "    This function applys transformations on the input data set\n",
    "    \n",
    "    Parameters: \n",
    "        data (dataframe): n_examples x m_features (int64) dataframe \n",
    "    \"\"\"\n",
    "    data = fe.scale_hillside(data)\n",
    "    \n",
    "    \n",
    "    # Soil Combination Two (based on descriptions)\n",
    "    # data = fe.set_soil_type_by_attributes(data)\n",
    "    \n",
    "    data = fe.transform_aspect(data)\n",
    "    \n",
    "    features_to_log = ['Horizontal_Distance_To_Hydrology',\n",
    "           'Horizontal_Distance_To_Roadways','Horizontal_Distance_To_Fire_Points']\n",
    "    data = fe.log_features(data, features_to_log)\n",
    "    \n",
    "    features_to_square = [\"Elevation\"]\n",
    "    data = fe.add_polynomial_features(data, features_to_square)\n",
    "\n",
    "    # These are already being dropped by now? \n",
    "    features_to_drop = [\"Id\",\"Hillshade_9am\",\"Vertical_Distance_To_Hydrology\"]\n",
    "    data = fe.drop_features(data, features_to_drop)\n",
    "    \n",
    "    return data\n",
    "\n",
    "train_df = manipulate_data(train_df)\n",
    "train_df_12 = manipulate_data(train_df_12)\n",
    "train_df_36 = manipulate_data(train_df_36)"
   ]
  },
  {
   "cell_type": "code",
   "execution_count": 6,
   "metadata": {},
   "outputs": [],
   "source": [
    "def manipulate_ct12(data):\n",
    "    \"\"\" \n",
    "    This function applys additional transformations on the input data set for cover type 1 and 2\n",
    "    \n",
    "    Parameters: \n",
    "        data (dataframe): n_examples x m_features (int64) dataframe \n",
    "    \"\"\"\n",
    "        \n",
    "    # Soil Combination One (based on distributions)\n",
    "    data = fe.combine_environment_features_ct12(data)\n",
    "    data = fe.drop_unseen_soil_types(data)  \n",
    "    data = fe.combine_soil_types(data)\n",
    "      \n",
    "    \n",
    "    # Soil Combination Two (based on descriptions)\n",
    "    # data = fe.set_soil_type_by_attributes(data)\n",
    "    \n",
    "    return data\n",
    "\n",
    "train_df_12 = manipulate_ct12(train_df_12)\n"
   ]
  },
  {
   "cell_type": "code",
   "execution_count": 7,
   "metadata": {},
   "outputs": [],
   "source": [
    "def manipulate_ct36(data):\n",
    "    \"\"\" \n",
    "    This function applys additional transformations on the input data set for cover type 1 and 2\n",
    "    \n",
    "    Parameters: \n",
    "        data (dataframe): n_examples x m_features (int64) dataframe \n",
    "    \"\"\"\n",
    "        \n",
    "    # Soil Combination One (based on distributions)\n",
    "    data = fe.combine_environment_features_ct36(data)\n",
    "    data = fe.drop_unseen_soil_types(data)  \n",
    "    data = fe.combine_soil_types(data)\n",
    "      \n",
    "    \n",
    "    # Soil Combination Two (based on descriptions)\n",
    "    # data = fe.set_soil_type_by_attributes(data)\n",
    "    \n",
    "    return data\n",
    "\n",
    "train_df_36 = manipulate_ct36(train_df_36)"
   ]
  },
  {
   "cell_type": "markdown",
   "metadata": {},
   "source": [
    "#### Examine transformed data"
   ]
  },
  {
   "cell_type": "code",
   "execution_count": 8,
   "metadata": {},
   "outputs": [
    {
     "data": {
      "text/html": [
       "<div>\n",
       "<style scoped>\n",
       "    .dataframe tbody tr th:only-of-type {\n",
       "        vertical-align: middle;\n",
       "    }\n",
       "\n",
       "    .dataframe tbody tr th {\n",
       "        vertical-align: top;\n",
       "    }\n",
       "\n",
       "    .dataframe thead th {\n",
       "        text-align: right;\n",
       "    }\n",
       "</style>\n",
       "<table border=\"1\" class=\"dataframe\">\n",
       "  <thead>\n",
       "    <tr style=\"text-align: right;\">\n",
       "      <th></th>\n",
       "      <th>Elevation</th>\n",
       "      <th>Slope</th>\n",
       "      <th>Horizontal_Distance_To_Hydrology</th>\n",
       "      <th>Horizontal_Distance_To_Roadways</th>\n",
       "      <th>Hillshade_Noon</th>\n",
       "      <th>Hillshade_3pm</th>\n",
       "      <th>Horizontal_Distance_To_Fire_Points</th>\n",
       "      <th>Wilderness_Area1</th>\n",
       "      <th>Wilderness_Area2</th>\n",
       "      <th>Wilderness_Area3</th>\n",
       "      <th>...</th>\n",
       "      <th>Soil_Type35</th>\n",
       "      <th>Soil_Type36</th>\n",
       "      <th>Soil_Type37</th>\n",
       "      <th>Soil_Type38</th>\n",
       "      <th>Soil_Type39</th>\n",
       "      <th>Soil_Type40</th>\n",
       "      <th>Cover_Type</th>\n",
       "      <th>ap_ew</th>\n",
       "      <th>ap_ns</th>\n",
       "      <th>Elevation_squared</th>\n",
       "    </tr>\n",
       "  </thead>\n",
       "  <tbody>\n",
       "    <tr>\n",
       "      <th>count</th>\n",
       "      <td>15120.000000</td>\n",
       "      <td>15120.000000</td>\n",
       "      <td>15120.000000</td>\n",
       "      <td>15120.000000</td>\n",
       "      <td>15120.000000</td>\n",
       "      <td>15120.000000</td>\n",
       "      <td>15120.000000</td>\n",
       "      <td>15120.000000</td>\n",
       "      <td>15120.000000</td>\n",
       "      <td>15120.000000</td>\n",
       "      <td>...</td>\n",
       "      <td>15120.000000</td>\n",
       "      <td>15120.000000</td>\n",
       "      <td>15120.000000</td>\n",
       "      <td>15120.000000</td>\n",
       "      <td>15120.000000</td>\n",
       "      <td>15120.000000</td>\n",
       "      <td>15120.000000</td>\n",
       "      <td>15120.000000</td>\n",
       "      <td>15120.000000</td>\n",
       "      <td>1.512000e+04</td>\n",
       "    </tr>\n",
       "    <tr>\n",
       "      <th>mean</th>\n",
       "      <td>2749.322553</td>\n",
       "      <td>16.501587</td>\n",
       "      <td>4.645584</td>\n",
       "      <td>7.124224</td>\n",
       "      <td>0.858689</td>\n",
       "      <td>0.529773</td>\n",
       "      <td>7.058263</td>\n",
       "      <td>0.237897</td>\n",
       "      <td>0.033003</td>\n",
       "      <td>0.419907</td>\n",
       "      <td>...</td>\n",
       "      <td>0.006746</td>\n",
       "      <td>0.000661</td>\n",
       "      <td>0.002249</td>\n",
       "      <td>0.048148</td>\n",
       "      <td>0.043452</td>\n",
       "      <td>0.030357</td>\n",
       "      <td>16.000000</td>\n",
       "      <td>0.226527</td>\n",
       "      <td>0.146622</td>\n",
       "      <td>7.733218e+06</td>\n",
       "    </tr>\n",
       "    <tr>\n",
       "      <th>std</th>\n",
       "      <td>417.678187</td>\n",
       "      <td>8.453927</td>\n",
       "      <td>1.805867</td>\n",
       "      <td>0.875852</td>\n",
       "      <td>0.089419</td>\n",
       "      <td>0.179981</td>\n",
       "      <td>0.776280</td>\n",
       "      <td>0.425810</td>\n",
       "      <td>0.178649</td>\n",
       "      <td>0.493560</td>\n",
       "      <td>...</td>\n",
       "      <td>0.081859</td>\n",
       "      <td>0.025710</td>\n",
       "      <td>0.047368</td>\n",
       "      <td>0.214086</td>\n",
       "      <td>0.203880</td>\n",
       "      <td>0.171574</td>\n",
       "      <td>12.972927</td>\n",
       "      <td>0.676366</td>\n",
       "      <td>0.685404</td>\n",
       "      <td>2.315859e+06</td>\n",
       "    </tr>\n",
       "    <tr>\n",
       "      <th>min</th>\n",
       "      <td>1863.000000</td>\n",
       "      <td>0.000000</td>\n",
       "      <td>0.000000</td>\n",
       "      <td>0.000000</td>\n",
       "      <td>0.388235</td>\n",
       "      <td>0.000000</td>\n",
       "      <td>0.000000</td>\n",
       "      <td>0.000000</td>\n",
       "      <td>0.000000</td>\n",
       "      <td>0.000000</td>\n",
       "      <td>...</td>\n",
       "      <td>0.000000</td>\n",
       "      <td>0.000000</td>\n",
       "      <td>0.000000</td>\n",
       "      <td>0.000000</td>\n",
       "      <td>0.000000</td>\n",
       "      <td>0.000000</td>\n",
       "      <td>4.000000</td>\n",
       "      <td>-1.000000</td>\n",
       "      <td>-1.000000</td>\n",
       "      <td>3.470769e+06</td>\n",
       "    </tr>\n",
       "    <tr>\n",
       "      <th>25%</th>\n",
       "      <td>2376.000000</td>\n",
       "      <td>10.000000</td>\n",
       "      <td>4.219508</td>\n",
       "      <td>6.639876</td>\n",
       "      <td>0.811765</td>\n",
       "      <td>0.415686</td>\n",
       "      <td>6.594413</td>\n",
       "      <td>0.000000</td>\n",
       "      <td>0.000000</td>\n",
       "      <td>0.000000</td>\n",
       "      <td>...</td>\n",
       "      <td>0.000000</td>\n",
       "      <td>0.000000</td>\n",
       "      <td>0.000000</td>\n",
       "      <td>0.000000</td>\n",
       "      <td>0.000000</td>\n",
       "      <td>0.000000</td>\n",
       "      <td>5.000000</td>\n",
       "      <td>-0.390731</td>\n",
       "      <td>-0.500000</td>\n",
       "      <td>5.645376e+06</td>\n",
       "    </tr>\n",
       "    <tr>\n",
       "      <th>50%</th>\n",
       "      <td>2752.000000</td>\n",
       "      <td>15.000000</td>\n",
       "      <td>5.198497</td>\n",
       "      <td>7.183112</td>\n",
       "      <td>0.874510</td>\n",
       "      <td>0.541176</td>\n",
       "      <td>7.136483</td>\n",
       "      <td>0.000000</td>\n",
       "      <td>0.000000</td>\n",
       "      <td>0.000000</td>\n",
       "      <td>...</td>\n",
       "      <td>0.000000</td>\n",
       "      <td>0.000000</td>\n",
       "      <td>0.000000</td>\n",
       "      <td>0.000000</td>\n",
       "      <td>0.000000</td>\n",
       "      <td>0.000000</td>\n",
       "      <td>12.000000</td>\n",
       "      <td>0.406737</td>\n",
       "      <td>0.275637</td>\n",
       "      <td>7.573504e+06</td>\n",
       "    </tr>\n",
       "    <tr>\n",
       "      <th>75%</th>\n",
       "      <td>3104.000000</td>\n",
       "      <td>22.000000</td>\n",
       "      <td>5.802118</td>\n",
       "      <td>7.727976</td>\n",
       "      <td>0.921569</td>\n",
       "      <td>0.654902</td>\n",
       "      <td>7.595513</td>\n",
       "      <td>0.000000</td>\n",
       "      <td>0.000000</td>\n",
       "      <td>1.000000</td>\n",
       "      <td>...</td>\n",
       "      <td>0.000000</td>\n",
       "      <td>0.000000</td>\n",
       "      <td>0.000000</td>\n",
       "      <td>0.000000</td>\n",
       "      <td>0.000000</td>\n",
       "      <td>0.000000</td>\n",
       "      <td>36.000000</td>\n",
       "      <td>0.866025</td>\n",
       "      <td>0.809017</td>\n",
       "      <td>9.634816e+06</td>\n",
       "    </tr>\n",
       "    <tr>\n",
       "      <th>max</th>\n",
       "      <td>3849.000000</td>\n",
       "      <td>52.000000</td>\n",
       "      <td>7.203406</td>\n",
       "      <td>8.837971</td>\n",
       "      <td>0.996078</td>\n",
       "      <td>0.972549</td>\n",
       "      <td>8.852808</td>\n",
       "      <td>1.000000</td>\n",
       "      <td>1.000000</td>\n",
       "      <td>1.000000</td>\n",
       "      <td>...</td>\n",
       "      <td>1.000000</td>\n",
       "      <td>1.000000</td>\n",
       "      <td>1.000000</td>\n",
       "      <td>1.000000</td>\n",
       "      <td>1.000000</td>\n",
       "      <td>1.000000</td>\n",
       "      <td>36.000000</td>\n",
       "      <td>1.000000</td>\n",
       "      <td>1.000000</td>\n",
       "      <td>1.481480e+07</td>\n",
       "    </tr>\n",
       "  </tbody>\n",
       "</table>\n",
       "<p>8 rows × 55 columns</p>\n",
       "</div>"
      ],
      "text/plain": [
       "          Elevation         Slope  Horizontal_Distance_To_Hydrology  \\\n",
       "count  15120.000000  15120.000000                      15120.000000   \n",
       "mean    2749.322553     16.501587                          4.645584   \n",
       "std      417.678187      8.453927                          1.805867   \n",
       "min     1863.000000      0.000000                          0.000000   \n",
       "25%     2376.000000     10.000000                          4.219508   \n",
       "50%     2752.000000     15.000000                          5.198497   \n",
       "75%     3104.000000     22.000000                          5.802118   \n",
       "max     3849.000000     52.000000                          7.203406   \n",
       "\n",
       "       Horizontal_Distance_To_Roadways  Hillshade_Noon  Hillshade_3pm  \\\n",
       "count                     15120.000000    15120.000000   15120.000000   \n",
       "mean                          7.124224        0.858689       0.529773   \n",
       "std                           0.875852        0.089419       0.179981   \n",
       "min                           0.000000        0.388235       0.000000   \n",
       "25%                           6.639876        0.811765       0.415686   \n",
       "50%                           7.183112        0.874510       0.541176   \n",
       "75%                           7.727976        0.921569       0.654902   \n",
       "max                           8.837971        0.996078       0.972549   \n",
       "\n",
       "       Horizontal_Distance_To_Fire_Points  Wilderness_Area1  Wilderness_Area2  \\\n",
       "count                        15120.000000      15120.000000      15120.000000   \n",
       "mean                             7.058263          0.237897          0.033003   \n",
       "std                              0.776280          0.425810          0.178649   \n",
       "min                              0.000000          0.000000          0.000000   \n",
       "25%                              6.594413          0.000000          0.000000   \n",
       "50%                              7.136483          0.000000          0.000000   \n",
       "75%                              7.595513          0.000000          0.000000   \n",
       "max                              8.852808          1.000000          1.000000   \n",
       "\n",
       "       Wilderness_Area3  ...   Soil_Type35   Soil_Type36   Soil_Type37  \\\n",
       "count      15120.000000  ...  15120.000000  15120.000000  15120.000000   \n",
       "mean           0.419907  ...      0.006746      0.000661      0.002249   \n",
       "std            0.493560  ...      0.081859      0.025710      0.047368   \n",
       "min            0.000000  ...      0.000000      0.000000      0.000000   \n",
       "25%            0.000000  ...      0.000000      0.000000      0.000000   \n",
       "50%            0.000000  ...      0.000000      0.000000      0.000000   \n",
       "75%            1.000000  ...      0.000000      0.000000      0.000000   \n",
       "max            1.000000  ...      1.000000      1.000000      1.000000   \n",
       "\n",
       "        Soil_Type38   Soil_Type39   Soil_Type40    Cover_Type         ap_ew  \\\n",
       "count  15120.000000  15120.000000  15120.000000  15120.000000  15120.000000   \n",
       "mean       0.048148      0.043452      0.030357     16.000000      0.226527   \n",
       "std        0.214086      0.203880      0.171574     12.972927      0.676366   \n",
       "min        0.000000      0.000000      0.000000      4.000000     -1.000000   \n",
       "25%        0.000000      0.000000      0.000000      5.000000     -0.390731   \n",
       "50%        0.000000      0.000000      0.000000     12.000000      0.406737   \n",
       "75%        0.000000      0.000000      0.000000     36.000000      0.866025   \n",
       "max        1.000000      1.000000      1.000000     36.000000      1.000000   \n",
       "\n",
       "              ap_ns  Elevation_squared  \n",
       "count  15120.000000       1.512000e+04  \n",
       "mean       0.146622       7.733218e+06  \n",
       "std        0.685404       2.315859e+06  \n",
       "min       -1.000000       3.470769e+06  \n",
       "25%       -0.500000       5.645376e+06  \n",
       "50%        0.275637       7.573504e+06  \n",
       "75%        0.809017       9.634816e+06  \n",
       "max        1.000000       1.481480e+07  \n",
       "\n",
       "[8 rows x 55 columns]"
      ]
     },
     "execution_count": 8,
     "metadata": {},
     "output_type": "execute_result"
    }
   ],
   "source": [
    "train_df.describe()"
   ]
  },
  {
   "cell_type": "markdown",
   "metadata": {},
   "source": [
    "Now that the data is transformed, we can also visualize the new aspect features. "
   ]
  },
  {
   "cell_type": "code",
   "execution_count": 9,
   "metadata": {},
   "outputs": [
    {
     "data": {
      "image/png": "[encoded data removed]",
      "text/plain": [
       "<Figure size 864x288 with 2 Axes>"
      ]
     },
     "metadata": {},
     "output_type": "display_data"
    }
   ],
   "source": [
    "# Visualize cover type VS the cosine of Aspect degerees\n",
    "fig,(ax1,ax2) = plt.subplots(1,2,figsize=(12,4))\n",
    "sns.violinplot(x=train_df['Cover_Type'],y=train_df['ap_ew'],ax=ax1)\n",
    "sns.histplot(train_df['ap_ew'],ax=ax2)\n",
    "plt.show()"
   ]
  },
  {
   "cell_type": "markdown",
   "metadata": {},
   "source": [
    "After the feature transformation, we see improved distinction in median values, espeically for cover type 6, where the median is notably higher than that of other cover types and the distribution is concentrated around the median."
   ]
  },
  {
   "cell_type": "markdown",
   "metadata": {},
   "source": [
    "#### Split data into train/dev\n",
    "\n",
    "Then, we split the training data into a training data set (80%) and development data set (20%). We will also have a large, separate test data set. "
   ]
  },
  {
   "cell_type": "code",
   "execution_count": 10,
   "metadata": {},
   "outputs": [],
   "source": [
    "train_data, train_labels, dev_data, dev_labels = fe.split_data(train_df)\n",
    "train_data12, train_labels12, dev_data12, dev_labels12  = fe.split_data(train_df_12)\n",
    "train_data36, train_labels36, dev_data36, dev_labels36  = fe.split_data(train_df_36)"
   ]
  },
  {
   "cell_type": "markdown",
   "metadata": {},
   "source": [
    "#### Scale the data to have a mean of 0 and a variance of 1."
   ]
  },
  {
   "cell_type": "code",
   "execution_count": 11,
   "metadata": {},
   "outputs": [],
   "source": [
    "standardize_features = ['Elevation','Slope', 'Horizontal_Distance_To_Hydrology',\n",
    "       'Horizontal_Distance_To_Roadways',\n",
    "       'Horizontal_Distance_To_Fire_Points','Elevation_squared']\n",
    "train_data, train_scaler = fe.scale_training_data(standardize_features, train_data, scaler_type=\"standard\")\n",
    "dev_data = fe.scale_non_training_data(standardize_features, dev_data, train_scaler)\n",
    "\n",
    "#generate scaling models for separate subsets \n",
    "train_data12, train_12_scaler = fe.scale_training_data(standardize_features, train_data12, scaler_type=\"standard\")\n",
    "train_data36, train_36_scaler = fe.scale_training_data(standardize_features, train_data36, scaler_type=\"standard\")\n",
    "\n",
    "dev_data12 = fe.scale_non_training_data(standardize_features, dev_data12, train_12_scaler)\n",
    "dev_data36 = fe.scale_non_training_data(standardize_features, dev_data36, train_36_scaler)\n"
   ]
  },
  {
   "cell_type": "markdown",
   "metadata": {},
   "source": [
    "#### Explore and confirm the shape of the data"
   ]
  },
  {
   "cell_type": "code",
   "execution_count": 12,
   "metadata": {},
   "outputs": [
    {
     "name": "stdout",
     "output_type": "stream",
     "text": [
      "Training data shape: (12096, 54) Training labels shape: (12096,)\n",
      "\n",
      "Dev data shape: (3024, 54) Dev labels shape: (3024,)\n",
      "\n"
     ]
    }
   ],
   "source": [
    "print(\"Training data shape: {0} Training labels shape: {1}\\n\".format(train_data.shape, train_labels.shape))\n",
    "print(\"Dev data shape: {0} Dev labels shape: {1}\\n\".format(dev_data.shape, dev_labels.shape))"
   ]
  },
  {
   "cell_type": "markdown",
   "metadata": {},
   "source": [
    "## Models"
   ]
  },
  {
   "cell_type": "markdown",
   "metadata": {},
   "source": [
    "#### Random Forest"
   ]
  },
  {
   "cell_type": "code",
   "execution_count": 13,
   "metadata": {},
   "outputs": [
    {
     "name": "stdout",
     "output_type": "stream",
     "text": [
      "Random Forest Performance for 100 trees: 0.8849206349206349\n",
      "Mean Squared Error:  48.31117724867725\n"
     ]
    },
    {
     "data": {
      "image/png": "[encoded data removed]",
      "text/plain": [
       "<Figure size 576x396 with 2 Axes>"
      ]
     },
     "metadata": {},
     "output_type": "display_data"
    }
   ],
   "source": [
    "# num_trees_list = [1,3,5,10,100]\n",
    "num_trees_list = [100]\n",
    "random_forest_models = []\n",
    "random_forest_results = {}\n",
    "for num_trees in num_trees_list:\n",
    "    score, probabilities, random_forest_model = models.random_forest(num_trees, train_data, train_labels, dev_data, dev_labels)\n",
    "    random_forest_results[score] = probabilities\n",
    "    random_forest_models.append(random_forest_model)"
   ]
  },
  {
   "cell_type": "markdown",
   "metadata": {},
   "source": [
    "#### K-Nearest Neighbors"
   ]
  },
  {
   "cell_type": "code",
   "execution_count": 14,
   "metadata": {},
   "outputs": [
    {
     "name": "stdout",
     "output_type": "stream",
     "text": [
      "KNN 1 neighbors : accuracy = 0.9222883597883598\n",
      "Mean Squared Error:  30.93452380952381\n"
     ]
    },
    {
     "data": {
      "image/png": "[encoded data removed]",
      "text/plain": [
       "<Figure size 576x396 with 2 Axes>"
      ]
     },
     "metadata": {},
     "output_type": "display_data"
    }
   ],
   "source": [
    "# neighbor_list = [1,2,4, 7, 10]\n",
    "neighbor_list = [1]\n",
    "knn_models = []\n",
    "knn_results = {}\n",
    "for neighbor in neighbor_list:\n",
    "    score, probabilities, knn_model = models.k_nearest_neighbors(neighbor,train_data, train_labels, dev_data, dev_labels)\n",
    "    knn_results[score] = probabilities\n",
    "    knn_models.append(knn_model)\n",
    "    "
   ]
  },
  {
   "cell_type": "markdown",
   "metadata": {},
   "source": [
    "#### Multi-Layer Perceptron"
   ]
  },
  {
   "cell_type": "code",
   "execution_count": 15,
   "metadata": {},
   "outputs": [
    {
     "name": "stdout",
     "output_type": "stream",
     "text": [
      "MLP accuracy =  0.9411375661375662\n",
      "Mean Squared Error:  23.007275132275133\n"
     ]
    },
    {
     "data": {
      "image/png": "[encoded data removed]",
      "text/plain": [
       "<Figure size 576x396 with 2 Axes>"
      ]
     },
     "metadata": {},
     "output_type": "display_data"
    }
   ],
   "source": [
    "mlp_results = {}\n",
    "score, probabilities,mlp_model = models.multi_layer_perceptron(train_data, train_labels, dev_data, dev_labels)\n",
    "mlp_results[score] = probabilities "
   ]
  },
  {
   "cell_type": "markdown",
   "metadata": {},
   "source": [
    "#### Generate Subset test df for testing results"
   ]
  },
  {
   "cell_type": "markdown",
   "metadata": {},
   "source": [
    "#### Apply the same transformations"
   ]
  },
  {
   "cell_type": "code",
   "execution_count": 16,
   "metadata": {},
   "outputs": [],
   "source": [
    "test_data = manipulate_data(test_data)\n",
    "test_data = fe.scale_non_training_data(standardize_features, test_data, train_scaler)"
   ]
  },
  {
   "cell_type": "code",
   "execution_count": 17,
   "metadata": {},
   "outputs": [],
   "source": [
    "#generate subset df for spearte testing.\n",
    "y_pred = mlp_model.predict(test_data)\n",
    "def gen_subset_test(y_pred):\n",
    "    result = pd.DataFrame.from_dict(dict(zip(test_df_ID.to_list(),y_pred)), orient='index', columns=[\"Cover_Type\"])\n",
    "    type12_id = result[result.Cover_Type==12].index.to_list()\n",
    "    type36_id = result[result.Cover_Type==36].index.to_list()\n",
    "    test_12 = test_data1[test_data1.Id.isin(type12_id)]\n",
    "    test_36 = test_data1[test_data1.Id.isin(type36_id)]\n",
    "    test_12_id = test_12.Id\n",
    "    test_36_id = test_36.Id\n",
    "    return test_12, test_36, result, test_12_id, test_36_id\n",
    "test_12, test_36, result, test_12_id, test_36_id = gen_subset_test(y_pred)"
   ]
  },
  {
   "cell_type": "code",
   "execution_count": 18,
   "metadata": {},
   "outputs": [],
   "source": [
    "#transofrm and scale the subset data with the respective scalers\n",
    "test_12 = manipulate_data(test_12)\n",
    "test_36 = manipulate_data(test_36)\n",
    "test_12 = fe.scale_non_training_data(standardize_features, test_12, train_12_scaler)\n",
    "test_36 = fe.scale_non_training_data(standardize_features, test_36, train_36_scaler)\n",
    "\n",
    "#additional feature engineering for each subset\n",
    "test_12 = manipulate_ct12(test_12)\n",
    "test_36 = manipulate_ct36(test_36)"
   ]
  },
  {
   "cell_type": "code",
   "execution_count": 19,
   "metadata": {},
   "outputs": [
    {
     "name": "stdout",
     "output_type": "stream",
     "text": [
      "CT 1_2 accuracy =  0.8090277777777778\n",
      "Mean Squared Error:  0.1909722222222222\n"
     ]
    },
    {
     "data": {
      "image/png": "[encoded data removed]",
      "text/plain": [
       "<Figure size 576x396 with 2 Axes>"
      ]
     },
     "metadata": {},
     "output_type": "display_data"
    }
   ],
   "source": [
    "#run the mlp model for subset of cover type 1 and 2\n",
    "def subset_12():\n",
    "    \"\"\"This funciton trains a MLP model specifically on cover type 1 and 2 datasets\"\"\"\n",
    "    model = MLPClassifier(alpha=1e-3, hidden_layer_sizes=(200,), random_state=0, max_iter=200) \n",
    "    model.fit(train_data12, train_labels12) \n",
    "    predictions = model.predict(dev_data12)\n",
    "    ypred12 = model.predict(test_12)\n",
    "    res12 = pd.DataFrame.from_dict(dict(zip(test_12_id.to_list(),ypred12)), orient='index', columns=[\"Cover_Type\"])\n",
    "    score = model.score(dev_data12, dev_labels12)\n",
    "    probabilities = model.predict_proba(dev_data12)\n",
    "    plot_confusion_matrix(model, dev_data12, dev_labels12, values_format = \"d\")\n",
    "    plt.title(\"CT 1_2 Confusion Matrix\")\n",
    "    plt.plot()\n",
    "    print(\"CT 1_2 accuracy = \",score)\n",
    "    mse_nn = mean_squared_error(dev_labels12, predictions)\n",
    "    print(\"Mean Squared Error: \", mse_nn)\n",
    "           \n",
    "    return score, probabilities, res12\n",
    "score12, prob12, res12 = subset_12()"
   ]
  },
  {
   "cell_type": "code",
   "execution_count": 20,
   "metadata": {},
   "outputs": [
    {
     "name": "stdout",
     "output_type": "stream",
     "text": [
      "MLP accuracy =  0.8530092592592593\n",
      "Mean Squared Error:  1.3229166666666667\n"
     ]
    },
    {
     "data": {
      "image/png": "[encoded data removed]",
      "text/plain": [
       "<Figure size 576x396 with 2 Axes>"
      ]
     },
     "metadata": {},
     "output_type": "display_data"
    }
   ],
   "source": [
    "def subset_36():\n",
    "    \"\"\"This funciton trains a MLP model specifically on cover type 3 and 6 datasets\"\"\"\n",
    "    model = MLPClassifier(alpha=1e-3, hidden_layer_sizes=(200,), random_state=0, max_iter=200) \n",
    "    model.fit(train_data36, train_labels36) \n",
    "    predictions = model.predict(dev_data36)\n",
    "    ypred36 = model.predict(test_36)\n",
    "    res36 = pd.DataFrame.from_dict(dict(zip(test_36_id.to_list(),ypred36)), orient='index', columns=[\"Cover_Type\"])\n",
    "    score = model.score(dev_data36, dev_labels36)\n",
    "    probabilities = model.predict_proba(dev_data36)\n",
    "    plot_confusion_matrix(model, dev_data36, dev_labels36, values_format = \"d\")\n",
    "    plt.title(\"MLP Confusion Matrix\")\n",
    "    plt.plot()\n",
    "    print(\"MLP accuracy = \",score)\n",
    "    mse_nn = mean_squared_error(dev_labels36, predictions)\n",
    "    print(\"Mean Squared Error: \", mse_nn)\n",
    "           \n",
    "    return score, probabilities, res36, ypred36\n",
    "score36, prob36, res36, ypred36 = subset_36()"
   ]
  },
  {
   "cell_type": "markdown",
   "metadata": {},
   "source": [
    "#### Logistic Regression"
   ]
  },
  {
   "cell_type": "code",
   "execution_count": 21,
   "metadata": {},
   "outputs": [
    {
     "name": "stdout",
     "output_type": "stream",
     "text": [
      "Logistic Regression accuracy =  0.8197751322751323\n"
     ]
    }
   ],
   "source": [
    "models.logistic_regression(train_data, train_labels, dev_data, dev_labels)"
   ]
  },
  {
   "cell_type": "markdown",
   "metadata": {},
   "source": [
    "#### Neural Network "
   ]
  },
  {
   "cell_type": "code",
   "execution_count": 22,
   "metadata": {},
   "outputs": [],
   "source": [
    "# models.neural_network(train_data, train_labels, dev_data, dev_labels)"
   ]
  },
  {
   "cell_type": "markdown",
   "metadata": {},
   "source": [
    "#### Ensemble\n",
    "Here we will combine the three best performing models and implement a \"voting\" system to try to improve accuracy."
   ]
  },
  {
   "cell_type": "code",
   "execution_count": 23,
   "metadata": {},
   "outputs": [
    {
     "name": "stdout",
     "output_type": "stream",
     "text": [
      "Models disagreed on 2982/3024 dev examples.\n",
      "Mean Squared Error:  315.0671296296296\n",
      "Accuracy:  0.0006613756613756613\n"
     ]
    }
   ],
   "source": [
    "predicted_classes, new_predictions = models.ensemble(mlp_results,knn_results,random_forest_results, dev_labels)\n",
    "mse_ensemble = mean_squared_error(dev_labels, new_predictions)\n",
    "accuracy = accuracy_score(dev_labels, new_predictions)\n",
    "print(\"Mean Squared Error: \", mse_ensemble)\n",
    "print(\"Accuracy: \", accuracy)"
   ]
  },
  {
   "cell_type": "markdown",
   "metadata": {},
   "source": [
    "#### Examine and Compare Histograms of Predictions"
   ]
  },
  {
   "cell_type": "code",
   "execution_count": 24,
   "metadata": {},
   "outputs": [
    {
     "data": {
      "text/plain": [
       "(array([439., 438.,   0., 429.,   0., 816., 902.]),\n",
       " array([0.        , 0.57142857, 1.14285714, 1.71428571, 2.28571429,\n",
       "        2.85714286, 3.42857143, 4.        ]),\n",
       " <BarContainer object of 7 artists>)"
      ]
     },
     "execution_count": 24,
     "metadata": {},
     "output_type": "execute_result"
    },
    {
     "data": {
      "image/png": "[encoded data removed]",
      "text/plain": [
       "<Figure size 576x396 with 4 Axes>"
      ]
     },
     "metadata": {},
     "output_type": "display_data"
    }
   ],
   "source": [
    "fig, axes = plt.subplots(2,2)\n",
    "# Ensemble\n",
    "axes[0,0].hist(new_predictions, bins=7,color = 'red') \n",
    "# MLP\n",
    "axes[0,1].hist(predicted_classes[:,0], bins=7, color = 'orange') \n",
    "# KNN\n",
    "axes[1,0].hist(predicted_classes[:,1], bins=7, color = 'green') \n",
    "# Random Forest\n",
    "axes[1,1].hist(predicted_classes[:,2], bins=7, color = 'blue') "
   ]
  },
  {
   "cell_type": "markdown",
   "metadata": {},
   "source": [
    "### Test Results"
   ]
  },
  {
   "cell_type": "code",
   "execution_count": 25,
   "metadata": {},
   "outputs": [],
   "source": [
    "#generate predictions for test data\n",
    "# random_forest_predictions = random_forest_models[-1].predict(test_data)\n",
    "# knn_predictions = knn_models[0].predict(test_data)\n",
    "# mlp_predictions = mlp_model.predict(test_data)\n",
    "final_file = result[result.Cover_Type.isin([4,5,7])].append(res36).append(res12)"
   ]
  },
  {
   "cell_type": "markdown",
   "metadata": {},
   "source": [
    "#### Generate Submission File"
   ]
  },
  {
   "cell_type": "code",
   "execution_count": 26,
   "metadata": {},
   "outputs": [],
   "source": [
    "def gen_submission(file):\n",
    "#     result = pd.DataFrame.from_dict(dict(zip(test_df_ID.to_list(),y_pred)), orient='index', columns=[\"Cover_Type\"])\n",
    "    file.to_csv(f\"submissions/cobsolidated_submission.csv\",index_label=\"Id\")\n",
    "\n",
    "# gen_submission(random_forest_predictions, model=\"RandomForest\")\n",
    "# gen_submission(knn_predictions, model=\"KNN\")\n",
    "gen_submission(final_file)"
   ]
  },
  {
   "cell_type": "markdown",
   "metadata": {},
   "source": [
    "### End matter\n",
    "\n",
    "#### Acknowledgements/Sources\n",
    "\n",
    "* That helpful stack overflow post\n",
    "  * https://stackoverflow.com/questions/28663856/how-to-count-the-occurrence-of-certain-item-in-an-ndarray\n",
    "* Relevant Documentation\n",
    "  * KNeighborsClassifier\n",
    "    * https://scikit-learn.org/stable/modules/generated/sklearn.neighbors.KNeighborsClassifier.html\n",
    "  * Pretty Confusion Matrix\n",
    "    * https://scikit-learn.org/stable/modules/generated/sklearn.metrics.plot_confusion_matrix.html\n",
    "  * Preprocessing\n",
    "    * https://scikit-learn.org/stable/modules/generated/sklearn.preprocessing.normalize.html\n",
    "* Soil information\n",
    "  * https://www.uidaho.edu/cals/soil-orders/aridisols\n",
    "  \n",
    "#### Backup Formats\n",
    "\n",
    "*because sometimes you just want to look at the markdown or whatever real quick*"
   ]
  },
  {
   "cell_type": "code",
   "execution_count": 27,
   "metadata": {},
   "outputs": [
    {
     "name": "stdout",
     "output_type": "stream",
     "text": [
      "[NbConvertApp] Converting notebook clear_cut_solution.ipynb to python\n",
      "[NbConvertApp] Writing 15351 bytes to backups/clear_cut_solution.py\n",
      "[NbConvertApp] Converting notebook clear_cut_solution.ipynb to markdown\n",
      "[NbConvertApp] Support files will be in backups/clear_cut_solution_files/\n",
      "[NbConvertApp] Making directory backups/clear_cut_solution_files/backups\n",
      "[NbConvertApp] Making directory backups/clear_cut_solution_files/backups\n",
      "[NbConvertApp] Making directory backups/clear_cut_solution_files/backups\n",
      "[NbConvertApp] Making directory backups/clear_cut_solution_files/backups\n",
      "[NbConvertApp] Making directory backups/clear_cut_solution_files/backups\n",
      "[NbConvertApp] Making directory backups/clear_cut_solution_files/backups\n",
      "[NbConvertApp] Writing 23852 bytes to backups/clear_cut_solution.md\n",
      "[NbConvertApp] Converting notebook clear_cut_solution.ipynb to html\n",
      "[NbConvertApp] Writing 786754 bytes to backups/clear_cut_solution.html\n"
     ]
    }
   ],
   "source": [
    "#Create a backup of the jupyter notebook in a format for where changes are easier to see.\n",
    "!jupyter nbconvert clear_cut_solution.ipynb --to=\"python\" --output=\"backups/clear_cut_solution\"\n",
    "!jupyter nbconvert clear_cut_solution.ipynb --to markdown --output=\"backups/clear_cut_solution\"\n",
    "\n",
    "# Also archiving this bad boy\n",
    "!jupyter nbconvert clear_cut_solution.ipynb --to html --output=\"backups/clear_cut_solution\""
   ]
  },
  {
   "cell_type": "code",
   "execution_count": null,
   "metadata": {},
   "outputs": [],
   "source": []
  }
 ],
 "metadata": {
  "environment": {
   "name": "tf-gpu.1-15.m58",
   "type": "gcloud",
   "uri": "gcr.io/deeplearning-platform-release/tf-gpu.1-15:m58"
  },
  "kernelspec": {
   "display_name": "Python 3",
   "language": "python",
   "name": "python3"
  },
  "language_info": {
   "codemirror_mode": {
    "name": "ipython",
    "version": 3
   },
   "file_extension": ".py",
   "mimetype": "text/x-python",
   "name": "python",
   "nbconvert_exporter": "python",
   "pygments_lexer": "ipython3",
   "version": "3.8.6"
  }
 },
 "nbformat": 4,
 "nbformat_minor": 4
}

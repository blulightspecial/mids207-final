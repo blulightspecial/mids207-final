{
 "cells": [
  {
   "cell_type": "code",
   "execution_count": 28,
   "metadata": {},
   "outputs": [],
   "source": [
    "# This tells matplotlib not to try opening a new window for each plot.\n",
    "%matplotlib inline\n",
    "\n",
    "# Libraries for reading, cleaning and plotting the dataa\n",
    "import numpy as np \n",
    "import pandas as pd \n",
    "import csv\n",
    "import matplotlib.pyplot as plt\n",
    "\n",
    "\n",
    "# Libraries for models \n",
    "from sklearn.ensemble import RandomForestClassifier\n",
    "from sklearn.metrics import confusion_matrix"
   ]
  },
  {
   "cell_type": "code",
   "execution_count": 29,
   "metadata": {},
   "outputs": [],
   "source": [
    "# Read in training data \n",
    "training_data = []\n",
    "with open('data/train.csv', newline='') as csvfile:\n",
    "    train_data = csv.reader(csvfile, delimiter=',', quotechar='|')\n",
    "    for row in train_data:\n",
    "        training_data.append(row)\n",
    "            \n",
    "# Convert to a numpy array of type int (except for the label row)\n",
    "training_data = np.array(training_data[1:]).astype(int)   \n",
    "\n",
    "# Read in test data\n",
    "testing_data = []\n",
    "with open('data/test.csv', newline='') as csvfile:\n",
    "    test_data = csv.reader(csvfile, delimiter=',', quotechar='|')\n",
    "    for row in test_data:\n",
    "        testing_data.append(row)\n",
    "\n",
    "# The testing file is huge so only read in 30k \n",
    "test_data = np.array(testing_data[1:30001]).astype(int)        "
   ]
  },
  {
   "cell_type": "code",
   "execution_count": 36,
   "metadata": {},
   "outputs": [],
   "source": [
    "# Shuffle the input: create a random permutation of the integers between 0 and the number of data points and apply this\n",
    "# permutation to X and Y.\n",
    "# NOTE: Each time you run this cell, you'll re-shuffle the data, resulting in a different ordering.\n",
    "shuffle = np.random.permutation(np.arange(training_data.shape[0]))\n",
    "training_data = training_data[shuffle]\n",
    "\n",
    "# Split training data (labeled) into 80% training and 20% dev)\n",
    "train_data = training_data[1:12096, :-1]\n",
    "train_labels = training_data[1:12096, -1]\n",
    "dev_data = training_data[12096:, :-1]\n",
    "dev_labels = training_data[12096:, -1]"
   ]
  },
  {
   "cell_type": "code",
   "execution_count": 37,
   "metadata": {},
   "outputs": [
    {
     "name": "stdout",
     "output_type": "stream",
     "text": [
      "Training data shape: (12095, 55) Training labels shape: (12095,)\n",
      "Dev data shape: (12095, 55) Dev labels shape: (12095,)\n",
      "Test data shape:  (30000, 55)\n",
      "First training example:  [4114 3100   96   31  162   32 2794  251  180   33 3697    1    0    0\n",
      "    0    0    0    0    0    0    0    0    0    0    0    0    0    0\n",
      "    0    0    0    0    0    0    0    0    1    0    0    0    0    0\n",
      "    0    0    0    0    0    0    0    0    0    0    0    0    0] 1\n",
      "First dev example:  [8771 3128  165   24  272   -9 1782  233  239  123 2110    0    0    1\n",
      "    0    0    0    0    0    0    0    0    0    0    0    0    0    0\n",
      "    0    0    0    0    0    0    0    0    0    0    0    0    0    0\n",
      "    0    0    0    0    0    1    0    0    0    0    0    0    0] 1\n",
      "First test example:  [15121  2680   354    14     0     0  2684   196   214   156  6645     1\n",
      "     0     0     0     0     0     0     0     0     0     0     0     0\n",
      "     0     0     0     0     0     0     0     0     0     0     0     0\n",
      "     0     0     0     0     0     0     0     1     0     0     0     0\n",
      "     0     0     0     0     0     0     0]\n"
     ]
    }
   ],
   "source": [
    "# Explore and confirm the shape of the data\n",
    "print(\"Training data shape: {0} Training labels shape: {1}\".format(train_data.shape, train_labels.shape))\n",
    "print(\"Dev data shape: {0} Dev labels shape: {1}\".format(train_data.shape, train_labels.shape))\n",
    "print(\"Test data shape: \", test_data.shape)\n",
    "print(\"First training example: \", train_data[0], train_labels [0])\n",
    "print(\"First dev example: \", dev_data[0], dev_labels [0])\n",
    "print(\"First test example: \", test_data[0])"
   ]
  },
  {
   "cell_type": "code",
   "execution_count": 35,
   "metadata": {},
   "outputs": [
    {
     "name": "stdout",
     "output_type": "stream",
     "text": [
      "Random Forest Performance:  0.2562830687830688\n",
      "Random Forest Confusion Matrix:\n",
      "\n",
      "[[  0   0   0   0   0   0   0]\n",
      " [  0   1   0   0   1   1   0]\n",
      " [  0   0   0   0   0   0   0]\n",
      " [374 423 432 446 385 422 172]\n",
      " [  2  11   1   0  48   1   0]\n",
      " [  0   0   0   0   0   6   0]\n",
      " [ 24   0   0   0   0   0 274]]\n"
     ]
    }
   ],
   "source": [
    "# Try a random forest - before any data cleaning \n",
    "def RandomForest():\n",
    "    num_trees_list = [1,3,5,10,100]\n",
    "    for num_trees in num_trees_list:\n",
    "        model = RandomForestClassifier(num_trees,max_depth=3)\n",
    "        model.fit(train_data, train_labels)\n",
    "        predictions = model.predict(dev_data)\n",
    "        score = model.score(dev_data, dev_labels)\n",
    "        print(\"Random Forest Performance for {} trees: {}\".format score)\n",
    "        print(\"Random Forest Confusion Matrix:\\n\")\n",
    "        print(confusion_matrix(predictions, dev_labels))\n",
    "\n",
    "RandomForest()"
   ]
  },
  {
   "cell_type": "code",
   "execution_count": null,
   "metadata": {},
   "outputs": [],
   "source": []
  }
 ],
 "metadata": {
  "environment": {
   "name": "tf2-2-3-gpu.2-3.m56",
   "type": "gcloud",
   "uri": "gcr.io/deeplearning-platform-release/tf2-2-3-gpu.2-3:m56"
  },
  "kernelspec": {
   "display_name": "Python 3",
   "language": "python",
   "name": "python3"
  },
  "language_info": {
   "codemirror_mode": {
    "name": "ipython",
    "version": 3
   },
   "file_extension": ".py",
   "mimetype": "text/x-python",
   "name": "python",
   "nbconvert_exporter": "python",
   "pygments_lexer": "ipython3",
   "version": "3.7.8"
  }
 },
 "nbformat": 4,
 "nbformat_minor": 4
}

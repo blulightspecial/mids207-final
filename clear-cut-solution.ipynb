{
 "cells": [
  {
   "cell_type": "code",
   "execution_count": 42,
   "metadata": {},
   "outputs": [],
   "source": [
    "# This tells matplotlib not to try opening a new window for each plot.\n",
    "%matplotlib inline\n",
    "\n",
    "# Libraries for reading, cleaning and plotting the dataa\n",
    "import numpy as np \n",
    "import pandas as pd \n",
    "import csv\n",
    "import matplotlib.pyplot as plt\n",
    "\n",
    "\n",
    "# Libraries for models \n",
    "from sklearn.ensemble import RandomForestClassifier\n",
    "from sklearn.metrics import confusion_matrix"
   ]
  },
  {
   "cell_type": "code",
   "execution_count": 43,
   "metadata": {},
   "outputs": [],
   "source": [
    "# Read in training data \n",
    "training_data = []\n",
    "with open('data/train.csv', newline='') as csvfile:\n",
    "    train_data = csv.reader(csvfile, delimiter=',', quotechar='|')\n",
    "    for row in train_data:\n",
    "        training_data.append(row)\n",
    "            \n",
    "# Convert to a numpy array of type int (except for the label row)\n",
    "training_data = np.array(training_data[1:]).astype(int)   \n",
    "\n",
    "# Read in test data\n",
    "testing_data = []\n",
    "with open('data/test.csv', newline='') as csvfile:\n",
    "    test_data = csv.reader(csvfile, delimiter=',', quotechar='|')\n",
    "    for row in test_data:\n",
    "        testing_data.append(row)\n",
    "\n",
    "# The testing file is huge so only read in 30k \n",
    "test_data = np.array(testing_data[1:30001]).astype(int)        "
   ]
  },
  {
   "cell_type": "code",
   "execution_count": 44,
   "metadata": {},
   "outputs": [],
   "source": [
    "# Shuffle the input: create a random permutation of the integers between 0 and the number of data points and apply this\n",
    "# permutation to X and Y.\n",
    "# NOTE: Each time you run this cell, you'll re-shuffle the data, resulting in a different ordering.\n",
    "shuffle = np.random.permutation(np.arange(training_data.shape[0]))\n",
    "training_data = training_data[shuffle]\n",
    "\n",
    "# Split training data (labeled) into 80% training and 20% dev)\n",
    "train_data = training_data[1:12096, :-1]\n",
    "train_labels = training_data[1:12096, -1]\n",
    "dev_data = training_data[12096:, :-1]\n",
    "dev_labels = training_data[12096:, -1]"
   ]
  },
  {
   "cell_type": "code",
   "execution_count": 45,
   "metadata": {},
   "outputs": [
    {
     "name": "stdout",
     "output_type": "stream",
     "text": [
      "Training data shape: (12095, 55) Training labels shape: (12095,)\n",
      "Dev data shape: (12095, 55) Dev labels shape: (12095,)\n",
      "Test data shape:  (30000, 55)\n",
      "First training example:  [5340 2269  125   28   67   28  408  253  208   62 1879    0    0    0\n",
      "    1    0    0    1    0    0    0    0    0    0    0    0    0    0\n",
      "    0    0    0    0    0    0    0    0    0    0    0    0    0    0\n",
      "    0    0    0    0    0    0    0    0    0    0    0    0    0] 4\n",
      "First dev example:  [1176 2807   62   22  485  119  497  233  189   79 2460    1    0    0\n",
      "    0    0    0    0    0    0    0    0    0    0    0    0    0    0\n",
      "    0    0    0    0    0    0    0    0    0    0    1    0    0    0\n",
      "    0    0    0    0    0    0    0    0    0    0    0    0    0] 2\n",
      "First test example:  [15121  2680   354    14     0     0  2684   196   214   156  6645     1\n",
      "     0     0     0     0     0     0     0     0     0     0     0     0\n",
      "     0     0     0     0     0     0     0     0     0     0     0     0\n",
      "     0     0     0     0     0     0     0     1     0     0     0     0\n",
      "     0     0     0     0     0     0     0]\n"
     ]
    }
   ],
   "source": [
    "# Explore and confirm the shape of the data\n",
    "print(\"Training data shape: {0} Training labels shape: {1}\".format(train_data.shape, train_labels.shape))\n",
    "print(\"Dev data shape: {0} Dev labels shape: {1}\".format(train_data.shape, train_labels.shape))\n",
    "print(\"Test data shape: \", test_data.shape)\n",
    "print(\"First training example: \", train_data[0], train_labels [0])\n",
    "print(\"First dev example: \", dev_data[0], dev_labels [0])\n",
    "print(\"First test example: \", test_data[0])"
   ]
  },
  {
   "cell_type": "code",
   "execution_count": 46,
   "metadata": {},
   "outputs": [
    {
     "name": "stdout",
     "output_type": "stream",
     "text": [
      "Random Forest Performance for 1 trees: 0.5545634920634921\n",
      "Random Forest Confusion Matrix:\n",
      "\n",
      "[[244 168   8   0  83   7  77]\n",
      " [ 66 115  15   0  59  16   6]\n",
      " [  0   9 221  51   6 165   0]\n",
      " [  0   1  65 369   0  46   0]\n",
      " [ 62  66  49   0 277  31  65]\n",
      " [  0   9  61  13  17 171   0]\n",
      " [ 70  54   0   0   2   0 280]]\n",
      "Random Forest Performance for 3 trees: 0.6861772486772487\n",
      "Random Forest Confusion Matrix:\n",
      "\n",
      "[[245 121   1   0   3   2  44]\n",
      " [ 50 154   1   0  52   0   1]\n",
      " [  0   3 268  25  11  89   1]\n",
      " [  0   1  39 390   0  29   0]\n",
      " [ 41  92  16   0 354  31   0]\n",
      " [  2  13  93  18  12 282   0]\n",
      " [104  38   1   0  12   3 382]]\n",
      "Random Forest Performance for 5 trees: 0.7314814814814815\n",
      "Random Forest Confusion Matrix:\n",
      "\n",
      "[[263  97   1   0   5   0  18]\n",
      " [ 87 209   5   0  52   7   7]\n",
      " [  1   9 286  18  23  91   0]\n",
      " [  0   0  44 409   0  31   1]\n",
      " [ 41  77   8   0 352  14   2]\n",
      " [  1  25  75   6  12 293   0]\n",
      " [ 49   5   0   0   0   0 400]]\n",
      "Random Forest Performance for 10 trees: 0.7318121693121693\n",
      "Random Forest Confusion Matrix:\n",
      "\n",
      "[[266  91   2   0   7   2  27]\n",
      " [ 75 232   0   0  35   0   2]\n",
      " [  1   5 246  13   5  94   0]\n",
      " [  0   0  57 412   0  37   0]\n",
      " [ 42  82  57   0 391  34   2]\n",
      " [  2   5  57   8   6 269   0]\n",
      " [ 56   7   0   0   0   0 397]]\n",
      "Random Forest Performance for 100 trees: 0.7658730158730159\n",
      "Random Forest Confusion Matrix:\n",
      "\n",
      "[[303 103   0   0   0   0  14]\n",
      " [ 61 224   1   0  42   2   0]\n",
      " [  0   7 294  17  12  89   0]\n",
      " [  0   0  45 407   0  33   0]\n",
      " [ 30  69  16   0 380  17   1]\n",
      " [  3  14  63   9  10 295   0]\n",
      " [ 45   5   0   0   0   0 413]]\n"
     ]
    }
   ],
   "source": [
    "# Try a random forest - before any data cleaning \n",
    "def RandomForest(num_trees):\n",
    "    model = RandomForestClassifier(num_trees,max_depth=8)\n",
    "    model.fit(train_data, train_labels)\n",
    "    predictions = model.predict(dev_data)\n",
    "    score = model.score(dev_data, dev_labels)\n",
    "    print(\"Random Forest Performance for {0} trees: {1}\".format(num_trees,score))\n",
    "    print(\"Random Forest Confusion Matrix:\\n\")\n",
    "    print(confusion_matrix(predictions, dev_labels))\n",
    "    \n",
    "num_trees_list = [1,3,5,10,100]\n",
    "for num_trees in num_trees_list:\n",
    "    RandomForest(num_trees)"
   ]
  },
  {
   "cell_type": "code",
   "execution_count": null,
   "metadata": {},
   "outputs": [],
   "source": []
  }
 ],
 "metadata": {
  "environment": {
   "name": "tf2-2-3-gpu.2-3.m56",
   "type": "gcloud",
   "uri": "gcr.io/deeplearning-platform-release/tf2-2-3-gpu.2-3:m56"
  },
  "kernelspec": {
   "display_name": "Python 3",
   "language": "python",
   "name": "python3"
  },
  "language_info": {
   "codemirror_mode": {
    "name": "ipython",
    "version": 3
   },
   "file_extension": ".py",
   "mimetype": "text/x-python",
   "name": "python",
   "nbconvert_exporter": "python",
   "pygments_lexer": "ipython3",
   "version": "3.7.8"
  }
 },
 "nbformat": 4,
 "nbformat_minor": 4
}

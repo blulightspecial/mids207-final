{
 "cells": [
  {
   "cell_type": "markdown",
   "metadata": {
    "colab_type": "text",
    "id": "view-in-github"
   },
   "source": [
    "<a href=\"https://colab.research.google.com/github/justinetaylor/mids-w207-final-project/blob/yang_branch/clear_cut_solution.ipynb\" target=\"_parent\"><img src=\"https://colab.research.google.com/assets/colab-badge.svg\" alt=\"Open In Colab\"/></a>"
   ]
  },
  {
   "cell_type": "markdown",
   "metadata": {
    "id": "WzBQrcO0RBF7"
   },
   "source": [
    "# Forest Cover Type Prediction\n",
    "#### Team: Clear-Cut Solution: Kevin Martin, Yang Jing, Justine Schabel"
   ]
  },
  {
   "cell_type": "markdown",
   "metadata": {},
   "source": [
    "## Initial Setup\n",
    "### Import Required Libraries"
   ]
  },
  {
   "cell_type": "code",
   "execution_count": 2,
   "metadata": {
    "id": "E1mvKJRoRBF8"
   },
   "outputs": [],
   "source": [
    "# This tells matplotlib not to try opening a new window for each plot.\n",
    "%matplotlib inline\n",
    "\n",
    "# Libraries for reading, cleaning and plotting the dataa\n",
    "import numpy as np \n",
    "import pandas as pd \n",
    "import csv\n",
    "import matplotlib.pyplot as plt\n",
    "plt.style.use('seaborn')\n",
    "import seaborn as sns\n",
    "import os\n",
    "import re\n",
    "import warnings\n",
    "warnings.simplefilter(\"ignore\")\n",
    "\n",
    "# Libraries for models \n",
    "from sklearn.ensemble import RandomForestClassifier\n",
    "from sklearn.naive_bayes import BernoulliNB\n",
    "from sklearn.naive_bayes import MultinomialNB\n",
    "from sklearn.neighbors import KNeighborsClassifier\n",
    "from sklearn.metrics import confusion_matrix\n",
    "from sklearn.metrics import plot_confusion_matrix\n",
    "from sklearn.neural_network import MLPClassifier\n",
    "from sklearn.preprocessing import StandardScaler\n",
    "from sklearn.preprocessing import MinMaxScaler\n",
    "from sklearn.linear_model import LogisticRegression\n",
    "from sklearn.metrics import mean_squared_error\n",
    "from sklearn.metrics import accuracy_score\n",
    "from sklearn.feature_extraction.text import CountVectorizer #count up occurences of words\n",
    "import tensorflow as tf\n",
    "tf.enable_eager_execution()"
   ]
  },
  {
   "cell_type": "code",
   "execution_count": 3,
   "metadata": {
    "colab": {
     "base_uri": "https://localhost:8080/"
    },
    "id": "wKC7Up6cRZ9P",
    "outputId": "7e26f8f0-09e0-4c22-ed49-b7649373c3bf"
   },
   "outputs": [],
   "source": [
    "# Mount the drive for file storage\n",
    "# from google.colab import drive\n",
    "# drive.mount('/content/drive')"
   ]
  },
  {
   "cell_type": "code",
   "execution_count": 4,
   "metadata": {
    "id": "RMm1QtRyRMfz"
   },
   "outputs": [],
   "source": [
    "# os.chdir('/content/drive/My Drive/W207-Final-Project')"
   ]
  },
  {
   "cell_type": "markdown",
   "metadata": {},
   "source": [
    "### Load Data"
   ]
  },
  {
   "cell_type": "code",
   "execution_count": 5,
   "metadata": {
    "id": "LjWPqxyfRBGB"
   },
   "outputs": [
    {
     "ename": "FileNotFoundError",
     "evalue": "[Errno 2] No such file or directory: 'data/train.csv'",
     "output_type": "error",
     "traceback": [
      "\u001b[0;31m---------------------------------------------------------------------------\u001b[0m",
      "\u001b[0;31mFileNotFoundError\u001b[0m                         Traceback (most recent call last)",
      "\u001b[0;32m<ipython-input-5-9adcccef1b84>\u001b[0m in \u001b[0;36m<module>\u001b[0;34m\u001b[0m\n\u001b[1;32m      1\u001b[0m \u001b[0;31m# Read in training data\u001b[0m\u001b[0;34m\u001b[0m\u001b[0;34m\u001b[0m\u001b[0;34m\u001b[0m\u001b[0m\n\u001b[0;32m----> 2\u001b[0;31m \u001b[0mtrain_df\u001b[0m \u001b[0;34m=\u001b[0m \u001b[0mpd\u001b[0m\u001b[0;34m.\u001b[0m\u001b[0mread_csv\u001b[0m\u001b[0;34m(\u001b[0m\u001b[0;34m\"data/train.csv\"\u001b[0m\u001b[0;34m)\u001b[0m\u001b[0;34m\u001b[0m\u001b[0;34m\u001b[0m\u001b[0m\n\u001b[0m\u001b[1;32m      3\u001b[0m \u001b[0mtest_df\u001b[0m \u001b[0;34m=\u001b[0m \u001b[0mpd\u001b[0m\u001b[0;34m.\u001b[0m\u001b[0mread_csv\u001b[0m\u001b[0;34m(\u001b[0m\u001b[0;34m\"data/test.csv\"\u001b[0m\u001b[0;34m)\u001b[0m\u001b[0;34m\u001b[0m\u001b[0;34m\u001b[0m\u001b[0m\n\u001b[1;32m      4\u001b[0m \u001b[0;31m# Preserve testing df ID for submission purpose\u001b[0m\u001b[0;34m\u001b[0m\u001b[0;34m\u001b[0m\u001b[0;34m\u001b[0m\u001b[0m\n\u001b[1;32m      5\u001b[0m \u001b[0mtest_df_ID\u001b[0m \u001b[0;34m=\u001b[0m \u001b[0mtest_df\u001b[0m\u001b[0;34m[\u001b[0m\u001b[0;34m\"Id\"\u001b[0m\u001b[0;34m]\u001b[0m\u001b[0;34m\u001b[0m\u001b[0;34m\u001b[0m\u001b[0m\n",
      "\u001b[0;32m/opt/conda/lib/python3.7/site-packages/pandas/io/parsers.py\u001b[0m in \u001b[0;36mread_csv\u001b[0;34m(filepath_or_buffer, sep, delimiter, header, names, index_col, usecols, squeeze, prefix, mangle_dupe_cols, dtype, engine, converters, true_values, false_values, skipinitialspace, skiprows, skipfooter, nrows, na_values, keep_default_na, na_filter, verbose, skip_blank_lines, parse_dates, infer_datetime_format, keep_date_col, date_parser, dayfirst, cache_dates, iterator, chunksize, compression, thousands, decimal, lineterminator, quotechar, quoting, doublequote, escapechar, comment, encoding, dialect, error_bad_lines, warn_bad_lines, delim_whitespace, low_memory, memory_map, float_precision)\u001b[0m\n\u001b[1;32m    684\u001b[0m     )\n\u001b[1;32m    685\u001b[0m \u001b[0;34m\u001b[0m\u001b[0m\n\u001b[0;32m--> 686\u001b[0;31m     \u001b[0;32mreturn\u001b[0m \u001b[0m_read\u001b[0m\u001b[0;34m(\u001b[0m\u001b[0mfilepath_or_buffer\u001b[0m\u001b[0;34m,\u001b[0m \u001b[0mkwds\u001b[0m\u001b[0;34m)\u001b[0m\u001b[0;34m\u001b[0m\u001b[0;34m\u001b[0m\u001b[0m\n\u001b[0m\u001b[1;32m    687\u001b[0m \u001b[0;34m\u001b[0m\u001b[0m\n\u001b[1;32m    688\u001b[0m \u001b[0;34m\u001b[0m\u001b[0m\n",
      "\u001b[0;32m/opt/conda/lib/python3.7/site-packages/pandas/io/parsers.py\u001b[0m in \u001b[0;36m_read\u001b[0;34m(filepath_or_buffer, kwds)\u001b[0m\n\u001b[1;32m    450\u001b[0m \u001b[0;34m\u001b[0m\u001b[0m\n\u001b[1;32m    451\u001b[0m     \u001b[0;31m# Create the parser.\u001b[0m\u001b[0;34m\u001b[0m\u001b[0;34m\u001b[0m\u001b[0;34m\u001b[0m\u001b[0m\n\u001b[0;32m--> 452\u001b[0;31m     \u001b[0mparser\u001b[0m \u001b[0;34m=\u001b[0m \u001b[0mTextFileReader\u001b[0m\u001b[0;34m(\u001b[0m\u001b[0mfp_or_buf\u001b[0m\u001b[0;34m,\u001b[0m \u001b[0;34m**\u001b[0m\u001b[0mkwds\u001b[0m\u001b[0;34m)\u001b[0m\u001b[0;34m\u001b[0m\u001b[0;34m\u001b[0m\u001b[0m\n\u001b[0m\u001b[1;32m    453\u001b[0m \u001b[0;34m\u001b[0m\u001b[0m\n\u001b[1;32m    454\u001b[0m     \u001b[0;32mif\u001b[0m \u001b[0mchunksize\u001b[0m \u001b[0;32mor\u001b[0m \u001b[0miterator\u001b[0m\u001b[0;34m:\u001b[0m\u001b[0;34m\u001b[0m\u001b[0;34m\u001b[0m\u001b[0m\n",
      "\u001b[0;32m/opt/conda/lib/python3.7/site-packages/pandas/io/parsers.py\u001b[0m in \u001b[0;36m__init__\u001b[0;34m(self, f, engine, **kwds)\u001b[0m\n\u001b[1;32m    944\u001b[0m             \u001b[0mself\u001b[0m\u001b[0;34m.\u001b[0m\u001b[0moptions\u001b[0m\u001b[0;34m[\u001b[0m\u001b[0;34m\"has_index_names\"\u001b[0m\u001b[0;34m]\u001b[0m \u001b[0;34m=\u001b[0m \u001b[0mkwds\u001b[0m\u001b[0;34m[\u001b[0m\u001b[0;34m\"has_index_names\"\u001b[0m\u001b[0;34m]\u001b[0m\u001b[0;34m\u001b[0m\u001b[0;34m\u001b[0m\u001b[0m\n\u001b[1;32m    945\u001b[0m \u001b[0;34m\u001b[0m\u001b[0m\n\u001b[0;32m--> 946\u001b[0;31m         \u001b[0mself\u001b[0m\u001b[0;34m.\u001b[0m\u001b[0m_make_engine\u001b[0m\u001b[0;34m(\u001b[0m\u001b[0mself\u001b[0m\u001b[0;34m.\u001b[0m\u001b[0mengine\u001b[0m\u001b[0;34m)\u001b[0m\u001b[0;34m\u001b[0m\u001b[0;34m\u001b[0m\u001b[0m\n\u001b[0m\u001b[1;32m    947\u001b[0m \u001b[0;34m\u001b[0m\u001b[0m\n\u001b[1;32m    948\u001b[0m     \u001b[0;32mdef\u001b[0m \u001b[0mclose\u001b[0m\u001b[0;34m(\u001b[0m\u001b[0mself\u001b[0m\u001b[0;34m)\u001b[0m\u001b[0;34m:\u001b[0m\u001b[0;34m\u001b[0m\u001b[0;34m\u001b[0m\u001b[0m\n",
      "\u001b[0;32m/opt/conda/lib/python3.7/site-packages/pandas/io/parsers.py\u001b[0m in \u001b[0;36m_make_engine\u001b[0;34m(self, engine)\u001b[0m\n\u001b[1;32m   1176\u001b[0m     \u001b[0;32mdef\u001b[0m \u001b[0m_make_engine\u001b[0m\u001b[0;34m(\u001b[0m\u001b[0mself\u001b[0m\u001b[0;34m,\u001b[0m \u001b[0mengine\u001b[0m\u001b[0;34m=\u001b[0m\u001b[0;34m\"c\"\u001b[0m\u001b[0;34m)\u001b[0m\u001b[0;34m:\u001b[0m\u001b[0;34m\u001b[0m\u001b[0;34m\u001b[0m\u001b[0m\n\u001b[1;32m   1177\u001b[0m         \u001b[0;32mif\u001b[0m \u001b[0mengine\u001b[0m \u001b[0;34m==\u001b[0m \u001b[0;34m\"c\"\u001b[0m\u001b[0;34m:\u001b[0m\u001b[0;34m\u001b[0m\u001b[0;34m\u001b[0m\u001b[0m\n\u001b[0;32m-> 1178\u001b[0;31m             \u001b[0mself\u001b[0m\u001b[0;34m.\u001b[0m\u001b[0m_engine\u001b[0m \u001b[0;34m=\u001b[0m \u001b[0mCParserWrapper\u001b[0m\u001b[0;34m(\u001b[0m\u001b[0mself\u001b[0m\u001b[0;34m.\u001b[0m\u001b[0mf\u001b[0m\u001b[0;34m,\u001b[0m \u001b[0;34m**\u001b[0m\u001b[0mself\u001b[0m\u001b[0;34m.\u001b[0m\u001b[0moptions\u001b[0m\u001b[0;34m)\u001b[0m\u001b[0;34m\u001b[0m\u001b[0;34m\u001b[0m\u001b[0m\n\u001b[0m\u001b[1;32m   1179\u001b[0m         \u001b[0;32melse\u001b[0m\u001b[0;34m:\u001b[0m\u001b[0;34m\u001b[0m\u001b[0;34m\u001b[0m\u001b[0m\n\u001b[1;32m   1180\u001b[0m             \u001b[0;32mif\u001b[0m \u001b[0mengine\u001b[0m \u001b[0;34m==\u001b[0m \u001b[0;34m\"python\"\u001b[0m\u001b[0;34m:\u001b[0m\u001b[0;34m\u001b[0m\u001b[0;34m\u001b[0m\u001b[0m\n",
      "\u001b[0;32m/opt/conda/lib/python3.7/site-packages/pandas/io/parsers.py\u001b[0m in \u001b[0;36m__init__\u001b[0;34m(self, src, **kwds)\u001b[0m\n\u001b[1;32m   2006\u001b[0m         \u001b[0mkwds\u001b[0m\u001b[0;34m[\u001b[0m\u001b[0;34m\"usecols\"\u001b[0m\u001b[0;34m]\u001b[0m \u001b[0;34m=\u001b[0m \u001b[0mself\u001b[0m\u001b[0;34m.\u001b[0m\u001b[0musecols\u001b[0m\u001b[0;34m\u001b[0m\u001b[0;34m\u001b[0m\u001b[0m\n\u001b[1;32m   2007\u001b[0m \u001b[0;34m\u001b[0m\u001b[0m\n\u001b[0;32m-> 2008\u001b[0;31m         \u001b[0mself\u001b[0m\u001b[0;34m.\u001b[0m\u001b[0m_reader\u001b[0m \u001b[0;34m=\u001b[0m \u001b[0mparsers\u001b[0m\u001b[0;34m.\u001b[0m\u001b[0mTextReader\u001b[0m\u001b[0;34m(\u001b[0m\u001b[0msrc\u001b[0m\u001b[0;34m,\u001b[0m \u001b[0;34m**\u001b[0m\u001b[0mkwds\u001b[0m\u001b[0;34m)\u001b[0m\u001b[0;34m\u001b[0m\u001b[0;34m\u001b[0m\u001b[0m\n\u001b[0m\u001b[1;32m   2009\u001b[0m         \u001b[0mself\u001b[0m\u001b[0;34m.\u001b[0m\u001b[0munnamed_cols\u001b[0m \u001b[0;34m=\u001b[0m \u001b[0mself\u001b[0m\u001b[0;34m.\u001b[0m\u001b[0m_reader\u001b[0m\u001b[0;34m.\u001b[0m\u001b[0munnamed_cols\u001b[0m\u001b[0;34m\u001b[0m\u001b[0;34m\u001b[0m\u001b[0m\n\u001b[1;32m   2010\u001b[0m \u001b[0;34m\u001b[0m\u001b[0m\n",
      "\u001b[0;32mpandas/_libs/parsers.pyx\u001b[0m in \u001b[0;36mpandas._libs.parsers.TextReader.__cinit__\u001b[0;34m()\u001b[0m\n",
      "\u001b[0;32mpandas/_libs/parsers.pyx\u001b[0m in \u001b[0;36mpandas._libs.parsers.TextReader._setup_parser_source\u001b[0;34m()\u001b[0m\n",
      "\u001b[0;31mFileNotFoundError\u001b[0m: [Errno 2] No such file or directory: 'data/train.csv'"
     ]
    }
   ],
   "source": [
    "# Read in training data \n",
    "train_df = pd.read_csv(\"data/train.csv\")\n",
    "test_df = pd.read_csv(\"data/test.csv\")\n",
    "# Preserve testing df ID for submission purpose\n",
    "test_df_ID = test_df[\"Id\"]"
   ]
  },
  {
   "cell_type": "markdown",
   "metadata": {
    "id": "3GrHeyW7VXiz"
   },
   "source": [
    "## Feature Engineering "
   ]
  },
  {
   "cell_type": "markdown",
   "metadata": {},
   "source": [
    "#### Scale Hillshade\n",
    "\n",
    "Now we'll normalize the \"Hillsdale\" variables by dividing them by 255. The hillshade variables contain index of shades with a value between 0 and 255. "
   ]
  },
  {
   "cell_type": "code",
   "execution_count": null,
   "metadata": {
    "id": "TpTqdq_5McMv"
   },
   "outputs": [],
   "source": [
    "fe1_cols = ['Hillshade_9am', 'Hillshade_Noon',\n",
    "       'Hillshade_3pm']\n",
    "train_df[fe1_cols] = train_df[fe1_cols]/255\n",
    "test_df[fe1_cols] = test_df[fe1_cols]/255"
   ]
  },
  {
   "cell_type": "markdown",
   "metadata": {},
   "source": [
    "#### Create New Soil Types"
   ]
  },
  {
   "cell_type": "markdown",
   "metadata": {
    "id": "SINIJ7g_k7UG"
   },
   "source": [
    "Now we'll create additional features to magnify the differences betweeen cover type1 and 2, and covery type3 and 6."
   ]
  },
  {
   "cell_type": "code",
   "execution_count": null,
   "metadata": {},
   "outputs": [],
   "source": [
    "def st_fe(df):\n",
    "    # Create additional features to magnify the differences between cover type 1 and 2\n",
    "    # Combine soil type 2,18,25,3,36,6,8,28,34 and wildness area 4 as only cover type 2 appers under these features\n",
    "    df[\"type2stwa4\"] = df[\"Soil_Type6\"] + df[\"Wilderness_Area4\"] +  \\\n",
    "df[\"Soil_Type2\"]+ df[\"Soil_Type18\"] +  df[\"Soil_Type25\"] +  \\\n",
    "df[\"Soil_Type3\"] + df[\"Soil_Type36\"]+ \\\n",
    "df[\"Soil_Type8\"] + df[\"Soil_Type34\"]+ df[\"Soil_Type28\"]\n",
    "\n",
    "    #Combine soil type 12 and 9 as they appear a lot more under cover type 2 but fewer under cover type 1, none under cover type 5 \n",
    "    df[\"st_912\"] = df[\"Soil_Type12\"] + df[\"Soil_Type9\"] \n",
    "\n",
    "    # Combine soil type 20, 23, 24, 31, 33 and 34 as only cover type 6 appears under these features but not cover type 3.\n",
    "    df[\"type6st\"] = df[\"Soil_Type20\"] + df[\"Soil_Type23\"]+ \\\n",
    "    df[\"Soil_Type24\"] +  df[\"Soil_Type31\"] + df[\"Soil_Type33\"] +  df[\"Soil_Type34\"]\n",
    "    return df"
   ]
  },
  {
   "cell_type": "code",
   "execution_count": null,
   "metadata": {
    "id": "d9Q9dHUsjxJm"
   },
   "outputs": [],
   "source": [
    "# train_df = st_fe(train_df)\n",
    "# test_df = st_fe(test_df)"
   ]
  },
  {
   "cell_type": "markdown",
   "metadata": {
    "id": "OVpR8X4vRBGh"
   },
   "source": [
    "#### Drop Non-Existant Soil Types\n",
    "\n",
    "Now we'll drop soil types that don't exist in the training set. Then we will combine soil types 35, 38, 39 and 40 because they have a very similar distribution. "
   ]
  },
  {
   "cell_type": "code",
   "execution_count": null,
   "metadata": {
    "colab": {
     "base_uri": "https://localhost:8080/"
    },
    "id": "7iT8zCZ2RBGi",
    "outputId": "023af93d-6351-4687-82a8-b90bb3adac38"
   },
   "outputs": [],
   "source": [
    "def drop_soil(df):\n",
    "    # Remove soil type 7 and 15 due to no data\n",
    "    df.drop(columns=[\"Soil_Type7\", \"Soil_Type15\"], inplace=True)\n",
    "    # Remove soil type 19, 37, 34, 21, 27,36,28,8,25 due to no limited data - TODO: should we be dropping these? \n",
    "    df.drop(columns=[\"Soil_Type19\", \"Soil_Type37\",\"Soil_Type34\", \"Soil_Type21\",\"Soil_Type27\", \"Soil_Type36\",\"Soil_Type28\",\"Soil_Type8\", \"Soil_Type25\"], inplace=True)\n",
    "    return df"
   ]
  },
  {
   "cell_type": "code",
   "execution_count": null,
   "metadata": {},
   "outputs": [],
   "source": [
    "# train_df = drop_soil(train_df)\n",
    "# test_df = drop_soil(test_df)"
   ]
  },
  {
   "cell_type": "markdown",
   "metadata": {},
   "source": [
    "#### Combine Similar Soil Types"
   ]
  },
  {
   "cell_type": "code",
   "execution_count": null,
   "metadata": {},
   "outputs": [],
   "source": [
    "def st_fe1(df):\n",
    "    # Combine soil type 35,38,39, 40\n",
    "    df[\"soil_type35383940\"] = df[\"Soil_Type38\"] +  df[\"Soil_Type39\"] + df[\"Soil_Type40\"] +  df[\"Soil_Type35\"]\n",
    "    # Combine soil type 10,11, 16, 17\n",
    "    df[\"st10111617\"] = df[\"Soil_Type10\"] + df[\"Soil_Type11\"] + df[\"Soil_Type16\"] + df[\"Soil_Type17\"]\n",
    "    # Combine soil type 9, 12\n",
    "    df[\"st912\"] = df[\"Soil_Type9\"] + df[\"Soil_Type12\"] \n",
    "    # Combine soil type 31,33\n",
    "    df[\"st3133\"] = df[\"Soil_Type31\"] + df[\"Soil_Type33\"]\n",
    "    # Combine soil type 23, 24\n",
    "    df[\"st2324\"] = df[\"Soil_Type23\"] + df[\"Soil_Type24\"]\n",
    "    # Combine soil type 6 and wilderness area 4\n",
    "    df[\"st6w4\"] = df[\"Soil_Type6\"] + df[\"Wilderness_Area4\"]\n",
    "#     df.drop(columns=[\"Soil_Type35\",\"Soil_Type38\", \"Soil_Type39\",'Soil_Type40','Soil_Type10','Soil_Type11','Soil_Type16','Soil_Type17','Soil_Type9','Soil_Type12','Soil_Type31','Soil_Type33','Soil_Type23','Soil_Type24','Soil_Type6','Wilderness_Area4'], inplace=True)\n",
    "    return df"
   ]
  },
  {
   "cell_type": "code",
   "execution_count": null,
   "metadata": {},
   "outputs": [],
   "source": [
    "# train_df = st_fe1(train_df)\n",
    "# test_df = st_fe1(test_df)"
   ]
  },
  {
   "cell_type": "code",
   "execution_count": 6,
   "metadata": {},
   "outputs": [],
   "source": [
    "def st_fe2(df):    \n",
    "    # pull in the text of the soil types\n",
    "    with open(\"km_EDA/soil_raw.txt\") as f:\n",
    "        s_raw = f.read()\n",
    "\n",
    "    # lowercase everything to make it easier to work with\n",
    "    s = s_raw.lower()\n",
    "\n",
    "    # take out punctuation and numbers.\n",
    "    pattern = re.compile(r\"[\\d\\.,-]\")\n",
    "    s = pattern.sub(\" \",s)\n",
    "\n",
    "    # take out filler words \"family\",\"families\",\"complex\"\n",
    "    pattern = re.compile(r\"(family|families|complex|typic)\")\n",
    "    s = pattern.sub(\" \",s)\n",
    "\n",
    "    # replace cryaquolis/aquolis (doesn't exist) with cryaquolls/aquolls\n",
    "    pattern = re.compile(r\"aquolis\")\n",
    "    s = pattern.sub(\"aquolls\",s)\n",
    "\n",
    "    # the \"unspecified\" row doesn't contain any data\n",
    "    pattern = re.compile(r\"unspecified in the usfs soil and elu survey\")\n",
    "    s = pattern.sub(\" \",s)\n",
    "\n",
    "    #replace the space in words separated by a single space with an underscore\n",
    "    pattern = re.compile(r\"(\\w+) (\\w+)\")\n",
    "    s = pattern.sub(r\"\\1_\\2\",s)\n",
    "\n",
    "\n",
    "\n",
    "    ### COUNT AND TRANSFORM THE DATA ###\n",
    "    cv = CountVectorizer()\n",
    "    # create the counts matrix based on word occurences in our processed soil types\n",
    "    counts = cv.fit_transform(s.split(\"\\n\"))\n",
    "    # we can use the counts as a transformation matrix to convert to our refined categories\n",
    "    xform = counts.toarray()\n",
    "\n",
    "    ## Explanation of xform\n",
    "        # It turns out that multiplying our original soil matrix by xform using matrix mutiplication\n",
    "        # will just give us a matrix that has been converted to the new feature space. \n",
    "\n",
    "    # Grab out the new features (that are replacing s_01 thru s_40)\n",
    "    new_cats = cv.get_feature_names()\n",
    "    print(\"-- New Feature Names --\")\n",
    "    print(new_cats,\"\\n\")\n",
    "\n",
    "    # get original soil names\n",
    "    og_soil_col_names = [(\"Soil_Type{:d}\".format(ii+1)) for ii in range(40)]\n",
    "\n",
    "    # get columns containing soil information from our dataframe.\n",
    "    soil_cols = np.array(df[og_soil_col_names])\n",
    "\n",
    "    # transform the soil features. Put them into a dataframe.\n",
    "    trans_soil = np.matmul(soil_cols,xform)\n",
    "    trans_soil_df = pd.DataFrame(data = trans_soil, columns = new_cats)\n",
    "    display(trans_soil_df)\n",
    "\n",
    "    ## Remove the features that have very low occurence rates\n",
    "\n",
    "    # print(trans_soil_df.sum(axis=0))\n",
    "        # print occurence rates of the various features\n",
    "\n",
    "    # remove low occurence soil types\n",
    "    occ_lim = 1400 #0, 2,100,300,900,1400 default # remove columns that have less than occ_lim examples in the data\n",
    "    high_occ_ser = trans_soil_df.sum(axis=0) >= occ_lim\n",
    "    high_occ_names = [entry for entry in high_occ_ser.index if high_occ_ser[entry]]\n",
    "    trans_soil_df = trans_soil_df[high_occ_names]\n",
    "    display(trans_soil_df)\n",
    "\n",
    "    # combine the new soil features with the existing freatures in a single df\n",
    "    df = df.drop(columns=og_soil_col_names)\n",
    "    df = pd.concat([df, trans_soil_df],axis=1)\n",
    "    df = df[[col for col in df if col not in [\"Cover_Type\"]]+[\"Cover_Type\"]] #want cover type as last column\n",
    "    return df"
   ]
  },
  {
   "cell_type": "code",
   "execution_count": 7,
   "metadata": {},
   "outputs": [],
   "source": [
    "# train_df = st_fe2(train_df)\n"
   ]
  },
  {
   "cell_type": "markdown",
   "metadata": {
    "id": "wZuK7AndohgG"
   },
   "source": [
    "#### Transform Aspect \n",
    "\n",
    "Now we'll transform the Asepct feature.\n",
    "TODO: Explain more"
   ]
  },
  {
   "cell_type": "code",
   "execution_count": 8,
   "metadata": {
    "colab": {
     "base_uri": "https://localhost:8080/"
    },
    "id": "NDsS0rDjogRD",
    "outputId": "4685935a-5512-4811-a369-2c50940d9933"
   },
   "outputs": [],
   "source": [
    "def asp_to_vct(df):\n",
    "    # Convert aspect into sine and cosine values \n",
    "    df[\"ap_ew\"] = np.sin(df[\"Aspect\"]/180*np.pi)\n",
    "    df[\"ap_ns\"] = np.cos(df[\"Aspect\"]/180*np.pi)\n",
    "\n",
    "    # Drop Aspect column\n",
    "    df.drop(columns= [\"Aspect\"], inplace=True)\n",
    "    return df"
   ]
  },
  {
   "cell_type": "code",
   "execution_count": 9,
   "metadata": {},
   "outputs": [
    {
     "ename": "NameError",
     "evalue": "name 'train_df' is not defined",
     "output_type": "error",
     "traceback": [
      "\u001b[0;31m---------------------------------------------------------------------------\u001b[0m",
      "\u001b[0;31mNameError\u001b[0m                                 Traceback (most recent call last)",
      "\u001b[0;32m<ipython-input-9-db6a565ed4a7>\u001b[0m in \u001b[0;36m<module>\u001b[0;34m\u001b[0m\n\u001b[0;32m----> 1\u001b[0;31m \u001b[0mtrain_df\u001b[0m \u001b[0;34m=\u001b[0m \u001b[0masp_to_vct\u001b[0m\u001b[0;34m(\u001b[0m\u001b[0mtrain_df\u001b[0m\u001b[0;34m)\u001b[0m\u001b[0;34m\u001b[0m\u001b[0;34m\u001b[0m\u001b[0m\n\u001b[0m\u001b[1;32m      2\u001b[0m \u001b[0mtest_df\u001b[0m \u001b[0;34m=\u001b[0m \u001b[0masp_to_vct\u001b[0m\u001b[0;34m(\u001b[0m\u001b[0mtest_df\u001b[0m\u001b[0;34m)\u001b[0m\u001b[0;34m\u001b[0m\u001b[0;34m\u001b[0m\u001b[0m\n",
      "\u001b[0;31mNameError\u001b[0m: name 'train_df' is not defined"
     ]
    }
   ],
   "source": [
    "train_df = asp_to_vct(train_df)\n",
    "test_df = asp_to_vct(test_df)"
   ]
  },
  {
   "cell_type": "code",
   "execution_count": 10,
   "metadata": {
    "colab": {
     "base_uri": "https://localhost:8080/",
     "height": 279
    },
    "id": "PsMf4ZAqoggM",
    "outputId": "78892119-0b4a-4747-d2bf-4fd0963dacf7"
   },
   "outputs": [
    {
     "ename": "NameError",
     "evalue": "name 'train_df' is not defined",
     "output_type": "error",
     "traceback": [
      "\u001b[0;31m---------------------------------------------------------------------------\u001b[0m",
      "\u001b[0;31mNameError\u001b[0m                                 Traceback (most recent call last)",
      "\u001b[0;32m<ipython-input-10-510a6ce5c81e>\u001b[0m in \u001b[0;36m<module>\u001b[0;34m\u001b[0m\n\u001b[1;32m      1\u001b[0m \u001b[0;31m# Visualize cover type VS the cosine of Aspect degerees\u001b[0m\u001b[0;34m\u001b[0m\u001b[0;34m\u001b[0m\u001b[0;34m\u001b[0m\u001b[0m\n\u001b[1;32m      2\u001b[0m \u001b[0mfig\u001b[0m\u001b[0;34m,\u001b[0m\u001b[0;34m(\u001b[0m\u001b[0max1\u001b[0m\u001b[0;34m,\u001b[0m\u001b[0max2\u001b[0m\u001b[0;34m)\u001b[0m \u001b[0;34m=\u001b[0m \u001b[0mplt\u001b[0m\u001b[0;34m.\u001b[0m\u001b[0msubplots\u001b[0m\u001b[0;34m(\u001b[0m\u001b[0;36m1\u001b[0m\u001b[0;34m,\u001b[0m\u001b[0;36m2\u001b[0m\u001b[0;34m,\u001b[0m\u001b[0mfigsize\u001b[0m\u001b[0;34m=\u001b[0m\u001b[0;34m(\u001b[0m\u001b[0;36m12\u001b[0m\u001b[0;34m,\u001b[0m\u001b[0;36m4\u001b[0m\u001b[0;34m)\u001b[0m\u001b[0;34m)\u001b[0m\u001b[0;34m\u001b[0m\u001b[0;34m\u001b[0m\u001b[0m\n\u001b[0;32m----> 3\u001b[0;31m \u001b[0msns\u001b[0m\u001b[0;34m.\u001b[0m\u001b[0mviolinplot\u001b[0m\u001b[0;34m(\u001b[0m\u001b[0mx\u001b[0m\u001b[0;34m=\u001b[0m\u001b[0mtrain_df\u001b[0m\u001b[0;34m[\u001b[0m\u001b[0;34m'Cover_Type'\u001b[0m\u001b[0;34m]\u001b[0m\u001b[0;34m,\u001b[0m\u001b[0my\u001b[0m\u001b[0;34m=\u001b[0m\u001b[0mtrain_df\u001b[0m\u001b[0;34m[\u001b[0m\u001b[0;34m'ap_ew'\u001b[0m\u001b[0;34m]\u001b[0m\u001b[0;34m,\u001b[0m\u001b[0max\u001b[0m\u001b[0;34m=\u001b[0m\u001b[0max1\u001b[0m\u001b[0;34m)\u001b[0m\u001b[0;34m\u001b[0m\u001b[0;34m\u001b[0m\u001b[0m\n\u001b[0m\u001b[1;32m      4\u001b[0m \u001b[0msns\u001b[0m\u001b[0;34m.\u001b[0m\u001b[0mhistplot\u001b[0m\u001b[0;34m(\u001b[0m\u001b[0mtrain_df\u001b[0m\u001b[0;34m[\u001b[0m\u001b[0;34m'ap_ew'\u001b[0m\u001b[0;34m]\u001b[0m\u001b[0;34m,\u001b[0m\u001b[0max\u001b[0m\u001b[0;34m=\u001b[0m\u001b[0max2\u001b[0m\u001b[0;34m)\u001b[0m\u001b[0;34m\u001b[0m\u001b[0;34m\u001b[0m\u001b[0m\n\u001b[1;32m      5\u001b[0m \u001b[0mplt\u001b[0m\u001b[0;34m.\u001b[0m\u001b[0mshow\u001b[0m\u001b[0;34m(\u001b[0m\u001b[0;34m)\u001b[0m\u001b[0;34m\u001b[0m\u001b[0;34m\u001b[0m\u001b[0m\n",
      "\u001b[0;31mNameError\u001b[0m: name 'train_df' is not defined"
     ]
    },
    {
     "data": {
      "image/png": "[encoded data removed]",
      "text/plain": [
       "<Figure size 864x288 with 2 Axes>"
      ]
     },
     "metadata": {},
     "output_type": "display_data"
    }
   ],
   "source": [
    "# Visualize cover type VS the cosine of Aspect degerees\n",
    "fig,(ax1,ax2) = plt.subplots(1,2,figsize=(12,4))\n",
    "sns.violinplot(x=train_df['Cover_Type'],y=train_df['ap_ew'],ax=ax1)\n",
    "sns.histplot(train_df['ap_ew'],ax=ax2)\n",
    "plt.show()"
   ]
  },
  {
   "cell_type": "markdown",
   "metadata": {
    "id": "wgCP2gE3pDjR"
   },
   "source": [
    "After the feature transformation, we see improved distinction in median values, espeically for cover type 6, where the median is notably higher than that of other cover types  and the distribution is concentrated around the median. "
   ]
  },
  {
   "cell_type": "markdown",
   "metadata": {
    "id": "Xf7E4Dv7Jyei"
   },
   "source": [
    "#### Log and Polynomial Transformations\n",
    "\n",
    "Now we'll log transform the features related to the distances."
   ]
  },
  {
   "cell_type": "code",
   "execution_count": 11,
   "metadata": {
    "colab": {
     "base_uri": "https://localhost:8080/"
    },
    "id": "dpmINoqU57Li",
    "outputId": "b31e9a71-1c9d-49af-f303-e8c9eaab4d2e"
   },
   "outputs": [],
   "source": [
    "def log_poly_fe(df):   \n",
    "     # Complie a list of features to perform log transformation\n",
    "    fe4_cols = ['Horizontal_Distance_To_Hydrology',\n",
    "           'Horizontal_Distance_To_Roadways','Horizontal_Distance_To_Fire_Points']\n",
    "\n",
    "    # Add minimum plus 1 to ensure no negative or 0 in the values \n",
    "    df[fe4_cols] = df[fe4_cols] +1\n",
    "\n",
    "    # Log transform\n",
    "    df[fe4_cols] = np.log(df[fe4_cols])\n",
    "\n",
    "    # Add a polynominal feature\n",
    "    df[\"elv_pwd\"] = df[\"Elevation\"]**2\n",
    "    return df"
   ]
  },
  {
   "cell_type": "code",
   "execution_count": 12,
   "metadata": {},
   "outputs": [
    {
     "ename": "NameError",
     "evalue": "name 'train_df' is not defined",
     "output_type": "error",
     "traceback": [
      "\u001b[0;31m---------------------------------------------------------------------------\u001b[0m",
      "\u001b[0;31mNameError\u001b[0m                                 Traceback (most recent call last)",
      "\u001b[0;32m<ipython-input-12-d5e8aac378e2>\u001b[0m in \u001b[0;36m<module>\u001b[0;34m\u001b[0m\n\u001b[0;32m----> 1\u001b[0;31m \u001b[0mtrain_df\u001b[0m \u001b[0;34m=\u001b[0m \u001b[0mlog_poly_fe\u001b[0m\u001b[0;34m(\u001b[0m\u001b[0mtrain_df\u001b[0m\u001b[0;34m)\u001b[0m\u001b[0;34m\u001b[0m\u001b[0;34m\u001b[0m\u001b[0m\n\u001b[0m\u001b[1;32m      2\u001b[0m \u001b[0mtest_df\u001b[0m \u001b[0;34m=\u001b[0m \u001b[0mlog_poly_fe\u001b[0m\u001b[0;34m(\u001b[0m\u001b[0mtest_df\u001b[0m\u001b[0;34m)\u001b[0m\u001b[0;34m\u001b[0m\u001b[0;34m\u001b[0m\u001b[0m\n",
      "\u001b[0;31mNameError\u001b[0m: name 'train_df' is not defined"
     ]
    }
   ],
   "source": [
    "train_df = log_poly_fe(train_df)\n",
    "test_df = log_poly_fe(test_df)"
   ]
  },
  {
   "cell_type": "markdown",
   "metadata": {},
   "source": [
    "#### Drop ID, Hillshade_9am and Vertical Distance.\n"
   ]
  },
  {
   "cell_type": "code",
   "execution_count": 13,
   "metadata": {},
   "outputs": [],
   "source": [
    "def drop_fes(df):\n",
    "    df.drop(columns=[\"Id\",\"Hillshade_9am\",\"Vertical_Distance_To_Hydrology\"],inplace=True)\n",
    "    return df\n"
   ]
  },
  {
   "cell_type": "code",
   "execution_count": 14,
   "metadata": {},
   "outputs": [
    {
     "ename": "NameError",
     "evalue": "name 'train_df' is not defined",
     "output_type": "error",
     "traceback": [
      "\u001b[0;31m---------------------------------------------------------------------------\u001b[0m",
      "\u001b[0;31mNameError\u001b[0m                                 Traceback (most recent call last)",
      "\u001b[0;32m<ipython-input-14-c4767e8aa741>\u001b[0m in \u001b[0;36m<module>\u001b[0;34m\u001b[0m\n\u001b[0;32m----> 1\u001b[0;31m \u001b[0mtrain_df\u001b[0m \u001b[0;34m=\u001b[0m \u001b[0mdrop_fes\u001b[0m\u001b[0;34m(\u001b[0m\u001b[0mtrain_df\u001b[0m\u001b[0;34m)\u001b[0m\u001b[0;34m\u001b[0m\u001b[0;34m\u001b[0m\u001b[0m\n\u001b[0m\u001b[1;32m      2\u001b[0m \u001b[0mtest_df\u001b[0m \u001b[0;34m=\u001b[0m \u001b[0mdrop_fes\u001b[0m\u001b[0;34m(\u001b[0m\u001b[0mtest_df\u001b[0m\u001b[0;34m)\u001b[0m\u001b[0;34m\u001b[0m\u001b[0;34m\u001b[0m\u001b[0m\n",
      "\u001b[0;31mNameError\u001b[0m: name 'train_df' is not defined"
     ]
    }
   ],
   "source": [
    "train_df = drop_fes(train_df)\n",
    "test_df = drop_fes(test_df)"
   ]
  },
  {
   "cell_type": "code",
   "execution_count": 15,
   "metadata": {},
   "outputs": [
    {
     "ename": "NameError",
     "evalue": "name 'train_df' is not defined",
     "output_type": "error",
     "traceback": [
      "\u001b[0;31m---------------------------------------------------------------------------\u001b[0m",
      "\u001b[0;31mNameError\u001b[0m                                 Traceback (most recent call last)",
      "\u001b[0;32m<ipython-input-15-a0a4b471d5a9>\u001b[0m in \u001b[0;36m<module>\u001b[0;34m\u001b[0m\n\u001b[1;32m      1\u001b[0m \u001b[0;31m#check shape of train and test df\u001b[0m\u001b[0;34m\u001b[0m\u001b[0;34m\u001b[0m\u001b[0;34m\u001b[0m\u001b[0m\n\u001b[0;32m----> 2\u001b[0;31m \u001b[0mprint\u001b[0m\u001b[0;34m(\u001b[0m\u001b[0mtrain_df\u001b[0m\u001b[0;34m.\u001b[0m\u001b[0mshape\u001b[0m\u001b[0;34m)\u001b[0m\u001b[0;34m\u001b[0m\u001b[0;34m\u001b[0m\u001b[0m\n\u001b[0m\u001b[1;32m      3\u001b[0m \u001b[0mprint\u001b[0m\u001b[0;34m(\u001b[0m\u001b[0mtest_df\u001b[0m\u001b[0;34m.\u001b[0m\u001b[0mshape\u001b[0m\u001b[0;34m)\u001b[0m\u001b[0;34m\u001b[0m\u001b[0;34m\u001b[0m\u001b[0m\n",
      "\u001b[0;31mNameError\u001b[0m: name 'train_df' is not defined"
     ]
    }
   ],
   "source": [
    "#check shape of train and test df\n",
    "print(train_df.shape)\n",
    "print(test_df.shape)"
   ]
  },
  {
   "cell_type": "markdown",
   "metadata": {
    "id": "ESbQKHhFRBGm"
   },
   "source": [
    "#### Split Data into Train/Dev/Test\n",
    "\n",
    "Then, we split the training data into a training data set (80%) and development data set (20%). We will also have a large, separate test data set. "
   ]
  },
  {
   "cell_type": "code",
   "execution_count": null,
   "metadata": {
    "colab": {
     "base_uri": "https://localhost:8080/",
     "height": 349
    },
    "id": "A8E-qeqURBGn",
    "outputId": "08edd245-eaec-4c64-a7d5-aed884f99e62"
   },
   "outputs": [],
   "source": [
    "# Split training data (labeled) into 80% training and 20% dev) and randomly sample \n",
    "training_data = train_df.sample(frac=0.8)\n",
    "dev_data_df = train_df.drop(training_data.index)\n",
    "\n",
    "# Examine shape of both data sets\n",
    "print(training_data.shape)\n",
    "print(dev_data_df.shape)\n",
    "\n",
    "# Briefly examine feature attributes for the training data \n",
    "training_data.describe()"
   ]
  },
  {
   "cell_type": "code",
   "execution_count": null,
   "metadata": {
    "colab": {
     "base_uri": "https://localhost:8080/"
    },
    "id": "ORB17ckvRBGq",
    "outputId": "2e7dc9a2-cb71-4469-d545-b9fa95d12866"
   },
   "outputs": [],
   "source": [
    "# Split into data and labels\n",
    "train_data = training_data.drop(columns=[\"Cover_Type\"])\n",
    "train_labels = training_data[\"Cover_Type\"]\n",
    "dev_data = dev_data_df.drop(columns=[\"Cover_Type\"])\n",
    "dev_labels = dev_data_df[\"Cover_Type\"]\n",
    "test_data = test_df\n",
    "\n",
    "# Double check the shape\n",
    "print(train_data.shape)\n",
    "print(dev_data.shape)\n",
    "print(test_data.shape)"
   ]
  },
  {
   "cell_type": "markdown",
   "metadata": {
    "id": "e020Gy6-RBGq"
   },
   "source": [
    "#### Scale Data\n",
    "Additionally, we will scale the training data to have a mean of 0 and a variance of 1. Then we will retrieve the original training mean and variance for each feature and use that to standardize the development data."
   ]
  },
  {
   "cell_type": "code",
   "execution_count": 24,
   "metadata": {
    "id": "YbrgEHOVXz8e"
   },
   "outputs": [],
   "source": [
    "# Compile a list for columns for scaling\n",
    "ss_cols = ['Elevation','Slope', 'Horizontal_Distance_To_Hydrology',\n",
    "       'Horizontal_Distance_To_Roadways',\n",
    "       'Horizontal_Distance_To_Fire_Points','elv_pwd']"
   ]
  },
  {
   "cell_type": "code",
   "execution_count": 25,
   "metadata": {
    "colab": {
     "base_uri": "https://localhost:8080/"
    },
    "id": "T34BrVQIRBGu",
    "outputId": "ade2e4f8-7787-4726-d4ec-9352ddc288ed"
   },
   "outputs": [],
   "source": [
    "# Normalize features using the standard scaler [training data]\n",
    "def scaler(ss=\"\",cols=ss_cols):\n",
    "    if ss == \"minmax\":\n",
    "        scaler = MinMaxScaler()\n",
    "    else :\n",
    "        scaler = StandardScaler()\n",
    "        model = scaler.fit(train_data[cols])\n",
    "    train_data[cols] = model.transform(train_data[cols])\n",
    "    # Normalize features using the standard scaler [dev data]\n",
    "    dev_data[cols] = model.transform(dev_data[cols])\n",
    "    # Normalize features using the standard scaler [test data]\n",
    "    test_data[cols] = model.transform(test_data[cols])\n",
    "\n",
    "scaler()"
   ]
  },
  {
   "cell_type": "code",
   "execution_count": 26,
   "metadata": {
    "colab": {
     "base_uri": "https://localhost:8080/"
    },
    "id": "A4xIoBuxRBGy",
    "outputId": "a99023d4-4f4e-4bfb-dbbe-412d47f36629"
   },
   "outputs": [
    {
     "name": "stdout",
     "output_type": "stream",
     "text": [
      "Training data shape: (12096, 54) Training labels shape: (12096,)\n",
      "\n",
      "Dev data shape: (3024, 54) Dev labels shape: (3024, 54)\n",
      "\n",
      "Test data shape:  (565892, 54)\n"
     ]
    }
   ],
   "source": [
    "# Explore and confirm the shape of the data\n",
    "print(\"Training data shape: {0} Training labels shape: {1}\\n\".format(train_data.shape, train_labels.shape))\n",
    "print(\"Dev data shape: {0} Dev labels shape: {1}\\n\".format(dev_data.shape, dev_data.shape))\n",
    "print(\"Test data shape: \", test_data.shape)"
   ]
  },
  {
   "cell_type": "markdown",
   "metadata": {
    "id": "EvcBF_kJRBG3"
   },
   "source": [
    "## Models\n",
    "#### Random Forest"
   ]
  },
  {
   "cell_type": "code",
   "execution_count": 1,
   "metadata": {
    "colab": {
     "base_uri": "https://localhost:8080/",
     "height": 1000
    },
    "id": "zRzodyXmRBG3",
    "outputId": "cc7a36f4-a249-475f-f4c3-448549d6354b"
   },
   "outputs": [
    {
     "ename": "NameError",
     "evalue": "name 'RandomForestClassifier' is not defined",
     "output_type": "error",
     "traceback": [
      "\u001b[0;31m---------------------------------------------------------------------------\u001b[0m",
      "\u001b[0;31mNameError\u001b[0m                                 Traceback (most recent call last)",
      "\u001b[0;32m<ipython-input-1-4eb69deec069>\u001b[0m in \u001b[0;36m<module>\u001b[0;34m\u001b[0m\n\u001b[1;32m     18\u001b[0m \u001b[0mrandom_forest_results\u001b[0m \u001b[0;34m=\u001b[0m \u001b[0;34m{\u001b[0m\u001b[0;34m}\u001b[0m\u001b[0;34m\u001b[0m\u001b[0;34m\u001b[0m\u001b[0m\n\u001b[1;32m     19\u001b[0m \u001b[0;32mfor\u001b[0m \u001b[0mnum_trees\u001b[0m \u001b[0;32min\u001b[0m \u001b[0mnum_trees_list\u001b[0m\u001b[0;34m:\u001b[0m\u001b[0;34m\u001b[0m\u001b[0;34m\u001b[0m\u001b[0m\n\u001b[0;32m---> 20\u001b[0;31m     \u001b[0mscore\u001b[0m\u001b[0;34m,\u001b[0m \u001b[0mprobabilities\u001b[0m \u001b[0;34m=\u001b[0m \u001b[0mRandomForest\u001b[0m\u001b[0;34m(\u001b[0m\u001b[0mnum_trees\u001b[0m\u001b[0;34m)\u001b[0m\u001b[0;34m\u001b[0m\u001b[0;34m\u001b[0m\u001b[0m\n\u001b[0m\u001b[1;32m     21\u001b[0m     \u001b[0mrandom_forest_results\u001b[0m\u001b[0;34m[\u001b[0m\u001b[0mscore\u001b[0m\u001b[0;34m]\u001b[0m \u001b[0;34m=\u001b[0m \u001b[0mprobabilities\u001b[0m\u001b[0;34m\u001b[0m\u001b[0;34m\u001b[0m\u001b[0m\n",
      "\u001b[0;32m<ipython-input-1-4eb69deec069>\u001b[0m in \u001b[0;36mRandomForest\u001b[0;34m(num_trees)\u001b[0m\n\u001b[1;32m      1\u001b[0m \u001b[0;31m# Try a random forest - before any data cleaning\u001b[0m\u001b[0;34m\u001b[0m\u001b[0;34m\u001b[0m\u001b[0;34m\u001b[0m\u001b[0m\n\u001b[1;32m      2\u001b[0m \u001b[0;32mdef\u001b[0m \u001b[0mRandomForest\u001b[0m\u001b[0;34m(\u001b[0m\u001b[0mnum_trees\u001b[0m\u001b[0;34m)\u001b[0m\u001b[0;34m:\u001b[0m\u001b[0;34m\u001b[0m\u001b[0;34m\u001b[0m\u001b[0m\n\u001b[0;32m----> 3\u001b[0;31m     \u001b[0mmodel\u001b[0m \u001b[0;34m=\u001b[0m \u001b[0mRandomForestClassifier\u001b[0m\u001b[0;34m(\u001b[0m\u001b[0mnum_trees\u001b[0m\u001b[0;34m,\u001b[0m\u001b[0mmax_depth\u001b[0m\u001b[0;34m=\u001b[0m\u001b[0;36m8\u001b[0m\u001b[0;34m)\u001b[0m\u001b[0;34m\u001b[0m\u001b[0;34m\u001b[0m\u001b[0m\n\u001b[0m\u001b[1;32m      4\u001b[0m     \u001b[0mmodel\u001b[0m\u001b[0;34m.\u001b[0m\u001b[0mfit\u001b[0m\u001b[0;34m(\u001b[0m\u001b[0mtrain_data\u001b[0m\u001b[0;34m,\u001b[0m \u001b[0mtrain_labels\u001b[0m\u001b[0;34m)\u001b[0m\u001b[0;34m\u001b[0m\u001b[0;34m\u001b[0m\u001b[0m\n\u001b[1;32m      5\u001b[0m     \u001b[0mpredictions\u001b[0m \u001b[0;34m=\u001b[0m \u001b[0mmodel\u001b[0m\u001b[0;34m.\u001b[0m\u001b[0mpredict\u001b[0m\u001b[0;34m(\u001b[0m\u001b[0mdev_data\u001b[0m\u001b[0;34m)\u001b[0m\u001b[0;34m\u001b[0m\u001b[0;34m\u001b[0m\u001b[0m\n",
      "\u001b[0;31mNameError\u001b[0m: name 'RandomForestClassifier' is not defined"
     ]
    }
   ],
   "source": [
    "# Try a random forest - before any data cleaning \n",
    "def RandomForest(num_trees):\n",
    "    model = RandomForestClassifier(num_trees,max_depth=8)\n",
    "    model.fit(train_data, train_labels)\n",
    "    predictions = model.predict(dev_data)\n",
    "    score = model.score(dev_data, dev_labels)\n",
    "    probabilities = model.predict_proba(dev_data)\n",
    "    print(\"Random Forest Performance for {0} trees: {1}\".format(num_trees,score))\n",
    "    # Plot_confusion_matrix\n",
    "    plot_confusion_matrix(model, dev_data, dev_labels, values_format = \"d\")\n",
    "    plt.title(\"{} Tree Random Forest Confusion Matrix:\".format(num_trees))\n",
    "    plt.plot()\n",
    "    mse_forest = mean_squared_error(dev_labels, predictions)\n",
    "    print(\"Mean Squared Error: \", mse_forest)\n",
    "    return score, probabilities\n",
    "    \n",
    "num_trees_list = [1,3,5,10,100]\n",
    "random_forest_results = {}\n",
    "for num_trees in num_trees_list:\n",
    "    score, probabilities = RandomForest(num_trees)\n",
    "    random_forest_results[score] = probabilities"
   ]
  },
  {
   "cell_type": "markdown",
   "metadata": {
    "id": "ie2UMwSPRBG5"
   },
   "source": [
    "#### Naive Bayes (Bernoulli)"
   ]
  },
  {
   "cell_type": "code",
   "execution_count": 28,
   "metadata": {
    "colab": {
     "base_uri": "https://localhost:8080/",
     "height": 363
    },
    "id": "llTEtjHNRBG6",
    "outputId": "de4c4eee-4d79-4112-d692-02cfc8bdad87"
   },
   "outputs": [
    {
     "name": "stdout",
     "output_type": "stream",
     "text": [
      "BernoulliNB for alph = 0.01: accuracy = 0.6259920634920635\n",
      "\n",
      "\n",
      "\n"
     ]
    },
    {
     "data": {
      "image/png": "[encoded data removed]",
      "text/plain": [
       "<Figure size 576x396 with 2 Axes>"
      ]
     },
     "metadata": {},
     "output_type": "display_data"
    }
   ],
   "source": [
    "# Try Naive Bayes - Bernoulli \n",
    "def NB(alf):\n",
    "    model = BernoulliNB(alpha = alf)\n",
    "    model.fit(train_data, train_labels)\n",
    "    predictions = model.predict(dev_data)\n",
    "    score = model.score(dev_data, dev_labels)\n",
    "    print(\"BernoulliNB for alph = {0}: accuracy = {1}\".format(alf,score))\n",
    "    # Plot Confusion Matrix\n",
    "    plot_confusion_matrix(model, dev_data, dev_labels, values_format = \"d\")\n",
    "    plt.title(\"NB Confusion Matrix with alpha: {}\".format(alf))\n",
    "    plt.plot()\n",
    "    print('\\n\\n')\n",
    "    \n",
    "# the alpha isn't actually making a difference \n",
    "# alphas_list = [0.00001,0.001, 0.01, 0.1, 1, 10]\n",
    "alphas_list = [0.01]\n",
    "for alpha in alphas_list:\n",
    "    NB(alpha)"
   ]
  },
  {
   "cell_type": "markdown",
   "metadata": {
    "id": "Tx4b8LpURBG8"
   },
   "source": [
    "#### K-Nearest Neighbors"
   ]
  },
  {
   "cell_type": "code",
   "execution_count": 29,
   "metadata": {
    "colab": {
     "base_uri": "https://localhost:8080/",
     "height": 1000
    },
    "id": "ExCF6N3xRBG9",
    "outputId": "61334f21-000d-432a-d16a-90ce1de7d41e"
   },
   "outputs": [
    {
     "name": "stdout",
     "output_type": "stream",
     "text": [
      "KNN 1 neighbors : accuracy = 0.8495370370370371\n",
      "Mean Squared Error:  1.2939814814814814\n",
      "KNN 2 neighbors : accuracy = 0.8237433862433863\n",
      "Mean Squared Error:  1.4222883597883598\n",
      "KNN 4 neighbors : accuracy = 0.8290343915343915\n",
      "Mean Squared Error:  1.5069444444444444\n",
      "KNN 7 neighbors : accuracy = 0.8230820105820106\n",
      "Mean Squared Error:  1.6240079365079365\n",
      "KNN 10 neighbors : accuracy = 0.8134920634920635\n",
      "Mean Squared Error:  1.708994708994709\n"
     ]
    },
    {
     "data": {
      "image/png": "[encoded data removed]",
      "text/plain": [
       "<Figure size 576x396 with 2 Axes>"
      ]
     },
     "metadata": {},
     "output_type": "display_data"
    },
    {
     "data": {
      "image/png": "[encoded data removed]",
      "text/plain": [
       "<Figure size 576x396 with 2 Axes>"
      ]
     },
     "metadata": {},
     "output_type": "display_data"
    },
    {
     "data": {
      "image/png": "[encoded data removed]",
      "text/plain": [
       "<Figure size 576x396 with 2 Axes>"
      ]
     },
     "metadata": {},
     "output_type": "display_data"
    },
    {
     "data": {
      "image/png": "[encoded data removed]",
      "text/plain": [
       "<Figure size 576x396 with 2 Axes>"
      ]
     },
     "metadata": {},
     "output_type": "display_data"
    },
    {
     "data": {
      "image/png": "[encoded data removed]",
      "text/plain": [
       "<Figure size 576x396 with 2 Axes>"
      ]
     },
     "metadata": {},
     "output_type": "display_data"
    }
   ],
   "source": [
    "# Try K Nearest Neighbors - before any data cleaning \n",
    "def KNN(kn):\n",
    "    model = KNeighborsClassifier(n_neighbors = kn)\n",
    "    model.fit(train_data, train_labels)\n",
    "    predictions = model.predict(dev_data)\n",
    "    score = model.score(dev_data, dev_labels)\n",
    "    print(\"KNN {0} neighbors : accuracy = {1}\".format(kn,score))\n",
    "    probabilities = model.predict_proba(dev_data)\n",
    "    # Plot Confusion Matrix\n",
    "    plot_confusion_matrix(model, dev_data, dev_labels, values_format = \"d\")\n",
    "    plt.title(\"KNN Confusion Matrix with {} Neighbors\".format(kn))\n",
    "    plt.plot()\n",
    "    mse_knn = mean_squared_error(dev_labels, predictions)\n",
    "    print(\"Mean Squared Error: \", mse_knn)\n",
    "    return score, probabilities\n",
    "    \n",
    "# The alpha isn't actually making a difference \n",
    "neigh_list = [1,2,4, 7, 10]\n",
    "knn_results = {}\n",
    "for neigh in neigh_list:\n",
    "    score, probabilities = KNN(neigh)\n",
    "    knn_results[score] = probabilities "
   ]
  },
  {
   "cell_type": "markdown",
   "metadata": {
    "id": "9tO8GCQIRBG_"
   },
   "source": [
    "#### Multi-layer Perceptron"
   ]
  },
  {
   "cell_type": "code",
   "execution_count": 30,
   "metadata": {
    "colab": {
     "base_uri": "https://localhost:8080/",
     "height": 366
    },
    "id": "_sYGejCORBG_",
    "outputId": "6cabe738-19f6-4045-bd66-9ee1f0f6a3fe"
   },
   "outputs": [
    {
     "name": "stdout",
     "output_type": "stream",
     "text": [
      "MLP accuracy =  0.8597883597883598\n",
      "Mean Squared Error:  1.156084656084656\n"
     ]
    },
    {
     "data": {
      "image/png": "[encoded data removed]",
      "text/plain": [
       "<Figure size 576x396 with 2 Axes>"
      ]
     },
     "metadata": {},
     "output_type": "display_data"
    }
   ],
   "source": [
    "# Try Multi-Layer Perceptron - before any data cleaning \n",
    "def MLP():\n",
    "    #    model = MLPClassifier(solver='adam', alpha=1e-6, hidden_layer_sizes=(100, ), random_state=0) .8257\n",
    "    #    model = MLPClassifier(solver='adam', alpha=1e-3, hidden_layer_sizes=(100, ), random_state=0)  .82969\n",
    "    #    model = MLPClassifier(solver='adam', alpha=1e-3, hidden_layer_sizes=(200, ), random_state=0) .837\n",
    "    #    model = MLPClassifier(solver='adam', alpha=1e-3, hidden_layer_sizes=(100, ), random_state=0, activation='tanh') .83068\n",
    "\n",
    "    # Default activation is 'relu', random state lets us get the same result every time (so we can tune other parameters)\n",
    "    # max_iter is 200 by default, but more helps. alpha is the regularization parameter. solver is 'adam' by default\n",
    "    model = MLPClassifier(alpha=1e-3, hidden_layer_sizes=(300,), random_state=0, max_iter=500) \n",
    "    model.fit(train_data, train_labels) \n",
    "    predictions = model.predict(dev_data)\n",
    "    score = model.score(dev_data, dev_labels)\n",
    "    probabilities = model.predict_proba(dev_data)\n",
    "    plot_confusion_matrix(model, dev_data, dev_labels, values_format = \"d\")\n",
    "    plt.title(\"MLP Confusion Matrix\")\n",
    "    plt.plot()\n",
    "    print(\"MLP accuracy = \",score)\n",
    "    mse_nn = mean_squared_error(dev_labels, predictions)\n",
    "    print(\"Mean Squared Error: \", mse_nn)\n",
    "    y_pred = model.predict(test_data)\n",
    "        \n",
    "    return score, probabilities, y_pred\n",
    "\n",
    "mlp_results = {}\n",
    "score, probabilities, y_pred = MLP()\n",
    "mlp_results[score] = probabilities "
   ]
  },
  {
   "cell_type": "markdown",
   "metadata": {
    "id": "_Vta0OkyT-AM"
   },
   "source": [
    "#### Logistic Regression"
   ]
  },
  {
   "cell_type": "code",
   "execution_count": 31,
   "metadata": {
    "colab": {
     "base_uri": "https://localhost:8080/"
    },
    "id": "VJb8RxsucrLx",
    "outputId": "8573fecf-0537-4809-fe8d-909d48b0f4a1"
   },
   "outputs": [
    {
     "name": "stdout",
     "output_type": "stream",
     "text": [
      "Logistic Regression accuracy =  0.7013888888888888\n"
     ]
    }
   ],
   "source": [
    "# Logistic regression\n",
    "def LR():\n",
    "    model = LogisticRegression(random_state=0, multi_class='ovr',solver='lbfgs', max_iter = 300)\n",
    "    model.fit(train_data, train_labels)\n",
    "    score = model.score(dev_data,dev_labels)\n",
    "    print(\"Logistic Regression accuracy = \",score)\n",
    "LR()"
   ]
  },
  {
   "cell_type": "markdown",
   "metadata": {},
   "source": [
    "#### Neural Network with Tensorflow"
   ]
  },
  {
   "cell_type": "code",
   "execution_count": 32,
   "metadata": {},
   "outputs": [
    {
     "data": {
      "text/plain": [
       "True"
      ]
     },
     "execution_count": 32,
     "metadata": {},
     "output_type": "execute_result"
    }
   ],
   "source": [
    "tf.executing_eagerly()"
   ]
  },
  {
   "cell_type": "code",
   "execution_count": 33,
   "metadata": {},
   "outputs": [
    {
     "data": {
      "text/plain": [
       "((12096, 54), (12096,))"
      ]
     },
     "execution_count": 33,
     "metadata": {},
     "output_type": "execute_result"
    }
   ],
   "source": [
    "train_data[:1].shape\n",
    "train_data.to_numpy().shape, train_labels.to_numpy().shape"
   ]
  },
  {
   "cell_type": "code",
   "execution_count": 34,
   "metadata": {},
   "outputs": [
    {
     "name": "stdout",
     "output_type": "stream",
     "text": [
      "Epoch 1/5\n",
      "12096/12096 [==============================] - 1s 44us/sample - loss: 1.0794 - acc: 0.6014\n",
      "Epoch 2/5\n",
      "12096/12096 [==============================] - 1s 42us/sample - loss: 0.7388 - acc: 0.6907\n",
      "Epoch 3/5\n",
      "12096/12096 [==============================] - ETA: 0s - loss: 0.6839 - acc: 0.714 - 0s 40us/sample - loss: 0.6840 - acc: 0.7140\n",
      "Epoch 4/5\n",
      "12096/12096 [==============================] - 0s 41us/sample - loss: 0.6544 - acc: 0.7266\n",
      "Epoch 5/5\n",
      "12096/12096 [==============================] - 1s 44us/sample - loss: 0.6307 - acc: 0.7323\n"
     ]
    },
    {
     "data": {
      "text/plain": [
       "<tensorflow.python.keras.callbacks.History at 0x23e926a3448>"
      ]
     },
     "execution_count": 34,
     "metadata": {},
     "output_type": "execute_result"
    }
   ],
   "source": [
    "model = tf.keras.models.Sequential([\n",
    "  tf.keras.layers.Flatten(input_shape=(54,)),\n",
    "  tf.keras.layers.Dense(128, activation='relu'),\n",
    "  tf.keras.layers.Dropout(0.2),\n",
    "  tf.keras.layers.Dense(10)\n",
    "])\n",
    "\n",
    "# Retrieve predictions \n",
    "predictions = model(train_data[:-1].to_numpy())\n",
    "# Convert logits to probabilities\n",
    "tf.nn.softmax(predictions).numpy()\n",
    "loss_fn = tf.keras.losses.SparseCategoricalCrossentropy(from_logits=True)\n",
    "model.compile(optimizer='adam',\n",
    "              loss=loss_fn,\n",
    "              metrics=['accuracy'])\n",
    "model.fit(train_data.to_numpy(), train_labels.to_numpy(), epochs=5)\n"
   ]
  },
  {
   "cell_type": "code",
   "execution_count": 35,
   "metadata": {},
   "outputs": [
    {
     "name": "stdout",
     "output_type": "stream",
     "text": [
      "3024/3024 - 0s - loss: 0.5926 - acc: 0.7636\n"
     ]
    },
    {
     "data": {
      "text/plain": [
       "[0.5925915487228878, 0.7635582]"
      ]
     },
     "execution_count": 35,
     "metadata": {},
     "output_type": "execute_result"
    }
   ],
   "source": [
    "model.evaluate(dev_data.to_numpy(),  dev_labels.to_numpy(), verbose=2)"
   ]
  },
  {
   "cell_type": "markdown",
   "metadata": {},
   "source": [
    "#### Generate Submission File"
   ]
  },
  {
   "cell_type": "code",
   "execution_count": 36,
   "metadata": {},
   "outputs": [],
   "source": [
    "#create submission file.\n",
    "def gen_sub(y_pred,model=\"MLP\"):\n",
    "    result = pd.DataFrame.from_dict(dict(zip(test_df_ID.to_list(),y_pred)), orient='index', columns=[\"Cover_Type\"])\n",
    "    result.to_csv(f\"submission{model}.csv\",index_label=\"Id\")\n",
    "gen_sub(y_pred)"
   ]
  },
  {
   "cell_type": "markdown",
   "metadata": {},
   "source": [
    "#### Ensemble\n",
    "\n",
    "Here we will combine the three best performing models and implement a \"voting\" system to try to improve accuracy. "
   ]
  },
  {
   "cell_type": "code",
   "execution_count": 37,
   "metadata": {},
   "outputs": [
    {
     "name": "stdout",
     "output_type": "stream",
     "text": [
      "Models disagreed on 2967/3024 dev examples.\n",
      "Mean Squared Error:  2.0955687830687832\n",
      "Accuracy:  0.8042328042328042\n"
     ]
    }
   ],
   "source": [
    "def Ensemble():\n",
    "    # Find max score from each model. best_scores shape: (3,)\n",
    "    best_scores = [max(mlp_results.keys()), max(knn_results.keys()),max(random_forest_results.keys())]\n",
    "    # Find maximum probability for each example for each model. prediction_probabilities shape: (3024, 3)\n",
    "    prediction_probabilities = [np.max(mlp_results[best_scores[0]],axis=1),np.max(knn_results[best_scores[1]],axis=1),np.max(random_forest_results[best_scores[2]],axis=1)]\n",
    "    prediction_probabilities = np.transpose(np.array(prediction_probabilities))\n",
    "    # Find highest predicted label. predicted_classes shape: (3024, 3)\n",
    "    predicted_classes = [np.argmax(mlp_results[best_scores[0]],axis=1)+1,np.argmax(knn_results[best_scores[1]],axis=1)+1,np.argmax(random_forest_results[best_scores[2]]+1,axis=1)]\n",
    "    predicted_classes = np.transpose(np.array(predicted_classes))\n",
    "    \n",
    "    # Determine final predictions\n",
    "    new_predictions = []\n",
    "    # Keep track of instances in which the models disagree for insight \n",
    "    count = 0\n",
    "    for i, row in enumerate(predicted_classes):\n",
    "        # Count instances of each class in the predictions\n",
    "        unique, counts = np.unique(row, return_counts=True)\n",
    "        zipped = dict(zip(unique, counts))\n",
    "        # Initialize Classification\n",
    "        classification = 0\n",
    "        # If there's only 1 unique value, all models agreed\n",
    "        if len(unique) == 1:\n",
    "            classification = unique[0]\n",
    "        # Two out of three models agreed\n",
    "        elif len(unique) == 2:\n",
    "            count += 1\n",
    "            classification = unique[np.argmax(counts)]\n",
    "        # All three models disagree. Choose the label with the highest probability \n",
    "        else:\n",
    "            count += 1\n",
    "            classification = prediction_probabilities[i][0]\n",
    "        # Assign the new prediction\n",
    "        new_predictions.append(classification)\n",
    "    print(\"Models disagreed on {0}/{1} dev examples.\".format(count, dev_labels.shape[0]))\n",
    "    return predicted_classes, np.array(new_predictions).astype(int)\n",
    "\n",
    "predicted_classes, new_predictions = Ensemble()\n",
    "mse_ensemble = mean_squared_error(dev_labels, new_predictions)\n",
    "accuracy = accuracy_score(dev_labels, new_predictions)\n",
    "print(\"Mean Squared Error: \", mse_ensemble)\n",
    "print(\"Accuracy: \", accuracy)"
   ]
  },
  {
   "cell_type": "code",
   "execution_count": 38,
   "metadata": {},
   "outputs": [
    {
     "data": {
      "text/plain": [
       "(array([446., 245., 399., 487., 568., 370., 509.]),\n",
       " array([0.        , 0.85714286, 1.71428571, 2.57142857, 3.42857143,\n",
       "        4.28571429, 5.14285714, 6.        ]),\n",
       " <BarContainer object of 7 artists>)"
      ]
     },
     "execution_count": 38,
     "metadata": {},
     "output_type": "execute_result"
    },
    {
     "data": {
      "image/png": "[encoded data removed]",
      "text/plain": [
       "<Figure size 576x396 with 4 Axes>"
      ]
     },
     "metadata": {},
     "output_type": "display_data"
    }
   ],
   "source": [
    "# Examine and Compare Histograms of Predictions\n",
    "fig, axes = plt.subplots(2,2)\n",
    "# Ensemble\n",
    "axes[0,0].hist(new_predictions, bins=7,color = 'red') \n",
    "# MLP\n",
    "axes[0,1].hist(predicted_classes[:,0], bins=7, color = 'orange') \n",
    "# KNN\n",
    "axes[1,0].hist(predicted_classes[:,1], bins=7, color = 'green') \n",
    "# Random Forest\n",
    "axes[1,1].hist(predicted_classes[:,2], bins=7, color = 'blue') "
   ]
  },
  {
   "cell_type": "markdown",
   "metadata": {
    "id": "hkdOOJi0RBHB"
   },
   "source": [
    "### End matter\n",
    "\n",
    "#### Acknowledgements/Sources\n",
    "\n",
    "* That helpful stack overflow post\n",
    "  * https://stackoverflow.com/questions/28663856/how-to-count-the-occurrence-of-certain-item-in-an-ndarray\n",
    "* Relevant Documentation\n",
    "  * KNeighborsClassifier\n",
    "    * https://scikit-learn.org/stable/modules/generated/sklearn.neighbors.KNeighborsClassifier.html\n",
    "  * Pretty Confusion Matrix\n",
    "    * https://scikit-learn.org/stable/modules/generated/sklearn.metrics.plot_confusion_matrix.html\n",
    "  * Preprocessing\n",
    "    * https://scikit-learn.org/stable/modules/generated/sklearn.preprocessing.normalize.html\n",
    "* Soil information\n",
    "  * https://www.uidaho.edu/cals/soil-orders/aridisols\n",
    "  \n",
    "#### Backup Formats\n",
    "\n",
    "*because sometimes you just want to look at the markdown or whatever real quick*"
   ]
  },
  {
   "cell_type": "code",
   "execution_count": 39,
   "metadata": {
    "colab": {
     "base_uri": "https://localhost:8080/"
    },
    "id": "QSnMBvI2RBHC",
    "outputId": "d2a9010d-2b5d-4e46-f559-4a01e6e6f948"
   },
   "outputs": [
    {
     "name": "stderr",
     "output_type": "stream",
     "text": [
      "[NbConvertApp] Converting notebook clear_cut_solution.ipynb to python\n",
      "[NbConvertApp] Writing 21964 bytes to backups\\clear-cut-solution.py\n",
      "[NbConvertApp] Converting notebook clear_cut_solution.ipynb to markdown\n",
      "[NbConvertApp] Support files will be in backups/clear-cut-solution_files\\\n",
      "[NbConvertApp] Making directory backups/clear-cut-solution_files\\backups\n",
      "[NbConvertApp] Making directory backups/clear-cut-solution_files\\backups\n",
      "[NbConvertApp] Making directory backups/clear-cut-solution_files\\backups\n",
      "[NbConvertApp] Making directory backups/clear-cut-solution_files\\backups\n",
      "[NbConvertApp] Making directory backups/clear-cut-solution_files\\backups\n",
      "[NbConvertApp] Making directory backups/clear-cut-solution_files\\backups\n",
      "[NbConvertApp] Making directory backups/clear-cut-solution_files\\backups\n",
      "[NbConvertApp] Making directory backups/clear-cut-solution_files\\backups\n",
      "[NbConvertApp] Making directory backups/clear-cut-solution_files\\backups\n",
      "[NbConvertApp] Making directory backups/clear-cut-solution_files\\backups\n",
      "[NbConvertApp] Making directory backups/clear-cut-solution_files\\backups\n",
      "[NbConvertApp] Making directory backups/clear-cut-solution_files\\backups\n",
      "[NbConvertApp] Writing 29783 bytes to backups\\clear-cut-solution.md\n",
      "[NbConvertApp] Converting notebook clear_cut_solution.ipynb to html\n",
      "[NbConvertApp] Writing 1069816 bytes to backups\\clear-cut-solution.html\n"
     ]
    }
   ],
   "source": [
    "#Create a backup of the jupyter notebook in a format for where changes are easier to see.\n",
    "!jupyter nbconvert clear_cut_solution.ipynb --to=\"python\" --output=\"backups/clear-cut-solution\"\n",
    "!jupyter nbconvert clear_cut_solution.ipynb --to markdown --output=\"backups/clear-cut-solution\"\n",
    "\n",
    "# Also archiving this bad boy\n",
    "!jupyter nbconvert clear_cut_solution.ipynb --to html --output=\"backups/clear-cut-solution\""
   ]
  }
 ],
 "metadata": {
  "colab": {
   "collapsed_sections": [],
   "include_colab_link": true,
   "name": "clear-cut-solution.ipynb",
   "provenance": [],
   "toc_visible": true
  },
  "environment": {
   "name": "tf-gpu.1-15.m58",
   "type": "gcloud",
   "uri": "gcr.io/deeplearning-platform-release/tf-gpu.1-15:m58"
  },
  "kernelspec": {
   "display_name": "Python 3",
   "language": "python",
   "name": "python3"
  },
  "language_info": {
   "codemirror_mode": {
    "name": "ipython",
    "version": 3
   },
   "file_extension": ".py",
   "mimetype": "text/x-python",
   "name": "python",
   "nbconvert_exporter": "python",
   "pygments_lexer": "ipython3",
   "version": "3.7.8"
  }
 },
 "nbformat": 4,
 "nbformat_minor": 4
}
